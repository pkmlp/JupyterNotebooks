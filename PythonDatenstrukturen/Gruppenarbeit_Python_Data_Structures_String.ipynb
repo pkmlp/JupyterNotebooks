{
 "cells": [
  {
   "cell_type": "markdown",
   "metadata": {},
   "source": [
    "# Python Data Structure: String"
   ]
  },
  {
   "cell_type": "markdown",
   "metadata": {},
   "source": [
    "Dieses Beispiel behandelt Python (list, tuple, set, dict, string) und behandelt folgende Fragen:\n",
    "- Was ist ein (list, tuple, dict, string, set)?\n",
    "- Wie wird ein (list, tuple, dict, string, set) definiert?\n",
    "- Wie kann die Länge eines (list, tuple, dict, string, set) ermittelt werden?\n",
    "- Wie kann ein Element an ein (list, tuple, dict, string, set) angefügt werden?\n",
    "- Wie kann ein Element in ein (list, tuple, dict, string, set) an einem bestimmten Ort eingefügt werden?\n",
    "- Wie kann ein Element aus einem (list, tuple, dict, string, set) ausgeschnitten/entfernt werden?\n",
    "- Wie kann über ein (list, tuple, dict, string, set) iteriert (jedes einzelne Element verarbeitet) werden?\n",
    "- Wie kann ein Teil (Slice) aus einem (list, tuple, dict, string, set) ausgeschnitten werden?"
   ]
  },
  {
   "cell_type": "markdown",
   "metadata": {},
   "source": [
    "## Was ist ein string?"
   ]
  },
  {
   "cell_type": "code",
   "execution_count": null,
   "metadata": {},
   "outputs": [],
   "source": [
    "# ein String ist eine Zeichenkette\n",
    "\"Hallo Welt\"\n"
   ]
  },
  {
   "cell_type": "markdown",
   "metadata": {},
   "source": [
    "## Wie wird ein string definiert?"
   ]
  },
  {
   "cell_type": "code",
   "execution_count": null,
   "metadata": {},
   "outputs": [],
   "source": [
    "# Darunter kannst du dir jegliche Abfolgen von Zeichen vorstellen, die in Anführungszeichen\n",
    "# stehen. Zum Beispiel ist \"Hallo\" ein String und \"Hallo Welt\" ebenso, aber auch\n",
    "# \"123.2\" oder \"!Achtung!\"\n",
    "print(\"Hallo\")"
   ]
  },
  {
   "cell_type": "markdown",
   "metadata": {},
   "source": [
    "## Wie kann die Länge eines string ermittelt werden?"
   ]
  },
  {
   "cell_type": "code",
   "execution_count": 8,
   "metadata": {},
   "outputs": [
    {
     "data": {
      "text/plain": [
       "6"
      ]
     },
     "execution_count": 8,
     "metadata": {},
     "output_type": "execute_result"
    }
   ],
   "source": [
    "# die länge eines strings kann mittels der len funktion ermittelt werden\n",
    "\n",
    "fruit = \"banana\"\n",
    "len(fruit)\n"
   ]
  },
  {
   "cell_type": "markdown",
   "metadata": {},
   "source": [
    "## Wie kann ein Element an ein string angefügt werden?"
   ]
  },
  {
   "cell_type": "code",
   "execution_count": 12,
   "metadata": {},
   "outputs": [
    {
     "name": "stdout",
     "output_type": "stream",
     "text": [
      "HalloWelt\n",
      "ich bin22\n"
     ]
    }
   ],
   "source": [
    "# mit + können zwei Strings zusammen gefügt werden\n",
    "print(\"Hallo\" + \"Welt\")\n",
    "# mit + str(Element) kann ein Element angefügt werden\n",
    "age = 22\n",
    "print(\"ich bin\" +str(age))"
   ]
  },
  {
   "cell_type": "markdown",
   "metadata": {},
   "source": [
    "## Wie kann ein Element in ein string an einem bestimmten Ort eingefügt werden?\n"
   ]
  },
  {
   "cell_type": "code",
   "execution_count": 36,
   "metadata": {},
   "outputs": [
    {
     "name": "stdout",
     "output_type": "stream",
     "text": [
      "My name is Zara and weight is 21 kg!\n"
     ]
    }
   ],
   "source": [
    "# mit %s kann ein string an dieser stellen eingefügt werden\n",
    "# mit %d kann eine dezimalzahl an dieser Stelle eingefügt werden\n",
    "\n",
    "print (\"My name is %s and weight is %d kg!\" % ('Zara', 21))\n"
   ]
  },
  {
   "cell_type": "markdown",
   "metadata": {},
   "source": [
    "## Wie kann ein Element aus einem string entfernt werden?"
   ]
  },
  {
   "cell_type": "code",
   "execution_count": 25,
   "metadata": {},
   "outputs": [
    {
     "name": "stdout",
     "output_type": "stream",
     "text": [
      "ell\n"
     ]
    }
   ],
   "source": [
    "# Direkt aus der Zeichenkette etwas entfernen kann man nicht, \n",
    "# weil Zeichenketten in Python nicht verändert werden können. \n",
    "# man kann aber eine neue, veränderte Zeichenkette durch \"slicing\" bekommen:\n"
   ]
  },
  {
   "cell_type": "markdown",
   "metadata": {},
   "source": [
    "## Wie kann ein Element aus einem string ausgeschnitten werden?"
   ]
  },
  {
   "cell_type": "code",
   "execution_count": null,
   "metadata": {},
   "outputs": [],
   "source": [
    "#siehe oben"
   ]
  },
  {
   "cell_type": "markdown",
   "metadata": {},
   "source": [
    "## Wie kann über ein string iteriert (jedes einzelne Element verarbeitet) werden?"
   ]
  },
  {
   "cell_type": "code",
   "execution_count": 29,
   "metadata": {},
   "outputs": [
    {
     "name": "stdout",
     "output_type": "stream",
     "text": [
      "t\n",
      "e\n",
      "s\n",
      "t\n"
     ]
    }
   ],
   "source": [
    "for c in \"test\":\n",
    "    print (c)"
   ]
  },
  {
   "cell_type": "markdown",
   "metadata": {},
   "source": [
    "## Wie kann ein Teil (Slice) aus einem string ausgeschnitten werden?"
   ]
  },
  {
   "cell_type": "code",
   "execution_count": 26,
   "metadata": {},
   "outputs": [
    {
     "name": "stdout",
     "output_type": "stream",
     "text": [
      "ell\n"
     ]
    }
   ],
   "source": [
    "# Assume string variable a holds 'Hello' and variable b holds 'Python', then −\n",
    "#  [] Slice - Gives the character from the given index \ta[1] will give e\n",
    "# [ : ] \tRange Slice - Gives the characters from the given range \ta[1:4] will give ell\n",
    "\n",
    "a = \"hello\"\n",
    "print(a[1:4])"
   ]
  },
  {
   "cell_type": "markdown",
   "metadata": {},
   "source": [
    "## Was gibt es sonst noch spannendes zu string erzählen?"
   ]
  },
  {
   "cell_type": "markdown",
   "metadata": {},
   "source": [
    "\n"
   ]
  },
  {
   "cell_type": "code",
   "execution_count": 31,
   "metadata": {},
   "outputs": [
    {
     "name": "stdout",
     "output_type": "stream",
     "text": [
      "this is a long string that is made up of\n",
      "several lines and non-printable characters such as\n",
      "TAB ( \t ) and they will show up that way when displayed.\n",
      "NEWLINEs within the string, whether explicitly given like\n",
      "this within the brackets [ \n",
      " ], or just a NEWLINE within\n",
      "the variable assignment will also show up.\n",
      "\n"
     ]
    }
   ],
   "source": [
    "# mit dreifachem Anfführungszeichen kann man einen String über mehrere Zeilen schreiben\n",
    "\n",
    "\n",
    "para_str = \"\"\"this is a long string that is made up of\n",
    "several lines and non-printable characters such as\n",
    "TAB ( \\t ) and they will show up that way when displayed.\n",
    "NEWLINEs within the string, whether explicitly given like\n",
    "this within the brackets [ \\n ], or just a NEWLINE within\n",
    "the variable assignment will also show up.\n",
    "\"\"\"\n",
    "print (para_str)"
   ]
  },
  {
   "cell_type": "code",
   "execution_count": null,
   "metadata": {},
   "outputs": [],
   "source": []
  }
 ],
 "metadata": {
  "kernelspec": {
   "display_name": "Python 3",
   "language": "python",
   "name": "python3"
  },
  "language_info": {
   "codemirror_mode": {
    "name": "ipython",
    "version": 3
   },
   "file_extension": ".py",
   "mimetype": "text/x-python",
   "name": "python",
   "nbconvert_exporter": "python",
   "pygments_lexer": "ipython3",
   "version": "3.6.5"
  }
 },
 "nbformat": 4,
 "nbformat_minor": 2
}
