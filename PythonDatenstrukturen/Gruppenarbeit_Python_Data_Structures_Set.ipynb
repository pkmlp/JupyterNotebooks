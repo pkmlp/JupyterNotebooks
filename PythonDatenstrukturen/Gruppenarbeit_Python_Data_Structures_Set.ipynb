{
 "cells": [
  {
   "cell_type": "markdown",
   "metadata": {},
   "source": [
    "# Python Data Structure: ........."
   ]
  },
  {
   "cell_type": "raw",
   "metadata": {},
   "source": [
    "Dieses Beispiel behandelt Python (list, tuple, set, dict, string) und behandelt folgende Fragen:\n",
    "- Was ist ein (list, tuple, dict, string, set)?\n",
    "- Wie wird ein (list, tuple, dict, string, set) definiert?\n",
    "- Wie kann die Länge eines (list, tuple, dict, string, set) ermittelt werden?\n",
    "- Wie kann ein Element an ein (list, tuple, dict, string, set) angefügt werden?\n",
    "- Wie kann ein Element in ein (list, tuple, dict, string, set) an einem bestimmten Ort eingefügt werden?\n",
    "- Wie kann ein Element aus einem (list, tuple, dict, string, set) ausgeschnitten/entfernt werden?\n",
    "- Wie kann über ein (list, tuple, dict, string, set) iteriert (jedes einzelne Element verarbeitet) werden?\n",
    "- Wie kann ein Teil (Slice) aus einem (list, tuple, dict, string, set) ausgeschnitten werden?"
   ]
  },
  {
   "cell_type": "markdown",
   "metadata": {},
   "source": [
    "## Was ist ein set?"
   ]
  },
  {
   "cell_type": "markdown",
   "metadata": {},
   "source": [
    "Ein Set ist eine ungeordnete Sammlung von Elementen. Jedes Element ist eindeutig (keine Duplikate) und muss unveränderlich sein (was nicht geändert werden kann).\n",
    "\n",
    "Die Menge selbst ist jedoch veränderbar. Wir können Elemente hinzufügen oder entfernen.\n",
    "\n",
    "Mengen können verwendet werden, um mathematische Mengenoperationen wie Union, Schnittpunkt, symmetrische Differenz usw. durchzuführen."
   ]
  },
  {
   "cell_type": "markdown",
   "metadata": {},
   "source": [
    "## Wie wird ein set definiert?"
   ]
  },
  {
   "cell_type": "code",
   "execution_count": null,
   "metadata": {},
   "outputs": [],
   "source": [
    "\"\"\"Sets können mit der integrierten set()-Funktion mit einem Objekt oder einer Sequenz erstellt werden, \n",
    "indem die Sequenz in geschweiften Klammern, getrennt durch ein Komma, platziert wird. \n",
    "Ein Set enthält nur eindeutige Elemente, aber zum Zeitpunkt der Seterstellung können auch \n",
    "mehrere doppelte Werte übergeben werden. Die Reihenfolge der Elemente in einer Menge ist \n",
    "undefiniert und unveränderlich. Die Art der Elemente in einer Menge muss nicht gleich sein, es \n",
    "können auch verschiedene verwechselte Datentypwerte an die Menge übergeben werden.\n",
    "\n",
    "Hinweis - Ein Set kann keine veränderbaren Elemente wie eine Liste, ein Set oder ein Dictionary \n",
    "als Elemente haben.\"\"\"\n",
    "\n",
    "#Beispiel\n",
    "setABC = set([\"a\", \"b\",\"c\"]) "
   ]
  },
  {
   "cell_type": "markdown",
   "metadata": {},
   "source": [
    "## Wie kann die Länge eines set ermittelt werden?"
   ]
  },
  {
   "cell_type": "code",
   "execution_count": 6,
   "metadata": {},
   "outputs": [
    {
     "name": "stdout",
     "output_type": "stream",
     "text": [
      "Mein Set hat 3 Elemente\n"
     ]
    }
   ],
   "source": [
    "\"\"\"In Python werden Längen mit \"len()\" ermittelt. \n",
    "Set Kann nachträglich erweitert werden.\"\"\"\n",
    "\n",
    "#Beispiel\n",
    "setABC = set([\"a\", \"b\",\"c\"])\n",
    "\n",
    "if len(setABC) == 0:\n",
    "    print(\"Mein Set hat keine Elemente\")\n",
    "else:\n",
    "    print(\"Mein Set hat\", len(setABC), \"Elemente.\")"
   ]
  },
  {
   "cell_type": "markdown",
   "metadata": {},
   "source": [
    "## Wie kann ein Element an ein set angefügt werden?"
   ]
  },
  {
   "cell_type": "code",
   "execution_count": 4,
   "metadata": {},
   "outputs": [
    {
     "name": "stdout",
     "output_type": "stream",
     "text": [
      "{'Alice', 'Mila', 'Zora', 'Brani'}\n"
     ]
    }
   ],
   "source": [
    "\"\"\"In Python wird ein Element mit '.add()' angefügt.\"\"\" \n",
    "\n",
    "#Beispiel\n",
    "set1={\"Alice\", \"Brani\", \"Zora\"}\n",
    "set1.add(\"Mila\")\n",
    "print(set1)"
   ]
  },
  {
   "cell_type": "markdown",
   "metadata": {},
   "source": [
    "## Wie kann ein Element in einem set an einem bestimmten Ort eingefügt werden?"
   ]
  },
  {
   "cell_type": "code",
   "execution_count": null,
   "metadata": {},
   "outputs": [],
   "source": [
    "Keine Lösung da Einträge zufällig verteilt sind."
   ]
  },
  {
   "cell_type": "markdown",
   "metadata": {},
   "source": [
    "## Wie kann ein Element aus einem set ausgeschnitten/entfernt werden?"
   ]
  },
  {
   "cell_type": "code",
   "execution_count": 15,
   "metadata": {},
   "outputs": [
    {
     "name": "stdout",
     "output_type": "stream",
     "text": [
      "{'apple', 'banana', 'cherry'}\n"
     ]
    }
   ],
   "source": [
    "\"\"\"In Python wird ein Element mit '.remove()' entfernt.\n",
    "In Python wird ein Element mit '.discard()' entfernt.\"\"\"\n",
    "\n",
    "#Beispiel\n",
    "set2= {\"apple\", \"banana\", \"cherry\",\"Alice\"}\n",
    "set.discard(\"Alice\")\n",
    "#Oder\n",
    "#set.remove(\"Alice\")\n",
    "print(set)"
   ]
  },
  {
   "cell_type": "markdown",
   "metadata": {},
   "source": [
    "## Wie kann über einem set iteriert (jedes einzelne Element verarbeitet) werden?"
   ]
  },
  {
   "cell_type": "code",
   "execution_count": 36,
   "metadata": {},
   "outputs": [
    {
     "name": "stdout",
     "output_type": "stream",
     "text": [
      "4\n",
      "5\n",
      "3\n",
      "1\n",
      "2\n",
      "0\n"
     ]
    }
   ],
   "source": [
    "#Mit \"for\" or \"While\" iteriert. \n",
    "\n",
    "this_set = {\"0\", \"1\", \"2\", \"3\", \"4\", \"5\"}\n",
    "for element in this_set:\n",
    "    print(element)"
   ]
  },
  {
   "cell_type": "markdown",
   "metadata": {},
   "source": [
    "## Wie kann ein Teil (Slice) aus einem set ausgeschnitten werden?"
   ]
  },
  {
   "cell_type": "code",
   "execution_count": 33,
   "metadata": {},
   "outputs": [
    {
     "ename": "TypeError",
     "evalue": "'set' object is not subscriptable",
     "output_type": "error",
     "traceback": [
      "\u001b[0;31m---------------------------------------------------------------------------\u001b[0m",
      "\u001b[0;31mTypeError\u001b[0m                                 Traceback (most recent call last)",
      "\u001b[0;32m<ipython-input-33-8a33a7306dd1>\u001b[0m in \u001b[0;36m<module>\u001b[0;34m()\u001b[0m\n\u001b[1;32m      3\u001b[0m \u001b[0;34m\u001b[0m\u001b[0m\n\u001b[1;32m      4\u001b[0m \u001b[0mausschnitt\u001b[0m \u001b[0;34m=\u001b[0m \u001b[0mslice\u001b[0m\u001b[0;34m(\u001b[0m\u001b[0;36m1\u001b[0m\u001b[0;34m,\u001b[0m \u001b[0;36m3\u001b[0m\u001b[0;34m)\u001b[0m\u001b[0;34m\u001b[0m\u001b[0m\n\u001b[0;32m----> 5\u001b[0;31m \u001b[0mprint\u001b[0m\u001b[0;34m(\u001b[0m\u001b[0mset1\u001b[0m\u001b[0;34m[\u001b[0m\u001b[0mausschnitt\u001b[0m\u001b[0;34m]\u001b[0m\u001b[0;34m)\u001b[0m\u001b[0;34m\u001b[0m\u001b[0m\n\u001b[0m",
      "\u001b[0;31mTypeError\u001b[0m: 'set' object is not subscriptable"
     ]
    }
   ],
   "source": [
    "# nicht möglich da keine Positionierung erlaubt\n",
    "set1 = {('Mila', 'Zora'), 'Mowgli', 'Brani', 'Mau'}\n",
    "\n",
    "ausschnitt = slice(1, 3)\n",
    "print(set1[ausschnitt])"
   ]
  },
  {
   "cell_type": "markdown",
   "metadata": {},
   "source": [
    "## Was gibt es sonst noch spannendes über set zu erzählen?"
   ]
  },
  {
   "cell_type": "code",
   "execution_count": 8,
   "metadata": {},
   "outputs": [
    {
     "name": "stdout",
     "output_type": "stream",
     "text": [
      "[]\n",
      "{34, 36, 7, 41, 23, 26}\n"
     ]
    }
   ],
   "source": [
    "#Zum Beispiel die Lottozahlen-Aufgabe lässt sich so relativ simpel und mit wenig Code lösen.\n",
    "\n",
    "kugeln = {1, 2, 3, 4, 5, 6, 7, 8, 9, 10}\n",
    "\n",
    "lottozahlen = []\n",
    "\n",
    "counter = 0\n",
    "\n",
    "while counter < 6:\n",
    "    kugeln.pop\n",
    "    counter = counter + 1\n",
    "    \n",
    "    \n",
    "print(lottozahlen)\n",
    "\n",
    "\n",
    "\n",
    "#Oder:\n",
    "\n",
    "import random\n",
    "lotto = set()\n",
    "\n",
    "while len(lotto) < 6:\n",
    "    lotto.add(random.randint(1, 45))\n",
    "\n",
    "print(lotto)"
   ]
  },
  {
   "cell_type": "code",
   "execution_count": null,
   "metadata": {},
   "outputs": [],
   "source": []
  }
 ],
 "metadata": {
  "kernelspec": {
   "display_name": "Python 3",
   "language": "python",
   "name": "python3"
  },
  "language_info": {
   "codemirror_mode": {
    "name": "ipython",
    "version": 3
   },
   "file_extension": ".py",
   "mimetype": "text/x-python",
   "name": "python",
   "nbconvert_exporter": "python",
   "pygments_lexer": "ipython3",
   "version": "3.7.0"
  }
 },
 "nbformat": 4,
 "nbformat_minor": 2
}
