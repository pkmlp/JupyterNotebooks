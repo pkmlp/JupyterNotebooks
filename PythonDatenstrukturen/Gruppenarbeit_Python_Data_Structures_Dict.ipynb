{
 "cells": [
  {
   "cell_type": "markdown",
   "metadata": {},
   "source": [
    "# Python Data Structure: dict"
   ]
  },
  {
   "cell_type": "markdown",
   "metadata": {},
   "source": [
    "Dieses Beispiel behandelt Python dict und behandelt folgende Fragen:\n",
    "- Was ist ein dict?\n",
    "- Wie wird ein dict definiert?\n",
    "- Wie kann die Länge eines dict ermittelt werden?\n",
    "- Wie kann ein Element an ein dict angefügt werden?\n",
    "- Wie kann ein Element in ein dict an einem bestimmten Ort eingefügt werden?\n",
    "- Wie kann ein Element aus einem dict ausgeschnitten/entfernt werden?\n",
    "- Wie kann über ein dict iteriert (jedes einzelne Element verarbeitet) werden?\n",
    "- Wie kann ein Teil (Slice) aus einem dict ausgeschnitten werden?"
   ]
  },
  {
   "cell_type": "markdown",
   "metadata": {},
   "source": [
    "## Was ist ein dict?"
   ]
  },
  {
   "cell_type": "markdown",
   "metadata": {},
   "source": [
    "dict steht für dictionary --> dictionary steht für Wörterbuch\n",
    "dictionarys ermöglichen dir Wertezuordnungen zu speichern\n",
    "z.b ein Telefonbuch, ein Abkürzungsverzeichnis\n",
    "ein Nachname hat eine Telefonnummer\n",
    "ein dictionary besteht aus keys (Schlüssel) und values (Werte)\n",
    "beim Telefonbuch ist ein Name der Schlüssel und die dazugehörige Telefonnummer der Wert"
   ]
  },
  {
   "cell_type": "markdown",
   "metadata": {},
   "source": [
    "## Wie wird ein dict definiert?"
   ]
  },
  {
   "cell_type": "code",
   "execution_count": 1,
   "metadata": {},
   "outputs": [],
   "source": [
    "Telsearch = {\"Jonas\": \"0786988852\",\n",
    "             \"Martin\": \"0793643417\",\n",
    "             \"Michi\": \"0523664848\",\n",
    "             \"Sandro\": \"0798447222\"}"
   ]
  },
  {
   "cell_type": "markdown",
   "metadata": {},
   "source": [
    "## Wie kann die Länge eines dict ermittelt werden?"
   ]
  },
  {
   "cell_type": "code",
   "execution_count": 2,
   "metadata": {},
   "outputs": [
    {
     "name": "stdout",
     "output_type": "stream",
     "text": [
      "4\n"
     ]
    }
   ],
   "source": [
    "Telsearch = {\"Jonas\": \"0786988852\",\n",
    "             \"Martin\": \"0793643417\",\n",
    "             \"Michi\": \"0523664848\",\n",
    "             \"Sandro\": \"0798447222\"}\n",
    "\n",
    "print(len(Telsearch))"
   ]
  },
  {
   "cell_type": "markdown",
   "metadata": {},
   "source": [
    "## Wie kann ein Element an ein dict angefügt werden?"
   ]
  },
  {
   "cell_type": "code",
   "execution_count": 3,
   "metadata": {},
   "outputs": [
    {
     "name": "stdout",
     "output_type": "stream",
     "text": [
      "{'Jonas': '0786988852', 'Martin': '0793643417', 'Michi': '0523664848', 'Sandro': '0798447222', 'Ruben': '0788739261'}\n"
     ]
    }
   ],
   "source": [
    "Telsearch = {\"Jonas\": \"0786988852\",\n",
    "             \"Martin\": \"0793643417\",\n",
    "             \"Michi\": \"0523664848\",\n",
    "             \"Sandro\": \"0798447222\"}\n",
    "\n",
    "Telsearch[\"Ruben\"] = \"0788739261\"\n",
    "\n",
    "print(Telsearch)"
   ]
  },
  {
   "cell_type": "markdown",
   "metadata": {},
   "source": [
    "## Wie kann ein Element in ein dict an einem bestimmten Ort eingefügt werden?"
   ]
  },
  {
   "cell_type": "code",
   "execution_count": null,
   "metadata": {},
   "outputs": [],
   "source": [
    "#mit der \"sys\" Bibliothek und der Funktion round_trip_load()\n",
    "#kann der Eintrag davor und danach definiert werden\n",
    "#und somit einen neuen Wert an einem bestimmten Ort einfügen"
   ]
  },
  {
   "cell_type": "markdown",
   "metadata": {},
   "source": [
    "## Wie kann ein Element aus einem dict ausgeschnitten/entfernt werden?"
   ]
  },
  {
   "cell_type": "code",
   "execution_count": 4,
   "metadata": {},
   "outputs": [
    {
     "name": "stdout",
     "output_type": "stream",
     "text": [
      "{'Jonas': '0786988852', 'Martin': '0793643417', 'Michi': '0523664848', 'Sandro': '0798447222'}\n"
     ]
    }
   ],
   "source": [
    "Telsearch = {\"Jonas\": \"0786988852\",\n",
    "             \"Martin\": \"0793643417\",\n",
    "             \"Michi\": \"0523664848\",\n",
    "             \"Sandro\": \"0798447222\",\n",
    "             \"Ruben\": \"0788739261\"}\n",
    "\n",
    "del Telsearch[\"Ruben\"]\n",
    "\n",
    "print(Telsearch)"
   ]
  },
  {
   "cell_type": "markdown",
   "metadata": {},
   "source": [
    "## Wie kann ein Element aus einem dict ausgeschnitten/entfernt werden?"
   ]
  },
  {
   "cell_type": "markdown",
   "metadata": {},
   "source": [
    "## Wie kann über ein dict iteriert (jedes einzelne Element verarbeitet) werden?"
   ]
  },
  {
   "cell_type": "code",
   "execution_count": 5,
   "metadata": {},
   "outputs": [
    {
     "name": "stdout",
     "output_type": "stream",
     "text": [
      "Jonas\n",
      "0786988852\n",
      "Martin\n",
      "0793643417\n",
      "Michi\n",
      "0523664848\n",
      "Sandro\n",
      "0798447222\n",
      "Ruben\n",
      "0788739261\n"
     ]
    }
   ],
   "source": [
    "Telsearch = {\"Jonas\": \"0786988852\",\n",
    "             \"Martin\": \"0793643417\",\n",
    "             \"Michi\": \"0523664848\",\n",
    "             \"Sandro\": \"0798447222\",\n",
    "             \"Ruben\": \"0788739261\"}\n",
    "\n",
    "for key in Telsearch:\n",
    "    value = Telsearch[key]\n",
    "    \n",
    "    print(key)\n",
    "    print(value)"
   ]
  },
  {
   "cell_type": "markdown",
   "metadata": {},
   "source": [
    "## Wie kann ein Teil (Slice) aus einem dict ausgeschnitten werden?"
   ]
  },
  {
   "cell_type": "code",
   "execution_count": 18,
   "metadata": {},
   "outputs": [],
   "source": [
    "#In dictionarys gibt es den \"slice\" Befehl nicht, weil dieser keinen Sinn machen würde,\n",
    "#da der Eintrag nich eindeutig eingeordnet wird.\n",
    "#Ein dictionary wird nur gebraucht, um mit einem Key auf ein bestimmten zugehörigen Wert zuzugreifen,\n",
    "#daher macht ein sliceing keinen Sinn."
   ]
  },
  {
   "cell_type": "markdown",
   "metadata": {},
   "source": [
    "## Was gibt es sonst noch spannendes zu dict erzählen?"
   ]
  },
  {
   "cell_type": "markdown",
   "metadata": {},
   "source": [
    "Beachten Sie, dass der Schlüssel eindeutig sein muss, genau wie man auch nicht die korrekte Information herausfinden kann, wenn man zwei Personen des exakt gleichen Namens in seinem Adressbuch hat."
   ]
  }
 ],
 "metadata": {
  "kernelspec": {
   "display_name": "Python 3",
   "language": "python",
   "name": "python3"
  },
  "language_info": {
   "codemirror_mode": {
    "name": "ipython",
    "version": 3
   },
   "file_extension": ".py",
   "mimetype": "text/x-python",
   "name": "python",
   "nbconvert_exporter": "python",
   "pygments_lexer": "ipython3",
   "version": "3.6.5"
  }
 },
 "nbformat": 4,
 "nbformat_minor": 2
}
