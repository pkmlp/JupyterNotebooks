{
 "cells": [
  {
   "cell_type": "markdown",
   "metadata": {},
   "source": [
    "# Python Data Structure: ........."
   ]
  },
  {
   "cell_type": "markdown",
   "metadata": {},
   "source": [
    "Dieses Beispiel behandelt Python (list, tuple, set, dict, string) und behandelt folgende Fragen:\n",
    "- Was ist ein (list, tuple, dict, string, set)?\n",
    "- Wie wird ein (list, tuple, dict, string, set) definiert?\n",
    "- Wie kann die Länge eines (list, tuple, dict, string, set) ermittelt werden?\n",
    "- Wie kann ein Element an ein (list, tuple, dict, string, set) angefügt werden?\n",
    "- Wie kann ein Element in ein (list, tuple, dict, string, set) an einem bestimmten Ort eingefügt werden?\n",
    "- Wie kann ein Element aus einem (list, tuple, dict, string, set) ausgeschnitten/entfernt werden?\n",
    "- Wie kann über ein (list, tuple, dict, string, set) iteriert (jedes einzelne Element verarbeitet) werden?\n",
    "- Wie kann ein Teil (Slice) aus einem (list, tuple, dict, string, set) ausgeschnitten werden?"
   ]
  },
  {
   "cell_type": "markdown",
   "metadata": {},
   "source": [
    "## Was ist ein (list, tuple, dict, string, set)?"
   ]
  },
  {
   "cell_type": "markdown",
   "metadata": {},
   "source": [
    "Die Datenstruktur \"List\" (auch Array gennant) ist eine Liste von Werten die geordnet und veränderbar sind. Die Werte in der Liste können mehrfach vorhanden sein.\n",
    "Eine Liste kann verschiedene Datentypen enthalten, Datentypen in einer Liste zu durchmischen wird allerdings nicht empfohlen.\n",
    "Listen werden von 0 beginnend indexiert und bestimmte Werte können über die Indexnummer aufgerufen oder an der enstprechenden Indexnummer hinzugefügt werden."
   ]
  },
  {
   "cell_type": "markdown",
   "metadata": {},
   "source": [
    "## Wie wird ein (list, tuple, dict, string, set) definiert?"
   ]
  },
  {
   "cell_type": "code",
   "execution_count": 17,
   "metadata": {},
   "outputs": [
    {
     "name": "stdout",
     "output_type": "stream",
     "text": [
      "['Wert1', 'Wert2', 'Wert3']\n"
     ]
    }
   ],
   "source": [
    "BeispielListe = [\"Wert1\", \"Wert2\", \"Wert3\"]\n",
    "\n",
    "print(BeispielListe)"
   ]
  },
  {
   "cell_type": "markdown",
   "metadata": {},
   "source": [
    "## Wie kann die Länge eines (list, tuple, dict, string, set) ermittelt werden?"
   ]
  },
  {
   "cell_type": "code",
   "execution_count": 20,
   "metadata": {},
   "outputs": [
    {
     "name": "stdout",
     "output_type": "stream",
     "text": [
      "3\n"
     ]
    }
   ],
   "source": [
    "BeispielListe = [\"Wert1\", \"Wert2\", \"Wert3\"]\n",
    "\n",
    "#Mit len wird die Länge der Liste ausgegeben.\n",
    "print(len(BeispielListe))"
   ]
  },
  {
   "cell_type": "markdown",
   "metadata": {},
   "source": [
    "## Wie kann ein Element an ein (list, tuple, dict, string, set) angefügt werden?"
   ]
  },
  {
   "cell_type": "code",
   "execution_count": 61,
   "metadata": {},
   "outputs": [
    {
     "name": "stdout",
     "output_type": "stream",
     "text": [
      "['Wert1', 'Wert2', 'Wert3', 'Wert4']\n"
     ]
    }
   ],
   "source": [
    "BeispielListe = [\"Wert1\", \"Wert2\", \"Wert3\"]\n",
    "\n",
    "#Mit dem Befehl append wird ein Wert der Liste hinzugefügt.\n",
    "BeispielListe.append(\"Wert4\")\n",
    "\n",
    "print(BeispielListe)"
   ]
  },
  {
   "cell_type": "markdown",
   "metadata": {},
   "source": [
    "## Wie kann ein Element in ein (list, tuple, dict, string, set) an einem bestimmten Ort eingefügt werden?"
   ]
  },
  {
   "cell_type": "code",
   "execution_count": 13,
   "metadata": {},
   "outputs": [
    {
     "name": "stdout",
     "output_type": "stream",
     "text": [
      "['Wert4', 'Wert2', 'Wert3']\n"
     ]
    }
   ],
   "source": [
    "BeispielListe = [\"Wert1\", \"Wert2\", \"Wert3\"]\n",
    "\n",
    "#Mit insert kann ein Wert an einer bestimmten Stelle hinzugefügt werden.\n",
    "BeispielListe.insert(2, \"Wert5\")\n",
    "\n",
    "print(BeispielListe)"
   ]
  },
  {
   "cell_type": "markdown",
   "metadata": {},
   "source": [
    "## Wie kann ein Element aus einem (list, tuple, dict, string, set) ausgeschnitten/entfernt werden?"
   ]
  },
  {
   "cell_type": "code",
   "execution_count": 38,
   "metadata": {},
   "outputs": [
    {
     "name": "stdout",
     "output_type": "stream",
     "text": [
      "['Wert1', 'Wert3']\n",
      "['Wert3']\n"
     ]
    }
   ],
   "source": [
    "BeispielListe = [\"Wert1\", \"Wert2\", \"Wert3\"]\n",
    "\n",
    "#Mit remove wird ein bestimmter Wert aus der Liste entfernt.\n",
    "BeispielListe.remove(\"Wert2\")\n",
    "\n",
    "print(BeispielListe)\n",
    "\n",
    "#eine andere Möglichkeit ist del\n",
    "del BeispielListe[0]\n",
    "\n",
    "print(BeispielListe)"
   ]
  },
  {
   "cell_type": "markdown",
   "metadata": {},
   "source": [
    "## Wie kann ein Element aus einem (list, tuple, dict, string, set) ausgeschnitten/entfernt werden?"
   ]
  },
  {
   "cell_type": "code",
   "execution_count": 33,
   "metadata": {},
   "outputs": [
    {
     "name": "stdout",
     "output_type": "stream",
     "text": [
      "Wert3\n",
      "['Wert1', 'Wert2']\n",
      "<class 'collections.deque'>\n"
     ]
    }
   ],
   "source": [
    "BeispielListe = [\"Wert1\", \"Wert2\", \"Wert3\"]\n",
    "\n",
    "#pop entfernt den letzten Eintrag der Liste, gleichzeitig wird der entfernte Wert in die Variable p geschrieben und ausgegeben.\n",
    "p = BeispielListe.pop()\n",
    "\n",
    "print(p)\n",
    "print(BeispielListe)\n",
    "\n",
    "#popleft würde den ersten Wert der Liste entfernen\n",
    "from collections import deque\n",
    "BeispielListe = deque([\"Wert1\", \"Wert2\", \"Wert3\"])\n",
    "BeispielListe.popleft()\n",
    "print(BeispielListe)\n"
   ]
  },
  {
   "cell_type": "markdown",
   "metadata": {},
   "source": [
    "## Wie kann über ein (list, tuple, dict, string, set) iteriert (jedes einzelne Element verarbeitet) werden?"
   ]
  },
  {
   "cell_type": "code",
   "execution_count": 37,
   "metadata": {},
   "outputs": [
    {
     "name": "stdout",
     "output_type": "stream",
     "text": [
      "Wert1\n",
      "Wert2\n",
      "Wert3\n"
     ]
    }
   ],
   "source": [
    "BeispielListe = [\"Wert1\", \"Wert2\", \"Wert3\"]\n",
    "\n",
    "for i in BeispielListe:\n",
    "    print(i)"
   ]
  },
  {
   "cell_type": "markdown",
   "metadata": {},
   "source": [
    "## Wie kann ein Teil (Slice) aus einem (list, tuple, dict, string, set) ausgeschnitten werden?"
   ]
  },
  {
   "cell_type": "code",
   "execution_count": 26,
   "metadata": {},
   "outputs": [
    {
     "name": "stdout",
     "output_type": "stream",
     "text": [
      "['Wert2', 'Wert3']\n"
     ]
    }
   ],
   "source": [
    "BeispielListe = [\"Wert1\", \"Wert2\", \"Wert3\", \"Wert4\", \"Wert5\"]\n",
    "\n",
    "#in der eckigen Klammer kann der Start und Endwert der Teile, die ausgeschnitten werden sollen angegeben werden.\n",
    "print(BeispielListe[1:3])"
   ]
  },
  {
   "cell_type": "markdown",
   "metadata": {},
   "source": [
    "## Was gibt es sonst noch spannendes zu (list, tuple, dict, string, set) erzählen?"
   ]
  },
  {
   "cell_type": "markdown",
   "metadata": {},
   "source": [
    "Listen können auch mehrdimensional sein, dafür werden mehrere Listen ineinander verschachtelt.\n",
    "\n",
    "Unten sind noch ein paar nützliche Beispiele von Befehlen aufgelistet:"
   ]
  },
  {
   "cell_type": "code",
   "execution_count": 15,
   "metadata": {
    "scrolled": true
   },
   "outputs": [
    {
     "name": "stdout",
     "output_type": "stream",
     "text": [
      "Wert3\n",
      "2\n",
      "2\n",
      "['0', '2', '4a', 'a3', 'a5', 'b1']\n",
      "['Wert1', 'Wert2', 'Wert3', 'Wert4', 'Wert5', 'Wert2', 'Wert1', 'Wert2', 'Wert3', 'Wert4', 'Wert5', 'Wert2']\n"
     ]
    },
    {
     "data": {
      "text/plain": [
       "['Wert1',\n",
       " 'Wert2',\n",
       " 'Wert3',\n",
       " 'Wert4',\n",
       " 'Wert5',\n",
       " 'Wert2',\n",
       " 'Wert1',\n",
       " 'Wert2',\n",
       " 'Wert3',\n",
       " 'Wert4',\n",
       " 'Wert5',\n",
       " 'Wert2']"
      ]
     },
     "execution_count": 15,
     "metadata": {},
     "output_type": "execute_result"
    }
   ],
   "source": [
    "#hier werden zwei Listen verschachtelt.\n",
    "BeispielListe1 = [[\"Wert1\", \"Wert2\"],[\"Wert3\", \"Wert4\"]]\n",
    "\n",
    "#hier wird von der zweiten Liste der erste Wert ausgegeben.\n",
    "print(BeispielListe1[1][0])\n",
    "\n",
    "BeispielListe2 = [\"Wert1\", \"Wert2\", \"Wert3\", \"Wert4\", \"Wert5\", \"Wert2\"]\n",
    "\n",
    "#mit Index wird die Position des gesuchten Wertes ausgegeben.\n",
    "i = BeispielListe2.index(\"Wert3\")\n",
    "#mit count wird ausgegeben wie oft der Wert in der Liste vorkommt.\n",
    "c = BeispielListe2.count(\"Wert2\")\n",
    "\n",
    "print(i)\n",
    "print(c)\n",
    "\n",
    "BeispielListe3 = [\"b1\", \"a5\", \"4a\", \"0\", \"a3\", \"2\"]\n",
    "\n",
    "#mit Sort kann die Liste sortiert werden (nach Zahlen/Alphabetisch)\n",
    "BeispielListe3.sort()\n",
    "print(BeispielListe3)\n",
    "\n",
    "\n",
    "\n",
    "#mit einem einfachen \"+\" können zwei Listen zusammengeführt werden.\n",
    "BeispielListe4 = [\"Wert1\", \"Wert2\", \"Wert3\", \"Wert4\", \"Wert5\", \"Wert2\"]\n",
    "BeispielListe5 = [\"Wert1\", \"Wert2\", \"Wert3\", \"Wert4\", \"Wert5\", \"Wert2\"]\n",
    "\n",
    "grosseListe = BeispielListe4 + BeispielListe5\n",
    "print(grosseListe)\n",
    "\n",
    "#eine Liste kann auch in einen Tuple umgewandelt werden, umgekehrt geht es natürlich auch.\n",
    "tuple(grosseListe)\n",
    "list(grosseListe)"
   ]
  },
  {
   "cell_type": "code",
   "execution_count": null,
   "metadata": {},
   "outputs": [],
   "source": []
  },
  {
   "cell_type": "code",
   "execution_count": null,
   "metadata": {},
   "outputs": [],
   "source": []
  }
 ],
 "metadata": {
  "kernelspec": {
   "display_name": "Python 3",
   "language": "python",
   "name": "python3"
  },
  "language_info": {
   "codemirror_mode": {
    "name": "ipython",
    "version": 3
   },
   "file_extension": ".py",
   "mimetype": "text/x-python",
   "name": "python",
   "nbconvert_exporter": "python",
   "pygments_lexer": "ipython3",
   "version": "3.7.0"
  }
 },
 "nbformat": 4,
 "nbformat_minor": 2
}
