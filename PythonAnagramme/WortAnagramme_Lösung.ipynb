{
 "cells": [
  {
   "cell_type": "markdown",
   "metadata": {},
   "source": [
    "# Wort Anagramme"
   ]
  },
  {
   "cell_type": "markdown",
   "metadata": {},
   "source": [
    "## Definition"
   ]
  },
  {
   "cell_type": "markdown",
   "metadata": {},
   "source": [
    "Ein Anagramm ist ein, in der Regel **sinnvolles** Wort, das durch das Umstellen der einzelnen Buchstaben eines anderen Wortes entsteht. Dabei müssen alle Buchstaben auch im neuen Wort verwendet werden. Erweitert kann auch ein Satz oder eine noch längere Textstelle anagrammiert werden."
   ]
  },
  {
   "cell_type": "markdown",
   "metadata": {},
   "source": [
    "Beispiele für Anagramme gibt es viele in der deutschen Sprache. Etwa Karte/Kreta/Kater/ oder Atlas/Salat. Auch in der Popkultur finden sich zahlreiche Referenzen, beispielsweise in J.K. Rowlings „Harry Potter“. In dem Buch ist der tatsächliche Name des zentralen Antagonisten Tom Marvolo Riddle, ein Anagramm zu „I am Lord Voldemort“."
   ]
  },
  {
   "cell_type": "markdown",
   "metadata": {},
   "source": [
    "Quelle: https://neueswort.de/anagramm/ "
   ]
  },
  {
   "cell_type": "markdown",
   "metadata": {},
   "source": [
    "## Vereinfacht"
   ]
  },
  {
   "cell_type": "markdown",
   "metadata": {},
   "source": [
    "Für die folgenden Beispiele orientieren wir uns an der Erklärung aus Wikipedia: https://de.wikipedia.org/wiki/Anagramm"
   ]
  },
  {
   "cell_type": "markdown",
   "metadata": {},
   "source": [
    "> *Als Anagramm wird eine Buchstabenfolge bezeichnet, die aus einer anderen Buchstabenfolge allein durch Umstellung (Permutation) der Buchstaben gebildet ist. Der Vorgang dieser Umstellung wird als Anagrammieren bezeichnet.*\n"
   ]
  },
  {
   "cell_type": "markdown",
   "metadata": {},
   "source": [
    "In dieser Erklärung/Definition fehlt die Umstellung in ein **sinnvolles** Wort. Wir verzichten auf das **sinnvoll** und nehmen das Ergebnis zum *Wort-Raten*."
   ]
  },
  {
   "cell_type": "markdown",
   "metadata": {},
   "source": [
    "## Worträtsel"
   ]
  },
  {
   "cell_type": "markdown",
   "metadata": {},
   "source": [
    "### Variante 1"
   ]
  },
  {
   "cell_type": "code",
   "execution_count": null,
   "metadata": {},
   "outputs": [],
   "source": [
    "\n",
    "import random\n",
    "\n",
    "wort = \"abcdefg\"\n",
    "anagram = \"\"\n",
    "\n",
    "print(\"Start\")\n",
    "print(\"Wort    : \", wort)\n",
    "print(\"Anagram : \", anagram)\n",
    "\n",
    "while wort:\n",
    "    position = random.randrange(len(wort))\n",
    "    anagram = anagram + wort[position]\n",
    "    wort = wort[:position] + wort[(position + 1):]\n",
    "\n",
    "print(\"Ende\")\n",
    "print(\"Wort    : \", wort)\n",
    "print(\"Anagram : \", anagram)\n"
   ]
  },
  {
   "cell_type": "markdown",
   "metadata": {},
   "source": [
    "### Variante 2"
   ]
  },
  {
   "cell_type": "code",
   "execution_count": null,
   "metadata": {},
   "outputs": [],
   "source": [
    "\n",
    "import random\n",
    "\n",
    "wort = \"abcdefg\"\n",
    "wort = list(wort)\n",
    "anagram = \"\"\n",
    "\n",
    "print(\"Start\")\n",
    "print(\"Wort    : \", \"\".join(wort))\n",
    "print(\"Anagram : \", anagram)\n",
    "\n",
    "for buchstabe in range(0, len(wort)):\n",
    "    anagram = anagram + wort.pop(random.randint(0, len(wort)-1))\n",
    "\n",
    "print(\"Ende\")\n",
    "print(\"Wort    : \", \"\".join(wort))\n",
    "print(\"Anagram : \", anagram)\n"
   ]
  },
  {
   "cell_type": "markdown",
   "metadata": {},
   "source": [
    "### Aufgabe 1"
   ]
  },
  {
   "cell_type": "markdown",
   "metadata": {},
   "source": [
    "*Untersuche die obigen 2 Varianten und halte die Unterschiede (Deine Erkenntnisse) in der folgenden Zelle fest:*"
   ]
  },
  {
   "cell_type": "markdown",
   "metadata": {},
   "source": [
    "> in Variante 1 wird der Buchstabe vom zufällig ausgewählten Ort im String *wort* an die Variable *anagram* angehängt, und der Teil in *wort* vor und der Teil in *wort* nach dem fraglichen Buchstaben wird wieder zu einem neuen String zusammengefügt und zurück in der Variablen *wort* abgelegt. "
   ]
  },
  {
   "cell_type": "markdown",
   "metadata": {},
   "source": [
    "> in Variante 2 wird die String-Variable *wort* in eine Liste umgewandelt und dann wird ein zufällig ausgewählter Buchstabe aus der Liste *wort* herausgenommen (mit pop) und an die String-Variable *anagram\" angehängt. Die Liste *wort* verkürzt dich dadurch in jedem Schlaufendurchgang um einen Buchstaben. "
   ]
  },
  {
   "cell_type": "markdown",
   "metadata": {},
   "source": [
    "# Wort Palindrome"
   ]
  },
  {
   "cell_type": "markdown",
   "metadata": {},
   "source": [
    "Anagramme dürfen nicht mit Palindromen verwechselt werden. "
   ]
  },
  {
   "cell_type": "markdown",
   "metadata": {},
   "source": [
    "### Aufgabe 2"
   ]
  },
  {
   "cell_type": "markdown",
   "metadata": {},
   "source": [
    "*Recherchiere was ein Palindrom ist und halte die Definition in der folgenden Zelle fest:*"
   ]
  },
  {
   "cell_type": "markdown",
   "metadata": {},
   "source": [
    "> Als Palindrom (altgriechisch für „rückwärts laufend“) werden in der Sprachwissenschaft Wörter, Wortreihen oder Sätze bezeichnet, die rückwärts gelesen genau denselben Text oder zumindest einen Sinn ergeben. Gross-/Kleinschreibung, Wortgrenzen und Satzzeichen sind beim Rückwärtslesen gegebenenfalls zu ändern.\n",
    "\n",
    "> Ein Wortpalindrom ist ein Wort, das rückwärts gelesen dasselbe Wort ergibt (z. B. Reittier). Zu den Palindromen zählen aber auch Wörter, die rückwärts gelesen ein anderes sinnvolles Wort ergeben (z. B. Regal – Lager); in diesem Fall ist das Palindrom eine spezielle Form des Anagramms. Bei einem Satzpalindrom ist der Satz vorwärts wie rückwärts gelesen derselbe. Ein Palindrom kann auch aus mehreren Sätzen bestehen. Es gibt sogar Gedichte in Palindromform.\n",
    "\n",
    "> Quelle: https://de.wikipedia.org/wiki/Palindrom"
   ]
  },
  {
   "cell_type": "markdown",
   "metadata": {},
   "source": [
    "### Aufgabe 3"
   ]
  },
  {
   "cell_type": "markdown",
   "metadata": {},
   "source": [
    "*Vervollständige das Coding in der folgenden Zelle, so dass geprüft wird, ob das Wort in der Variablen **wort** ein sogenanntes Palindrom ist.*"
   ]
  },
  {
   "cell_type": "code",
   "execution_count": null,
   "metadata": {},
   "outputs": [],
   "source": [
    "\n",
    "wort = \"abcdefg\"\n",
    "\n",
    "if (wort == wort[::-1]):\n",
    "    print(wort, \"ist ein Palindrom\")\n",
    "else:\n",
    "    print(wort, \"ist KEIN Palindrom\")\n"
   ]
  },
  {
   "cell_type": "markdown",
   "metadata": {},
   "source": [
    "> **Tipp:** Konsultiere für die Lösung auch das Tutorial unter: https://developers.google.com/edu/python/strings"
   ]
  },
  {
   "cell_type": "markdown",
   "metadata": {},
   "source": [
    "### Aufgabe 4"
   ]
  },
  {
   "cell_type": "markdown",
   "metadata": {},
   "source": [
    "*Vielleicht hast Du eine zweite Version gefunden, mit der geprüft werden kann, ob ein Wort (ein String) von links nach rechts genau gleich ist, wie umgekehrt.*"
   ]
  },
  {
   "cell_type": "code",
   "execution_count": null,
   "metadata": {},
   "outputs": [],
   "source": [
    "\n",
    "wort = \"abcdefg\"\n",
    "\n",
    "if (wort == \"\".join(reversed(wort))):\n",
    "    print(wort, \"ist ein Palindrom\")\n",
    "else:\n",
    "    print(wort, \"ist KEIN Palindrom\")\n"
   ]
  },
  {
   "cell_type": "markdown",
   "metadata": {},
   "source": [
    "Und falls Du noch weitere Varianten oder wissenswertes gefunden hast, kannst Du dies natürlich ebenfalls nachfolgend festhalten:"
   ]
  },
  {
   "cell_type": "markdown",
   "metadata": {},
   "source": [
    "Lesenswertes zu Palindrom:\n",
    "- https://www.nzz.ch/vorwaerts_rueckwaerts_und_umgekehrt-1.1847200\n",
    "- http://www.gnudung.de/kram/sprache/palindrom.htm\n",
    "- https://www.experto.de/kommunikation/was-ist-ein-palindrom.html\n",
    "\n",
    "Weitere Coding-Varianten:\n",
    "- https://www.geeksforgeeks.org/reverse-string-python-5-different-ways/ \n",
    "- https://www.pythoncentral.io/quick-tip-reversing-strings-in-python/\n",
    "- https://www.programiz.com/python-programming/methods/built-in/reversed\n",
    "- https://www.w3schools.com/python/python_howto_reverse_string.asp\n",
    "- https://stackoverflow.com/questions/17331290/how-to-check-for-palindrome-using-python-logic \n"
   ]
  }
 ],
 "metadata": {
  "kernelspec": {
   "display_name": "Python 3",
   "language": "python",
   "name": "python3"
  },
  "language_info": {
   "codemirror_mode": {
    "name": "ipython",
    "version": 3
   },
   "file_extension": ".py",
   "mimetype": "text/x-python",
   "name": "python",
   "nbconvert_exporter": "python",
   "pygments_lexer": "ipython3",
   "version": "3.6.4"
  }
 },
 "nbformat": 4,
 "nbformat_minor": 2
}
