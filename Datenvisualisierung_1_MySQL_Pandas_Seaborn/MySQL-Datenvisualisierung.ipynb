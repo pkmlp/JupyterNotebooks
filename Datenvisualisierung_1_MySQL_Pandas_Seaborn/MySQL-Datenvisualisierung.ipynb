{
 "cells": [
  {
   "cell_type": "markdown",
   "id": "0f58db2e-8303-451f-8abc-f82d43b95ae5",
   "metadata": {},
   "source": [
    "# Datenvisualisierung"
   ]
  },
  {
   "cell_type": "markdown",
   "id": "d4855f3e-c4f1-4aa1-b448-397328596080",
   "metadata": {},
   "source": [
    "Datenvisualisierung ist der Prozess der Verwendung visueller Elemente wie Diagramme, Grafiken oder Karten zur Darstellung von Daten. Sie übersetzt komplexe, umfangreiche oder numerische Daten in eine visuelle Darstellung, die leichter zu verarbeiten ist."
   ]
  },
  {
   "cell_type": "markdown",
   "id": "a661fdc8-23ff-4eff-8d2a-8c3bad5f8852",
   "metadata": {},
   "source": [
    "## Voraussetzung für dieses Beispiel"
   ]
  },
  {
   "cell_type": "markdown",
   "id": "a578d188-9060-446f-bea7-cf36ffd2cb06",
   "metadata": {},
   "source": [
    "Dieses Beispiel setzt eine MySQL Datenbank mit Namen DataVisualisation voraus. In Dateiverzeichnis in dem sich dieses Notebook befindet, ist ein SQL-Script vorhanden, mit dem diese Datenbank erstellt werden kann.\n",
    "\n",
    "Weiter setzt dieses Notebook eine Python-Umgebung (Empfehlung Anaconda) voraus."
   ]
  },
  {
   "cell_type": "markdown",
   "id": "e161a27d-0a9a-4823-b353-d63b6b6847ae",
   "metadata": {},
   "source": [
    "## Repetition Python und MySQL"
   ]
  },
  {
   "cell_type": "markdown",
   "id": "94e84eb5-7493-475d-ae3b-d47f45ee147e",
   "metadata": {},
   "source": [
    "In diesem Beispiel verwenden wir Daten aus einer MySQL-Datenbank die wir als Grafik darstellen wollen. Die hier verwendeten Tools (Matplotlib, Seaborn, Pandas) können jedoch genauso mit Daten aus csv-Files oder anderen Datenquellen umgehen."
   ]
  },
  {
   "cell_type": "markdown",
   "id": "4becdd8a-4435-4daa-9c15-85d92c056793",
   "metadata": {},
   "source": [
    "### Daten aus einer Mysql Datenbank beschaffen"
   ]
  },
  {
   "cell_type": "markdown",
   "id": "8d1ebf64-fb15-46fb-86de-723b70704d9c",
   "metadata": {},
   "source": [
    "Um aus Python mit MySQL Datenbanken arbeiten zu können, muss das entsprechende Modul installiert sein.\n",
    "\n",
    "> ./anaconda3/bin/pip install mysql-connector-python\n",
    "\n",
    "Das kann auch aus dem Notebook heraus gemacht werden (siehe Zelle unten). Läuft das Notebook nicht in der von mir abgegbenen Lernumgebung, muss der Pfad zur Anaconda Installation angepasst werden."
   ]
  },
  {
   "cell_type": "code",
   "execution_count": null,
   "id": "6cb293dc-972d-49c8-b1ac-181b35ed1e1e",
   "metadata": {},
   "outputs": [],
   "source": [
    "%%bash\n",
    "/home/pkmlp/anaconda3/bin/pip install mysql-connector-python"
   ]
  },
  {
   "cell_type": "code",
   "execution_count": null,
   "id": "4354ae6f-2c07-4ca2-9c6e-9d7c63330f6a",
   "metadata": {},
   "outputs": [],
   "source": [
    "#\n",
    "# Importieren der benötigten Python-Module\n",
    "#\n",
    "\n",
    "import mysql.connector\n"
   ]
  },
  {
   "cell_type": "markdown",
   "id": "ff908b88-3000-4658-a0df-efcf4e583e1a",
   "metadata": {},
   "source": [
    "### Verbindung zur Datenbank aufbauen"
   ]
  },
  {
   "cell_type": "code",
   "execution_count": null,
   "id": "fdaa4469-4440-4165-a37a-b980a9a0652e",
   "metadata": {},
   "outputs": [],
   "source": [
    "##\n",
    "## Erstellen einer Verbindung zur Datenbank\n",
    "##\n",
    "\n",
    "user = \"root\" \n",
    "passwd = \"pkmlp\" \n",
    "host = \"localhost\" \n",
    "port = \"3306\"\n",
    "db = \"DataVisualisation\"\n",
    "\n",
    "dbConnection = mysql.connector.connect(host = host,\n",
    "                                       port = port,\n",
    "                                       user = user, \n",
    "                                       passwd = passwd, \n",
    "                                       db = db)\n"
   ]
  },
  {
   "cell_type": "markdown",
   "id": "d816d155-dbfe-4113-b50c-eaaf4c25435a",
   "metadata": {},
   "source": [
    "### Datenbank-Befehl aufbereiten und mittels Datenbank-Cursor absetzen"
   ]
  },
  {
   "cell_type": "markdown",
   "id": "b79be3f8-6f42-46a5-b545-8e9bc1f1a3ac",
   "metadata": {},
   "source": [
    "Das auszuführende SQL-Statement in einer Variablen aufbereiten."
   ]
  },
  {
   "cell_type": "code",
   "execution_count": null,
   "id": "83d059a2-0166-401b-a808-091feefd95fa",
   "metadata": {},
   "outputs": [],
   "source": [
    "sqlStatement = \"SELECT ProductName, ChangeDate, PriceAfter FROM PriceHistory ORDER BY ProductName, ChangeDate;\""
   ]
  },
  {
   "cell_type": "markdown",
   "id": "e3517059-c065-43d6-b4ce-69a85b6867b0",
   "metadata": {},
   "source": [
    "Da bei der Abfrage einer relationalen Datenbanken immer eine Menge (leere Menge, eine Menge mit genau einem Attribut, oder eine Menge, die die gesamte Tabellen beinhaltet) zurückgibt, muss ein Cursor definiert werden, damit die Resultatmenge dann Zeile für Zeile abgearbeitet werden kann."
   ]
  },
  {
   "cell_type": "code",
   "execution_count": null,
   "id": "b0862f5d-66d4-4a3d-a678-f911386f10ce",
   "metadata": {},
   "outputs": [],
   "source": [
    "dbCursor = dbConnection.cursor()"
   ]
  },
  {
   "cell_type": "markdown",
   "id": "d389c4ca-8661-4cdf-8084-0a534e39459a",
   "metadata": {},
   "source": [
    "Das auszuführende SQL-Statement wird dem Cursor in der Variablen übergeben und vom Cursor ausgeführt. "
   ]
  },
  {
   "cell_type": "code",
   "execution_count": null,
   "id": "64551d6a-832f-42fe-b40e-30517feb8ded",
   "metadata": {},
   "outputs": [],
   "source": [
    "dbCursor.execute(sqlStatement)"
   ]
  },
  {
   "cell_type": "markdown",
   "id": "4e9c2afc-722d-45a8-ac69-92aa6823a98f",
   "metadata": {},
   "source": [
    "### Daten verarbeiten"
   ]
  },
  {
   "cell_type": "markdown",
   "id": "11ee6464-143e-4eb3-b066-7345541f7f4d",
   "metadata": {},
   "source": [
    "Nun ist die Resultatmenge im Objekt dbCursor und wir können die wie in Python gewohnt bearbeiten."
   ]
  },
  {
   "cell_type": "code",
   "execution_count": null,
   "id": "d7a66f65-7a66-4da6-801f-a092be8a349a",
   "metadata": {},
   "outputs": [],
   "source": [
    "for DataRow in dbCursor:\n",
    "    print(\"ProductName:\", DataRow[0], \"ChangeDate:\", DataRow[1], \"PriceAfter:\", DataRow[2])"
   ]
  },
  {
   "cell_type": "markdown",
   "id": "da57fd00-0b3d-45ec-971c-732ecf3e6b5e",
   "metadata": {},
   "source": [
    "Hinweis: Ist ein Cursor in einer Schlaufe abgearbeitet, wird er aufgelöst."
   ]
  },
  {
   "cell_type": "markdown",
   "id": "76fe77d7-ffec-459d-b9a4-8c9b1ffb0b3d",
   "metadata": {},
   "source": [
    "### Verbindung zur Datenbank schliessen"
   ]
  },
  {
   "cell_type": "markdown",
   "id": "9da0fea1-be99-45ae-9079-47436928a1d8",
   "metadata": {},
   "source": [
    "Die Verbindung zur Datenbank nur so lange wie nötig aufrecht erhalten."
   ]
  },
  {
   "cell_type": "code",
   "execution_count": null,
   "id": "75462db4-e699-4790-88ef-f3f09926a887",
   "metadata": {},
   "outputs": [],
   "source": [
    "dbConnection.close()"
   ]
  },
  {
   "cell_type": "markdown",
   "id": "3c7f96bf-b518-4a73-a53c-c1c8b914325c",
   "metadata": {},
   "source": [
    "Damit ist die Repetition Python und MySQL abgeschlossen. Wir wissen, wie wir Daten aus einer MySQL-Datenbank in ein Python-Programm einlesen können."
   ]
  },
  {
   "cell_type": "markdown",
   "id": "074d6b6e-01c7-4d30-8507-70d2cea0c57c",
   "metadata": {},
   "source": [
    "## Daten visualisieren "
   ]
  },
  {
   "cell_type": "markdown",
   "id": "014a7584-16e1-40b7-bf4e-b9775c39e6d6",
   "metadata": {},
   "source": [
    "Python bietet mit den Modulen Pandas und Seaborn eine Vielzahl von Funktionen zur Verarbeitung von sogenannten DataFrames. Das sind im Wesentlichen Tabellen, was ja genau einem Result-Set eines SQL-Statements entspricht. Damit Daten aus beliebigen Datenquelllen verwendet werden können, verwenden wir in diesem Beispiel das Python Modul SQLAlchemy.\n"
   ]
  },
  {
   "cell_type": "markdown",
   "id": "011826c2-dae0-447a-89af-95c97f2c9de9",
   "metadata": {},
   "source": [
    ">SQLAlchemy is the Python SQL toolkit and Object Relational Mapper that gives application developers the full power and flexibility of SQL.\n",
    "\n",
    ">It provides a full suite of well known enterprise-level persistence patterns, designed for efficient and high-performing database access, adapted into a simple and Pythonic domain language."
   ]
  },
  {
   "cell_type": "markdown",
   "id": "3b27a988-00fc-4ccd-9167-eaabc3b68924",
   "metadata": {},
   "source": [
    "### Installieren der Python Module"
   ]
  },
  {
   "cell_type": "markdown",
   "id": "5fbb61e9-9337-4c19-bc7f-4f554a10515b",
   "metadata": {},
   "source": [
    "Installieren der benötigten Python Module für Pandas, Seaborn und SQLAlchemy in unserem Python-Environment"
   ]
  },
  {
   "cell_type": "code",
   "execution_count": null,
   "id": "06e968c7-5c8c-4101-bb9d-bab2c545c7e0",
   "metadata": {},
   "outputs": [],
   "source": [
    "%%bash\n",
    "/home/pkmlp/anaconda3/bin/pip install pandas\n",
    "/home/pkmlp/anaconda3/bin/pip install sqlalchemy\n",
    "/home/pkmlp/anaconda3/bin/pip install pymysql\n",
    "/home/pkmlp/anaconda3/bin/pip install seaborn\n"
   ]
  },
  {
   "cell_type": "markdown",
   "id": "ccdccb34-d85b-4f23-908e-87e53ea462b8",
   "metadata": {},
   "source": [
    "### Importieren der Python Module"
   ]
  },
  {
   "cell_type": "markdown",
   "id": "bb1e71b0-6aeb-4172-834e-7ec679d31c02",
   "metadata": {},
   "source": [
    "Importieren der benötigten Pythn Module für MySQL (resp. SQLAlchemy) und Pandas im Python-Programm."
   ]
  },
  {
   "cell_type": "code",
   "execution_count": null,
   "id": "bc17332e-5582-4f6f-8b0f-6eebe06e9bb5",
   "metadata": {},
   "outputs": [],
   "source": [
    "#\n",
    "# Importieren der benötigten Python-Module\n",
    "#\n",
    "\n",
    "import sqlalchemy as sqla\n",
    "import pandas as pd\n",
    "import numpy as np\n",
    "import matplotlib.pyplot as plt\n",
    "import seaborn as sns\n",
    "from datetime import datetime\n",
    "%matplotlib inline\n"
   ]
  },
  {
   "cell_type": "markdown",
   "id": "906f3f2e-c9dd-46d7-b502-98416216ce5d",
   "metadata": {},
   "source": [
    "### Erstellen einer Verbindung zur Datenbank"
   ]
  },
  {
   "cell_type": "markdown",
   "id": "5e9204e9-1991-4d3e-905f-1832f8a358dc",
   "metadata": {},
   "source": [
    "Der Connection String sieht für SQLAlchemy etwas anders aus, da mit SQLAlchemy beliebige Datenbanken und andere Datenquellen (csv-Files) verwendet werden können. Die benötigten Paramater sind jedoch die gleichen.\n"
   ]
  },
  {
   "cell_type": "code",
   "execution_count": null,
   "id": "45e7afb2-9a13-4e0a-a56a-156fb96d54ac",
   "metadata": {},
   "outputs": [],
   "source": [
    "##\n",
    "## Erstellen einer Verbindung zur Datenbank\n",
    "##\n",
    "\n",
    "user = \"root\" \n",
    "passwd = \"pkmlp\" \n",
    "host = \"localhost\" \n",
    "port = \"3306\"\n",
    "db = \"DataVisualisation\"\n",
    "\n",
    "dbEngine = sqla.create_engine('mysql+pymysql://' + user + ':' + passwd + '@' + host + ':' + port + '/' + db)\n",
    "dbConnection = dbEngine.connect()\n"
   ]
  },
  {
   "cell_type": "markdown",
   "id": "a2a55dc6-e0e3-464e-bc94-d3f079ee56be",
   "metadata": {},
   "source": [
    "### SQL Statement aufbereiten und absetzen"
   ]
  },
  {
   "cell_type": "markdown",
   "id": "73dd95ba-6608-40b8-9cca-d5cec4f4e57c",
   "metadata": {},
   "source": [
    "Nachdem wir eine Verbindung zur Datenbank erstellt haben, können wir SQL-Statements absetzen. Diesmal wollen wir aber das Result-Set des SQL-Statements nicht Zeile für Zeile verarbeiten, sondern wir wollen es in einem sogenannten pandas DataFrame haben, das wir anschliessend sehr komfortabel mit pandas Funktionalität weiter verarbeiten (auswerten) können."
   ]
  },
  {
   "cell_type": "code",
   "execution_count": null,
   "id": "9d15abc5-91c4-4400-adc4-3ed07eed12fb",
   "metadata": {},
   "outputs": [],
   "source": [
    "#\n",
    "# SQL Statement aufbereiten und absetzen\n",
    "#\n",
    "sqlStatement = 'SELECT ProductName, ChangeDate, PriceAfter FROM PriceHistory ORDER BY ProductName, ChangeDate;'\n",
    "df = pd.DataFrame(pd.read_sql_query(sqlStatement, dbConnection))\n"
   ]
  },
  {
   "cell_type": "markdown",
   "id": "80f568d7-541b-40aa-be5f-6fcba274b84f",
   "metadata": {},
   "source": [
    "### Datenbankverbindung schliessen"
   ]
  },
  {
   "cell_type": "code",
   "execution_count": null,
   "id": "40886810-865d-4e78-9a5e-41ecc2df2bf8",
   "metadata": {},
   "outputs": [],
   "source": [
    "\n",
    "#\n",
    "# Da wir das ResultSet nun als DataFrame haben, schliessen wir die Verbindung zur Datenbank\n",
    "# Das DataFrame bleibt uns dabei erhalten und wir können es beliebig weiterverarbeiten\n",
    "#\n",
    "dbConnection.close()"
   ]
  },
  {
   "cell_type": "markdown",
   "id": "6b4bd837-559d-4cba-b908-879e132a7c84",
   "metadata": {},
   "source": [
    "## Datenvisualisierung mit Pandas und Seaborn "
   ]
  },
  {
   "cell_type": "code",
   "execution_count": null,
   "id": "af0496da-e0ff-422b-b572-ec0f9bd3a5b7",
   "metadata": {},
   "outputs": [],
   "source": [
    "#\n",
    "# Zur Kontrolle schauen wir uns den Inhalt des DataFrames an\n",
    "#\n",
    "df"
   ]
  },
  {
   "cell_type": "code",
   "execution_count": null,
   "id": "0cf4d316-0a48-40a2-9aca-e0946a044a9b",
   "metadata": {},
   "outputs": [],
   "source": [
    "#\n",
    "# und die Datentypen des DataFrames\n",
    "#\n",
    "df.dtypes"
   ]
  },
  {
   "cell_type": "markdown",
   "id": "b3103562-288f-4eb3-829f-5122f4282a37",
   "metadata": {},
   "source": [
    "Nun können wir dieses DataFrame (resp. die in diesem DataFrame enthaltenen Preisentwicklungen verschiedener Produkte) visualisieren"
   ]
  },
  {
   "cell_type": "code",
   "execution_count": null,
   "id": "05aabd44-2dda-47f7-995c-c806033c0a63",
   "metadata": {},
   "outputs": [],
   "source": [
    "\n",
    "plt.figure(figsize=(12, 6))\n",
    "sns.lineplot(x='ChangeDate', y='PriceAfter', data=df, hue='ProductName', marker='X', markersize=9, linestyle=':')\n",
    "plt.xlabel('ChangeDate')\n",
    "plt.xticks(rotation=45, horizontalalignment='right')\n",
    "plt.ylabel('PriceAfter')\n",
    "plt.title('Preisänderungen über die Zeit')\n",
    "plt.show()\n"
   ]
  },
  {
   "cell_type": "markdown",
   "id": "b6f9d572-6d8b-49ca-813e-2ea686f5d174",
   "metadata": {},
   "source": [
    "Empfehlung: Schaut den Code mit der erstellten Grafik an. Damit sind die Parameter im Code ziemlich Slebsterklärend. Sonst helfen untenstehende Links, Google, Youtube oder ChatGPT gerne weiter "
   ]
  },
  {
   "cell_type": "markdown",
   "id": "74857ee2-65ec-42ca-806a-c31a4c177e45",
   "metadata": {},
   "source": [
    "# Wichtige Links"
   ]
  },
  {
   "cell_type": "markdown",
   "id": "2b925eed-8c7f-44d2-94c0-daa8bb679cd2",
   "metadata": {},
   "source": [
    "> https://www.anaconda.com/\n",
    "\n",
    "> https://www.sqlalchemy.org/\n",
    "\n",
    "> https://seaborn.pydata.org/\n",
    "\n",
    "> https://pandas.pydata.org/\n"
   ]
  },
  {
   "cell_type": "markdown",
   "id": "5ad69a31-665a-40cf-ae73-afa1a09b0ee2",
   "metadata": {},
   "source": [
    "## That's All Folks"
   ]
  }
 ],
 "metadata": {
  "kernelspec": {
   "display_name": "Python 3 (ipykernel)",
   "language": "python",
   "name": "python3"
  },
  "language_info": {
   "codemirror_mode": {
    "name": "ipython",
    "version": 3
   },
   "file_extension": ".py",
   "mimetype": "text/x-python",
   "name": "python",
   "nbconvert_exporter": "python",
   "pygments_lexer": "ipython3",
   "version": "3.11.4"
  }
 },
 "nbformat": 4,
 "nbformat_minor": 5
}
