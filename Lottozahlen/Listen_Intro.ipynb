{
 "cells": [
  {
   "cell_type": "markdown",
   "metadata": {},
   "source": [
    "# Lottozahlen"
   ]
  },
  {
   "cell_type": "markdown",
   "metadata": {},
   "source": [
    "Was ist das?"
   ]
  },
  {
   "cell_type": "code",
   "execution_count": null,
   "metadata": {},
   "outputs": [],
   "source": [
    "lottozahlen = []\n",
    "type(lottozahlen)\n",
    "print(\"Anzahl Elemente in der Liste: \", len(lottozahlen))"
   ]
  },
  {
   "cell_type": "markdown",
   "metadata": {},
   "source": [
    "Eine leere Liste"
   ]
  },
  {
   "cell_type": "markdown",
   "metadata": {},
   "source": [
    "Wie kann ich der Liste ein Element hinzufügen."
   ]
  },
  {
   "cell_type": "code",
   "execution_count": null,
   "metadata": {},
   "outputs": [],
   "source": [
    "lottozahlen = []\n",
    "\n",
    "lottozahlen.append(123)\n",
    "print(\"Anzahl Elemente in der Liste: \", len(lottozahlen))\n",
    "print(lottozahlen)\n"
   ]
  },
  {
   "cell_type": "markdown",
   "metadata": {},
   "source": [
    "Wie kann ich die Liste als ganzes Ausgeben?"
   ]
  },
  {
   "cell_type": "code",
   "execution_count": null,
   "metadata": {},
   "outputs": [],
   "source": [
    "lottozahlen = [1,2,3,4,5,6]\n",
    "\n",
    "print(\"Anzahl Elemente in der Liste: \", len(lottozahlen))\n",
    "print(lottozahlen)\n"
   ]
  },
  {
   "cell_type": "markdown",
   "metadata": {},
   "source": [
    "Wie kann ich Liste Element für Element ausgeben?"
   ]
  },
  {
   "cell_type": "code",
   "execution_count": null,
   "metadata": {},
   "outputs": [],
   "source": [
    "lottozahlen = [1,2,3,4]\n",
    "\n",
    "print(\"Anzahl Elemente in der Liste: \", len(lottozahlen))\n",
    "\n",
    "for element in lottozahlen:\n",
    "    print(element)\n"
   ]
  },
  {
   "cell_type": "markdown",
   "metadata": {},
   "source": [
    "Wie kann ich prüfen, ob ein Element bereits in der Liate ist?"
   ]
  },
  {
   "cell_type": "code",
   "execution_count": null,
   "metadata": {},
   "outputs": [],
   "source": [
    "lottozahlen = [1,2,3,4]\n",
    "\n",
    "print(\"Anzahl Elemente in der Liste:\", len(lottozahlen))\n",
    "print(lottozahlen)\n",
    "\n",
    "element = 7\n",
    "\n",
    "if element in lottozahlen:\n",
    "    print(\"Das Element:\", element, \"ist in der Liste enthalten\")\n",
    "else:\n",
    "    print(\"Das Element:\", element, \"ist NICHT in der Liste enthalten\")\n",
    "\n"
   ]
  },
  {
   "cell_type": "markdown",
   "metadata": {},
   "source": [
    "Wie kann ich eine Liste sortieren?"
   ]
  },
  {
   "cell_type": "code",
   "execution_count": null,
   "metadata": {},
   "outputs": [],
   "source": [
    "lottozahlen = [1,4,3,2]\n",
    "\n",
    "print(\"Anzahl Elemente in der Liste: \", len(lottozahlen))\n",
    "print(\"Unsortiert:\", lottozahlen)\n",
    "\n",
    "lottozahlen.sort()\n",
    "print(\"Sortiert\", lottozahlen)\n"
   ]
  },
  {
   "cell_type": "markdown",
   "metadata": {},
   "source": [
    "Packen wir alles zusammen und erstellen ein Programm, dass zufällig 6 Zahlen aus dem Bereich von/mit  1 bis/mit 45 in die Liste einfügt und diese dann anzeigt."
   ]
  },
  {
   "cell_type": "code",
   "execution_count": null,
   "metadata": {},
   "outputs": [],
   "source": [
    "\n",
    "import random\n",
    "\n",
    "lottozahlen = []\n",
    "while len(lottozahlen) < 6:\n",
    "    zufallszahl = random.randint(1,45)\n",
    "    if zufallszahl in lottozahlen:\n",
    "        continue\n",
    "    else:\n",
    "        lottozahlen.append(zufallszahl)\n",
    "\n",
    "\n",
    "print(\"Lotozahlen vor Sortierung: \", lottozahlen)\n",
    "\n",
    "lottozahlen.sort()\n",
    "print(\"Lottozahlen nach Sortierung: \", lottozahlen)\n"
   ]
  },
  {
   "cell_type": "markdown",
   "metadata": {},
   "source": [
    "That's it"
   ]
  }
 ],
 "metadata": {
  "kernelspec": {
   "display_name": "Python 3",
   "language": "python",
   "name": "python3"
  },
  "language_info": {
   "codemirror_mode": {
    "name": "ipython",
    "version": 3
   },
   "file_extension": ".py",
   "mimetype": "text/x-python",
   "name": "python",
   "nbconvert_exporter": "python",
   "pygments_lexer": "ipython3",
   "version": "3.6.4"
  }
 },
 "nbformat": 4,
 "nbformat_minor": 2
}
