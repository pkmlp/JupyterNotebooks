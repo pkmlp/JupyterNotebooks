{
 "cells": [
  {
   "cell_type": "markdown",
   "metadata": {},
   "source": [
    "# Lottozahlen"
   ]
  },
  {
   "cell_type": "markdown",
   "metadata": {},
   "source": [
    "Generieren von Zufallszahlen für das Schweizer Zahlenlotto: 6 aus 45"
   ]
  },
  {
   "cell_type": "code",
   "execution_count": null,
   "metadata": {},
   "outputs": [],
   "source": [
    "\n",
    "import random\n",
    "\n",
    "lottozahlen = []\n",
    "while len(lottozahlen) < 6:\n",
    "    zufallszahl = random.randint(1,45)\n",
    "    if zufallszahl in lottozahlen:\n",
    "        continue\n",
    "    else:\n",
    "        lottozahlen.append(zufallszahl)\n",
    "\n",
    "print(lottozahlen)\n"
   ]
  },
  {
   "cell_type": "markdown",
   "metadata": {},
   "source": [
    "Obiges Coding erzeugt 6 Zufallszahlen zwischen 1 und 45, inkl. der 1 und der 45. Ebenfalls wird sichergestellt, dass es keine doppelten Zahlen gibt.\n",
    "\n",
    "Dafür erstellen wir zuerst eine leere Liste mit den Lottozahlen (Zeile 4).\n",
    "\n",
    "Dann gehe wir in eine Schlaufe, die wir erst dann verlassen, wenn wir wirklich alle 6 Zahlen haben. Oder etwas anders formuliert: So lange wir immer noch nicht 6 Zahlen haben, bleiben wir in der Schlaufe (Zeile 5).\n",
    "\n",
    "In der Schlaufe lassen wir und vom Computer eine Zufallszahl zwischen 1 und 45 (inkl. 1 und 45) zurückgeben (Zeile 6)\n",
    "\n",
    "Dann prüfen wir, ob diese Zahl bereits in unsere Liste mit den lottozahlen ist (Zeile 7).\n",
    "\n",
    "Ist die Zahl bereits in der Liste, so wird Zeile 8 ausgeführt, das heisst, es wird zurück an den Schlaufenanfang gesprungen.\n",
    "\n",
    "Ist die Zahl nicht in der Liste, so wird in Zeile 8 weitergefahren. Auf Zeile 8 wird die Zahl in die Liste aufgenommen.\n",
    "\n",
    "Somit haben wir das Schlaufenende erreicht und es wird wieder an den Schlaufenanfang gesprungen.\n",
    "\n",
    "Am Schlaufenanfang wird wieder geprüft, ob wir noch nicht alle 6 Zahlen haben. Haben wir noch nicht 6 Zahlen in der Liste, wird die Schlaufe erneut ausgeführt. Haben wir aber schon 6 Zahlen wird die Schlaufe nicht mehr ausgeführt und es geht auf Zeile 12 weiter.\n",
    "\n",
    "Als letztes geben wir dann die Liste mit den 6 gezogenen Zalen aus (Zeile 12).\n",
    "\n"
   ]
  },
  {
   "cell_type": "markdown",
   "metadata": {},
   "source": [
    "## Simulieren wir die Ziehung der Lottozahlen"
   ]
  },
  {
   "cell_type": "markdown",
   "metadata": {},
   "source": [
    "Wir \"erstellen\" als erstes die 45 Lottokugeln"
   ]
  },
  {
   "cell_type": "code",
   "execution_count": null,
   "metadata": {},
   "outputs": [],
   "source": [
    "\n",
    "import random\n",
    "\n",
    "gezogeneKugeln = []\n",
    "lottoKugeln = []\n",
    "for lottoKugel in range(1,46):\n",
    "    lottoKugeln.append(lottoKugel)\n",
    "\n",
    "print(\"Gezogene Kugeln : \", gezogeneKugeln)\n",
    "print(\"Kugeln im 'Topf': \", lottoKugeln)\n"
   ]
  },
  {
   "cell_type": "markdown",
   "metadata": {},
   "source": [
    "Damit haben wir einen \"Topf\" mit Namen _lottokugeln_ in dem 45 Kugeln liegen, schön durchnummeriert von 1 bis 45"
   ]
  },
  {
   "cell_type": "markdown",
   "metadata": {},
   "source": [
    "### Ziehung der ersten Zahl"
   ]
  },
  {
   "cell_type": "markdown",
   "metadata": {},
   "source": [
    "Nun nehmen wir eine dieser Kugeln aus dem Topf heraus. Welche wir herausnehmen, ist völlig zufällig. Wir nehmen diese aber aus dem \"Topf\" raus."
   ]
  },
  {
   "cell_type": "code",
   "execution_count": null,
   "metadata": {},
   "outputs": [],
   "source": [
    "\n",
    "gezogeneKugeln.append(lottoKugeln.pop(random.randint(0, len(lottoKugeln)-1)))\n",
    "print(\"Gezogene Kugeln :\", gezogeneKugeln)\n",
    "print(\"Kugeln im 'Topf':\", lottoKugeln)\n"
   ]
  },
  {
   "cell_type": "markdown",
   "metadata": {},
   "source": [
    "Wir sehen nun die \"_gezogene Kugel_\" (Zeile 3) und die noch \"_im Topf verbliebenen Kugeln_\" (Zeile 4). "
   ]
  },
  {
   "cell_type": "markdown",
   "metadata": {},
   "source": [
    "### Ziehung der zweiten Zahl"
   ]
  },
  {
   "cell_type": "markdown",
   "metadata": {},
   "source": [
    "Nun nehmen wir eine dieser Kugeln aus dem Topf heraus. Welche wir herausnehmen, ist völlig zufällig. Wir nehmen diese aber aus dem \"Topf\" raus."
   ]
  },
  {
   "cell_type": "code",
   "execution_count": null,
   "metadata": {},
   "outputs": [],
   "source": [
    "\n",
    "gezogeneKugeln.append(lottoKugeln.pop(random.randint(0, len(lottoKugeln)-1)))\n",
    "print(\"Gezogene Kugeln :\", gezogeneKugeln)\n",
    "print(\"Kugeln im 'Topf':\", lottoKugeln)\n"
   ]
  },
  {
   "cell_type": "markdown",
   "metadata": {},
   "source": [
    "Wir sehen nun die \"_gezogenen Kugeln_\" (Zeile 3) und die noch \"_im Topf verbliebenen Kugeln_\" (Zeile 4). "
   ]
  },
  {
   "cell_type": "markdown",
   "metadata": {},
   "source": [
    "### Ziehung der dritten Zahl"
   ]
  },
  {
   "cell_type": "markdown",
   "metadata": {},
   "source": [
    "Nun nehmen wir eine dieser Kugeln aus dem Topf heraus. Welche wir herausnehmen, ist völlig zufällig. Wir nehmen diese aber aus dem \"Topf\" raus."
   ]
  },
  {
   "cell_type": "code",
   "execution_count": null,
   "metadata": {},
   "outputs": [],
   "source": [
    "\n",
    "gezogeneKugeln.append(lottoKugeln.pop(random.randint(0, len(lottoKugeln)-1)))\n",
    "print(\"Gezogene Kugeln : \", gezogeneKugeln)\n",
    "print(\"Kugeln im 'Topf': \", lottoKugeln)\n"
   ]
  },
  {
   "cell_type": "markdown",
   "metadata": {},
   "source": [
    "Wir sehen nun die \"_gezogenen Kugeln_\" (Zeile 3) und die noch \"_im Topf verbliebenen Kugeln_\" (Zeile 4). "
   ]
  },
  {
   "cell_type": "markdown",
   "metadata": {},
   "source": [
    "### Ziehung der vierten Zahl"
   ]
  },
  {
   "cell_type": "markdown",
   "metadata": {},
   "source": [
    "Nun nehmen wir eine dieser Kugeln aus dem Topf heraus. Welche wir herausnehmen, ist völlig zufällig. Wir nehmen diese aber aus dem \"Topf\" raus."
   ]
  },
  {
   "cell_type": "code",
   "execution_count": null,
   "metadata": {},
   "outputs": [],
   "source": [
    "\n",
    "gezogeneKugeln.append(lottoKugeln.pop(random.randint(0, len(lottoKugeln)-1)))\n",
    "print(\"Gezogene Kugeln : \", gezogeneKugeln)\n",
    "print(\"Kugeln im 'Topf': \", lottoKugeln)\n"
   ]
  },
  {
   "cell_type": "markdown",
   "metadata": {},
   "source": [
    "Wir sehen nun die \"_gezogenen Kugeln_\" (Zeile 3) und die noch \"_im Topf verbliebenen Kugeln_\" (Zeile 4). "
   ]
  },
  {
   "cell_type": "markdown",
   "metadata": {},
   "source": [
    "### Ziehung der fünften Zahl"
   ]
  },
  {
   "cell_type": "markdown",
   "metadata": {},
   "source": [
    "Nun nehmen wir eine dieser Kugeln aus dem Topf heraus. Welche wir herausnehmen, ist völlig zufällig. Wir nehmen diese aber aus dem \"Topf\" raus."
   ]
  },
  {
   "cell_type": "code",
   "execution_count": null,
   "metadata": {},
   "outputs": [],
   "source": [
    "\n",
    "gezogeneKugeln.append(lottoKugeln.pop(random.randint(0, len(lottoKugeln)-1)))\n",
    "print(\"Gezogene Kugeln : \", gezogeneKugeln)\n",
    "print(\"Kugeln im 'Topf': \", lottoKugeln)\n"
   ]
  },
  {
   "cell_type": "markdown",
   "metadata": {},
   "source": [
    "Wir sehen nun die \"_gezogenen Kugeln_\" (Zeile 3) und die noch \"_im Topf verbliebenen Kugeln_\" (Zeile 4). "
   ]
  },
  {
   "cell_type": "markdown",
   "metadata": {},
   "source": [
    "### Ziehung der sechsten Zahl"
   ]
  },
  {
   "cell_type": "markdown",
   "metadata": {},
   "source": [
    "Nun nehmen wir eine dieser Kugeln aus dem Topf heraus. Welche wir herausnehmen, ist völlig zufällig. Wir nehmen diese aber aus dem \"Topf\" raus."
   ]
  },
  {
   "cell_type": "code",
   "execution_count": null,
   "metadata": {},
   "outputs": [],
   "source": [
    "\n",
    "gezogeneKugeln.append(lottoKugeln.pop(random.randint(0, len(lottoKugeln)-1)))\n",
    "print(\"Gezogene Kugeln : \", gezogeneKugeln)\n",
    "print(\"Kugeln im 'Topf': \", lottoKugeln)\n"
   ]
  },
  {
   "cell_type": "markdown",
   "metadata": {},
   "source": [
    "Wir sehen nun die \"_gezogenen Kugeln_\" (Zeile 3) und die noch \"_im Topf verbliebenen Kugeln_\" (Zeile 4). "
   ]
  },
  {
   "cell_type": "markdown",
   "metadata": {},
   "source": [
    "### Ziehung der Zusatzzahl"
   ]
  },
  {
   "cell_type": "markdown",
   "metadata": {},
   "source": [
    "Nun nehmen wir eine dieser Kugeln aus dem Topf heraus. Welche wir herausnehmen, ist völlig zufällig. Wir nehmen diese aber aus dem \"Topf\" raus."
   ]
  },
  {
   "cell_type": "code",
   "execution_count": null,
   "metadata": {},
   "outputs": [],
   "source": [
    "\n",
    "zusatzZahl = []\n",
    "zusatzZahl.append(lottoKugeln.pop(random.randint(0, len(lottoKugeln)-1)))\n",
    "print(\"Gezogene Kugeln : \", gezogeneKugeln, \"  Zusatzzahl: \", zusatzZahl)\n",
    "print(\"Kugeln im 'Topf': \", lottoKugeln)\n"
   ]
  },
  {
   "cell_type": "markdown",
   "metadata": {},
   "source": [
    "Wir sehen nun die \"_gezogenen Kugel und die Zusatzzahl_\" (Zeile 3) und die noch \"_im Topf verbliebenen Kugeln_\" (Zeile 4). "
   ]
  },
  {
   "cell_type": "markdown",
   "metadata": {},
   "source": [
    "Was uns auffällt ist, dass die Ziehung der einzelnen Zahlen immer genau gleich abläuft, also ideal für eine Schlaufe. Packen wir das in ein Programm und \"_schmücken_\" das noch etwas aus."
   ]
  },
  {
   "cell_type": "code",
   "execution_count": null,
   "metadata": {
    "scrolled": true
   },
   "outputs": [],
   "source": [
    "\n",
    "import random\n",
    "import time\n",
    "\n",
    "\n",
    "print()\n",
    "print(\"--------------------------------------------------\")\n",
    "print(\"----- Willkommen zur Ziehung der Lottozahlen -----\")\n",
    "print(\"--------------------------------------------------\")\n",
    "print()\n",
    "\n",
    "print(\"Folgende Kugeln sind vom Notar Gio Magaldi\")\n",
    "print(\"kontrolliert und bereit für die Ziehung.\")\n",
    "print()\n",
    "\n",
    "gezogeneKugeln = []\n",
    "lottoKugeln = []\n",
    "for lottoKugel in range(1,46):\n",
    "    lottoKugeln.append(lottoKugel)\n",
    "\n",
    "print()\n",
    "print(\"Gezogene Kugeln : \", gezogeneKugeln)\n",
    "print(\"Kugeln im 'Topf': \", lottoKugeln)\n",
    "\n",
    "time.sleep(3)\n",
    "print()\n",
    "print(\"Die Kugeln werden nun gemischt und\")\n",
    "print(\"Eine nach der Anderen gezogen\")\n",
    "print()\n",
    "\n",
    "for i in range(1,7):\n",
    "    print(\"Die Kugeln werden wieder gemischt ...\")\n",
    "    time.sleep(3)\n",
    "    gezogeneKugeln.append(lottoKugeln.pop(random.randint(0, len(lottoKugeln)-1)))\n",
    "    print(\"Gezogene Kugeln : \", gezogeneKugeln)\n",
    "    print(\"Kugeln im 'Topf': \", lottoKugeln) \n",
    "    print()\n",
    "\n",
    "print(\"Nun wird noch die Zusatzzahl gezogen\")\n",
    "print(\"Die Kugeln werden wieder gemischt ...\")\n",
    "time.sleep(3)\n",
    "\n",
    "zusatzZahl = []\n",
    "zusatzZahl.append(lottoKugeln.pop(random.randint(0, len(lottoKugeln)-1)))\n",
    "print(\"Gezogene Kugeln : \", gezogeneKugeln, \"  Zusatzzahl: \", zusatzZahl)\n",
    "print(\"Kugeln im 'Topf': \", lottoKugeln)\n",
    "print()\n",
    "print(\"Nochmals zum Mitschreiben:\")\n",
    "print(\"--------------------------------------------------\")\n",
    "print(\"Die Lottozahlen:\", sorted(gezogeneKugeln))\n",
    "print(\"Die Zusatzzahl :\", zusatzZahl)\n",
    "print(\"--------------------------------------------------\")\n"
   ]
  },
  {
   "cell_type": "markdown",
   "metadata": {},
   "source": [
    "That's all Folks"
   ]
  }
 ],
 "metadata": {
  "kernelspec": {
   "display_name": "Python 3",
   "language": "python",
   "name": "python3"
  },
  "language_info": {
   "codemirror_mode": {
    "name": "ipython",
    "version": 3
   },
   "file_extension": ".py",
   "mimetype": "text/x-python",
   "name": "python",
   "nbconvert_exporter": "python",
   "pygments_lexer": "ipython3",
   "version": "3.6.4"
  }
 },
 "nbformat": 4,
 "nbformat_minor": 2
}
