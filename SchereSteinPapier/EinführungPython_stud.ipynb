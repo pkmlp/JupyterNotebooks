{
 "cells": [
  {
   "cell_type": "markdown",
   "metadata": {},
   "source": [
    "# Programmieren mit Python"
   ]
  },
  {
   "cell_type": "markdown",
   "metadata": {},
   "source": [
    "Warum soll ich überhaupt programmieren lernen?\n",
    "\n",
    "> Steve Jobs:\n",
    "> \"Jeder Mensch in diesem Land sollte lernen, wie man einen Computer programmiert, weil es einem denken lehrt.\"\n",
    "\n",
    "\n",
    "Python ist eine einfach zu lernende, aber mächtige Programmiersprache. Durch die elegante Syntax und die dynamische Typisierung ist Python als interpretierte Sprache sowohl für Skripte als auch für schnelle Anwendungsentwicklung (Rapid Application Development) hervorragend geeignet.\n",
    "\n",
    "Der Python-Interpreter und die umfangreiche Standardbibliothek sind als Quelltext und in binärer Form für alle wichtigen Plattformen auf der Webseite http://www.python.org frei verfügbar, und können frei weiterverbreitet werden.\n",
    "\n",
    "Auf der gleichen Seite finden sich Distributionen von Drittanbietern, Verweise auf weitere freie Module, Programme und Werkzeuge, sowie zusätzliche Dokumentation.\n",
    "\n",
    "Im Internet sind unzählige sehr gute Tutorials zu Programmierung mit Python zu finden. An dieser Stelle geht es nur um eine sehr schnelle Einführung in die Programmierung, an derem Ende aber doch etwas vorliegen soll, das auch Sass macht. \n",
    "\n",
    "Wir orientieren uns dabei am alt bekannten EVA-Prinzip:\n",
    "\n",
    "<img src=\"eva-prinzip.gif\">"
   ]
  },
  {
   "cell_type": "markdown",
   "metadata": {},
   "source": [
    "## Variablen"
   ]
  },
  {
   "cell_type": "markdown",
   "metadata": {},
   "source": [
    "In Programmen (dem V für Verarbeitung aus EVA) braucht man eine Möglichkeit, Werte zu speichern, z.B. Zwischenergebnisse von Berechnungen, Eingaben die ein Benutzer gemacht hat, Daten die man aus einer Datenbank gelesen hat,  etc. Dies geschieht mit Hilfe von Variablen. Genau wie in der Mathematik ist eine Variable ein Platzhalter für einen Wert.\n",
    "\n",
    "Der Begriff Platzhalter ist hier wörtlich zu nehmen. Bei der Deklaration einer Variablen stellt der Computer nämlich für den Wert einen Platz im Speicher bereit. Damit der Computer weiss, wie der Inhalt des Speicherplatzes zu interpretieren ist, wird bei der Deklaration der Typ des Wertes festgelegt. Nicht so bei Python. Python ist eine dynamisch typisierte Programmiersprache (siehe Abschnitt oben). Das heisst, dass Python aufgrund des Wertes der abgespeichert werden soll, entscheidet, ob es eine numerische Variable (für Zahlen mit denen auch gerechent werden soll) oder eine string Variable (für Texte) ist.\n",
    "\n",
    "Es gibt natürlich noch eine Vielzahl weiterer Typen von Daten, die wir aber zu einem späteren Zeitpunkt betrachten werden.\n",
    "\n",
    "Schauen wir das mal an:"
   ]
  },
  {
   "cell_type": "code",
   "execution_count": null,
   "metadata": {},
   "outputs": [],
   "source": []
  },
  {
   "cell_type": "markdown",
   "metadata": {},
   "source": [
    "In obiger Zeile haben wir eine Variable mit Namen *vorname* deklariert. Dabei haben wir der Variablen gleich auch einen Wert, einen Inhalt, zugewiesen. Hier den Text \"Peter\" (ohne Anführungs- und Schlusszeichen).\n",
    "\n",
    "Mit folgendem Befehl können wir den Typ der Variablen sehen:"
   ]
  },
  {
   "cell_type": "code",
   "execution_count": null,
   "metadata": {},
   "outputs": [],
   "source": []
  },
  {
   "cell_type": "markdown",
   "metadata": {},
   "source": [
    "Die Variable *vorname* ist vom Typ String. \n",
    "\n",
    "Erstellen wir noch eine Variable mit der wir auch rechnen können, eine numerische Variable:"
   ]
  },
  {
   "cell_type": "code",
   "execution_count": null,
   "metadata": {},
   "outputs": [],
   "source": []
  },
  {
   "cell_type": "markdown",
   "metadata": {},
   "source": [
    "Überprüfen wir wieder zuerst den Typ der Python der Variablen *zahl* zugewiesen hat."
   ]
  },
  {
   "cell_type": "code",
   "execution_count": null,
   "metadata": {},
   "outputs": [],
   "source": []
  },
  {
   "cell_type": "markdown",
   "metadata": {},
   "source": [
    "Soweit so gut. Dynamische Typisierung hat sicher Vorteile, birgt aber auch Gefahren. Schauen wir das mal an:"
   ]
  },
  {
   "cell_type": "code",
   "execution_count": null,
   "metadata": {},
   "outputs": [],
   "source": []
  },
  {
   "cell_type": "markdown",
   "metadata": {},
   "source": [
    "Damit haben wir der Variablen *zahl* etwas anderes zugewiesen. Überprüfen wir erneut den Typ der diese Variable nun hat."
   ]
  },
  {
   "cell_type": "code",
   "execution_count": null,
   "metadata": {},
   "outputs": [],
   "source": []
  },
  {
   "cell_type": "markdown",
   "metadata": {},
   "source": [
    "Dynamische Typisierung (i.d.R. interpretierte Programmiersprachen) erlaubt den Wechsel des Typs einer Variablen während des Programmblaufs. \n",
    "\n",
    "Damit haben wir eine Variable vom Typ Integer (int - mit der man hätte rechnen können), umgewandelt ind eine Variable vom Typ String (str - mit der man nicht rechnen, aber anderes machen, was dann wiederum nicht mit int Variablen geht). \n",
    "\n",
    "Statisch typisierte Programmiersprachen (i.d.R. alle kompilierten Programmiersprachen) erlauben dies nicht.\n",
    "\n",
    "Das ist weder gut noch schlecht. Der Programmierer sollte sich dessen jedoch bewusst sein.\n",
    "\n",
    "In folgender Zelle kannst Du mit Variablen und deren Typen experimentieren. Weise der Variablen mit dem Namen *var* einfach verschiedene Werte zu (z.B. 1, \"eins\", 12, 3.14, ...) und führe die Zelle (die Python-Befehle in der Zelle) aus. Klicke dazu auf \"Run\" oder tippe shift-enter auf der Tastatur."
   ]
  },
  {
   "cell_type": "code",
   "execution_count": null,
   "metadata": {},
   "outputs": [],
   "source": [
    "\n"
   ]
  },
  {
   "cell_type": "markdown",
   "metadata": {},
   "source": [
    "Später noch mehr zu Variablen, insbesondere auch zu weiteren Daten- (Variablen-) Typen. \n",
    "\n",
    "Für die weitere Einführung bleiben wir weiterhn beim EVA-Prinzip. "
   ]
  },
  {
   "cell_type": "markdown",
   "metadata": {},
   "source": [
    "## Eingabe"
   ]
  },
  {
   "cell_type": "markdown",
   "metadata": {},
   "source": [
    "Muss ein Programm eine EIngabe des Benutzers lesen, so mss das Programm den Inhalt der Eingabe in Variable ablegen. Dies geschieht wie folgt:"
   ]
  },
  {
   "cell_type": "code",
   "execution_count": null,
   "metadata": {},
   "outputs": [],
   "source": []
  },
  {
   "cell_type": "markdown",
   "metadata": {},
   "source": [
    "Untersuche in folgender Zeile den Typ den die Variable *eingabe* hat. Untersuche auch, ob der Typ der Variablen abhängig von der getätigten Eingabe (Zahl oder Text) ist."
   ]
  },
  {
   "cell_type": "code",
   "execution_count": null,
   "metadata": {},
   "outputs": [],
   "source": []
  },
  {
   "cell_type": "markdown",
   "metadata": {},
   "source": [
    "**Eingaben** werden **immer** als **String** eingelesen. Wie wir eingegebene Zahlen auch wirklich in Zahlen umwandeln können, sehen wir im Kapitel Verarbeitung. "
   ]
  },
  {
   "cell_type": "markdown",
   "metadata": {},
   "source": [
    "Bevor wir nun zur Verarbeitung der Daten kommen, betrachten wir, wie etwas aus einem Programm ausgegeben werden kann. "
   ]
  },
  {
   "cell_type": "markdown",
   "metadata": {},
   "source": [
    "## Ausgabe"
   ]
  },
  {
   "cell_type": "markdown",
   "metadata": {},
   "source": [
    "Für die Ausgabe in Python wird der Befehl *print* verwendet."
   ]
  },
  {
   "cell_type": "code",
   "execution_count": null,
   "metadata": {},
   "outputs": [],
   "source": []
  },
  {
   "cell_type": "markdown",
   "metadata": {},
   "source": [
    "Mit dem *print*-Befehl kann auch der Inhalt einer Variablen ausgegeben werden:"
   ]
  },
  {
   "cell_type": "code",
   "execution_count": null,
   "metadata": {},
   "outputs": [],
   "source": [
    "\n",
    "\n"
   ]
  },
  {
   "cell_type": "markdown",
   "metadata": {},
   "source": [
    "Damit kennen wir nun je eine Möglichkeit etwas in ein Programm \"einzugeben\" und etwas aus einem Programm \"auszugeben\". Neben *input* (für Tastatur-Eingabe, einer Variante des E in EVA) und *print* (für die Ausgabe auf das Terminal, einer Variante des A in EVA) gibt es noch viele weitere Möglichkeiten etwas in ein Programm \"einzulesen\" und \"auszugeben\" - z.B. aus Datenbanken lesen und in Datenbanken schreiben, aus Dateien (Files) lesen und in Dateien (Files) schreiben, etwas auf den Drucker ausgeben, etc. Wir haben also noch Futter für Monate um die Programmierung mit Python zu lernen. Aber wie das mit dem Futtern so ist: Zuviel auf ein mal endet i.d.R. *über der Schüssel ...*.   \n",
    "\n",
    "\n",
    "Im folgenden Kapitel untersuchen wir nun Programmiersprach-Konstrukte zur Verbeitung der eingelesenen Daten/Variablen.\n"
   ]
  },
  {
   "cell_type": "markdown",
   "metadata": {},
   "source": [
    "## Verarbeitung"
   ]
  },
  {
   "cell_type": "markdown",
   "metadata": {},
   "source": [
    "Zwei der grundlegenden Konstrukte sind Iteration (Schlaufen) und Selektion (Auswahl). "
   ]
  },
  {
   "cell_type": "markdown",
   "metadata": {},
   "source": [
    "### Iteration (Schlaufe)"
   ]
  },
  {
   "cell_type": "markdown",
   "metadata": {},
   "source": [
    "Es gibt verschiedene Schlaufen-Arten. Zu den wichtigsten gehören die *while* und die *for* Schlaufen. Als erstes fokussieren wir auf die *while-Schlaufe*. Die *for* Schlaufe werden wir später untersuchen. \n",
    "\n",
    "Folgendes Beispiel soll gelten:"
   ]
  },
  {
   "cell_type": "code",
   "execution_count": null,
   "metadata": {},
   "outputs": [],
   "source": [
    "\n",
    "\n",
    "\n",
    "\n"
   ]
  },
  {
   "cell_type": "markdown",
   "metadata": {},
   "source": [
    "Obiges kleines Beispiel zeigt neben der while-Schlaufe auch andere wichtige Python-Konstrukte.\n",
    "\n",
    "Dazu gehören die Einrückung und der Doppelpunkt am Ende der while-Zeile.\n",
    "\n",
    "Es ist absolut Elementar, diese \"Eigenschaften\" zu verstehen. Diskutiere mit Deinem Dozenten und Deinen Mitstudierende diese Punkte, bis diese wirklich klar sind. "
   ]
  },
  {
   "cell_type": "markdown",
   "metadata": {},
   "source": [
    "### Selektion (Auswahl)"
   ]
  },
  {
   "cell_type": "markdown",
   "metadata": {},
   "source": [
    "Die Selektion (Auswahl) wir verwendet, um abhängig von der Eingabe resp. dem Wert einer Variablen etwas zu tun oder eben nicht zu tun.\n",
    "\n",
    "Folgendes Beispiel soll dies zeigen:"
   ]
  },
  {
   "cell_type": "code",
   "execution_count": null,
   "metadata": {
    "scrolled": true
   },
   "outputs": [],
   "source": [
    "\n",
    "\n",
    "\n",
    "\n",
    "\n",
    "\n"
   ]
  },
  {
   "cell_type": "markdown",
   "metadata": {},
   "source": [
    "Obiges Beispiel zeigt einerseits die Selektion (Auswahl) und andererseits eine weitere Variante der *while\" Schlaufe, die sog. Endlos-Schlaufe `while True`. Aus dieser wird mit `break` ausgebrochen, wenn die Eingabe \"ende\" war. Das Programm prüft somit jedesmal die Eingabe und macht je nach Eingabe etwas anderes.\n",
    "\n",
    "Worin unterscheidet sich folgendes Beispiel von dem unmittelbar vorhergegangenen? Auch hier ist die Einrückung entscheidend!"
   ]
  },
  {
   "cell_type": "code",
   "execution_count": null,
   "metadata": {
    "scrolled": true
   },
   "outputs": [],
   "source": [
    "\n",
    "\n",
    "\n",
    "\n",
    "\n",
    "\n"
   ]
  },
  {
   "cell_type": "markdown",
   "metadata": {},
   "source": [
    "Betreffend der Verarbeitung (der Programm-Logik) in gar nichts. Betreffend der Codierung in den beiden Varianten der Selektion.\n",
    "\n",
    "Dies zeigt, dass schon für Verarbeitungen die wenige Zeilen Programm-Code benötigen, je nach Person die diese erstellt, der Programm-Code (der Source-Code) anders aussehen kann.\n",
    "\n",
    "Erweitern wir unsere Aufgabe derart, dass das Programm abgebrochen wird, wenn die Eingabe *Ende* oder *ende* war. Das Programm soll also Gross- / Kleinschreibung für den Abbruch der Schlaufe ignorieren."
   ]
  },
  {
   "cell_type": "code",
   "execution_count": null,
   "metadata": {},
   "outputs": [],
   "source": [
    "\n",
    "\n",
    "\n",
    "\n",
    "\n",
    "\n"
   ]
  },
  {
   "cell_type": "markdown",
   "metadata": {},
   "source": [
    "Die Bedingung in der while-Schlaufe lässt sich etwas vereinfachen, wenn die Eingabe einfach in Kleinschreibung umgewandelt wird für die Prüfung."
   ]
  },
  {
   "cell_type": "code",
   "execution_count": null,
   "metadata": {},
   "outputs": [],
   "source": [
    "\n",
    "\n",
    "\n",
    "\n",
    "\n",
    "\n"
   ]
  },
  {
   "cell_type": "markdown",
   "metadata": {},
   "source": [
    "Genauso für die Bedingung in der if-Auswahl."
   ]
  },
  {
   "cell_type": "code",
   "execution_count": null,
   "metadata": {},
   "outputs": [],
   "source": [
    "\n",
    "\n",
    "\n",
    "\n",
    "\n",
    "\n"
   ]
  },
  {
   "cell_type": "markdown",
   "metadata": {},
   "source": [
    "Untersuche folgendes Coding:"
   ]
  },
  {
   "cell_type": "code",
   "execution_count": null,
   "metadata": {},
   "outputs": [],
   "source": [
    "\n",
    "\n",
    "\n",
    "\n",
    "\n",
    "\n"
   ]
  },
  {
   "cell_type": "markdown",
   "metadata": {},
   "source": [
    "Dieses Beispiel zeigt, dass es nicht nur die Möglichkeit mit `break` aus der Endlos-Schlaufe auszubrechen gibt, sondern auch die Möglichkeit mit `continue` die Verarbeitung der Endlos-Schlaufe abzubrechen, aber gleich wieder am Anfang der Endlos-Schlaufe weiterzufahren gibt.  "
   ]
  },
  {
   "cell_type": "markdown",
   "metadata": {},
   "source": [
    "### Weitere Python Konstrukte"
   ]
  },
  {
   "cell_type": "markdown",
   "metadata": {},
   "source": [
    "Sehr häufig ist es nötig, in Programmen (vor allem in Spielen, die der Computer sielen soll) Zufallswerte zu bekommen. Folgendes Beispiel zeigt, wie eine zufällige Zahl erzeugt werden kann:"
   ]
  },
  {
   "cell_type": "code",
   "execution_count": null,
   "metadata": {},
   "outputs": [],
   "source": [
    "\n",
    "\n",
    "\n",
    "\n"
   ]
  },
  {
   "cell_type": "markdown",
   "metadata": {},
   "source": [
    "Führe obige Zelle mehrmals aus und Du wirst immer eine Zufallszahl von 1 bis und mit 46 erhalten."
   ]
  },
  {
   "cell_type": "markdown",
   "metadata": {},
   "source": [
    "## Aufgabe 1"
   ]
  },
  {
   "cell_type": "markdown",
   "metadata": {},
   "source": [
    "Erstelle ein Programm, dass Dir Lottozahlen für die Schweiz (6 aus 45) vorschlägt  "
   ]
  },
  {
   "cell_type": "code",
   "execution_count": null,
   "metadata": {},
   "outputs": [],
   "source": []
  },
  {
   "cell_type": "markdown",
   "metadata": {},
   "source": [
    "## Aufgabe 2"
   ]
  },
  {
   "cell_type": "markdown",
   "metadata": {},
   "source": [
    "Stelle sicher, dass Du alle obigen Codings wirklich verstanden hast, den damit hast Du alles was Du benötigst, um z.B. das Spiel *Schere, Stein, Papier* zu programmieren. \n",
    "\n",
    "*Schere, Stein, Papier* ist ein weltweit verbreitetes Spiel, das sowohl bei Kindern als auch Erwachsenen beliebt ist. Jeder der beiden Kontrahenten entscheidet sich gleichzeitig für ein Symbol (Schere, Stein oder Papier), welches mit der Hand dargestellt wird. Da jedes Symbol gegen eines der anderen gewinnen und gegen ein anderes verlieren kann, ist der Spielausgang ungewiss, da keiner der beiden Spieler weiss, für welches Symbol sich der andere Spieler entscheiden wird.\n",
    "\n",
    "Verwende für Dein *Schere, Stein, Papier*-Programm untenstehende Zelle:"
   ]
  },
  {
   "cell_type": "code",
   "execution_count": null,
   "metadata": {},
   "outputs": [],
   "source": [
    "\n",
    "\n"
   ]
  },
  {
   "cell_type": "markdown",
   "metadata": {},
   "source": [
    "## Aufgabe 3"
   ]
  },
  {
   "cell_type": "markdown",
   "metadata": {},
   "source": [
    "Eine weitere Aufgabe ist das Spiel *Zahlenraten*. Der Computer merkt sich eine zufällige Zahl im Bereich von 1 bis und mit 3000 und Du versuchts mit möglichst wenig Zügen zu erraten, welche Zahl dies ist. Der Computer unterstützt Dich dabei, indem er bei jedem Deiner Versuche angibt, ob Deine Zahl kleiner oder grösser ist als die Zahl die der Computer sich gemerkt hat.\n",
    "\n",
    "Hinweis: \n",
    "> Um dieses Programm schreiben zu können, musst Du die Eingabe die als String gelesen wird, in eine Zahl umwandeln. Mach Dich im Internet schlau, wie Du das machen kannst.\n",
    "\n",
    "Verwende für Dein *Zahlenraten*-Programm untenstehende Zelle:"
   ]
  },
  {
   "cell_type": "code",
   "execution_count": null,
   "metadata": {},
   "outputs": [],
   "source": [
    "\n",
    "\n"
   ]
  },
  {
   "cell_type": "markdown",
   "metadata": {},
   "source": [
    "Das Spiel funktioniert so lange, wie der Spieler auch wirklich nur Zahlen eingibt. Sobald der Spieler etwas anderes als eine Zahl eingibt, bricht das Programm mit einer Fehlermeldung ab.\n",
    "\n",
    "> Wie wir damit umgehen, werden wir später noch sehen (siehe Kapitel: **Wie weiter**)."
   ]
  },
  {
   "cell_type": "markdown",
   "metadata": {},
   "source": [
    "Ich hoffe, Du hast das hingekriegt, den wir erinnern uns an das Zitat von Steve Jobs:\n",
    "> \"Jeder Mensch in diesem Land sollte lernen, wie man einen Computer programmiert, weil es einem denken lehrt.\"\n",
    "\n",
    "und Du willst ja nicht wirklich eingestehen, dass Dein Denk-Apparat dazu nicht in der Lage ist :-)"
   ]
  },
  {
   "cell_type": "markdown",
   "metadata": {},
   "source": [
    "## Wie weiter"
   ]
  },
  {
   "cell_type": "markdown",
   "metadata": {},
   "source": [
    "Was liegt noch vor uns:\n",
    "- weitere Datentypen wie: \n",
    "  - `list` \n",
    "  - `tuple` \n",
    "  - `dict`\n",
    "  - ...\n",
    "- weitere Programm-Konstrukte wie: \n",
    "  - Exception-Handling mit `try - except` \n",
    "  - die `for`-Schlaufe\n",
    "  - ...\n",
    "- erstellen eigener Funktionen\n",
    "- OOP (Objekt orientierte Programmierung)\n",
    "- die Bearbeitung von (SQL- / NoSQL-) Datenbanken\n",
    "- die Erstellung von GUI's\n",
    "- ...\n"
   ]
  }
 ],
 "metadata": {
  "kernelspec": {
   "display_name": "Python 3",
   "language": "python",
   "name": "python3"
  },
  "language_info": {
   "codemirror_mode": {
    "name": "ipython",
    "version": 3
   },
   "file_extension": ".py",
   "mimetype": "text/x-python",
   "name": "python",
   "nbconvert_exporter": "python",
   "pygments_lexer": "ipython3",
   "version": "3.6.3"
  }
 },
 "nbformat": 4,
 "nbformat_minor": 2
}
