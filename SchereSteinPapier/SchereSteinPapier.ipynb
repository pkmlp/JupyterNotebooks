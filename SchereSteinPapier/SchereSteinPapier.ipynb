{
 "cells": [
  {
   "cell_type": "markdown",
   "metadata": {},
   "source": [
    "# Schere, Stein, Papier ..."
   ]
  },
  {
   "cell_type": "markdown",
   "metadata": {},
   "source": [
    "... ist ein weltweit verbreitetes Spiel, das sowohl bei Kindern als auch Erwachsenen beliebt ist. Jeder der Kontrahenten entscheidet sich gleichzeitig für ein Symbol, welches mit der Hand dargestellt wird. Da jedes Symbol gegen eines der anderen gewinnen und gegen ein anderes verlieren kann, ist der Spielausgang ungewiss, da kein Spieler weiss, für welche Symbole sich die anderen Spieler entscheiden werden. Es wird wegen seiner Einfachheit, analog zum Münzwurf, auch oft als Grundlage bei einer Entscheidung für eine Person benutzt, zum Beispiel bei der Frage, wer bei einem Spiel anfängt."
   ]
  },
  {
   "cell_type": "markdown",
   "metadata": {},
   "source": [
    "Das Spiel wird ausschließlich mit den Händen gespielt. Den Handhaltungen werden Symbole zugeordnet, die einander „schlagen“ können. Die drei Hauptfiguren sind Schere, Stein und Papier. Das Papier wird durch eine flache Hand mit ungespreizten Fingern dargestellt, das Symbol der Schere ist der gespreizte Zeige- und Mittelfinger, und der Stein wird durch eine Faust symbolisiert. Die Wertigkeit der Symbole gegeneinander ergibt sich aus dem jeweils Dargestellten: Die Schere schneidet das Papier (Schere gewinnt), das Papier wickelt den Stein ein (Papier gewinnt), und der Stein macht die Schere stumpf (Stein gewinnt). Entscheiden sich beide Spieler für dasselbe Symbol, wird das Spiel als Unentschieden gewertet und wiederholt."
   ]
  },
  {
   "cell_type": "markdown",
   "metadata": {},
   "source": [
    "## Ziel des Spieles"
   ]
  },
  {
   "cell_type": "markdown",
   "metadata": {},
   "source": [
    "Ziel des Spieles ist es, eine höherwertige Handhaltung zu haben als der Gegner. Damit keiner der Spieler einen Nachteil durch verfrühtes Zeigen seiner Handhaltung bekommt, bewegen beide Spieler ihre rechte Hand noch zur Faust geballt vor sich auf und ab und sprechen dabei zusammen den Namen des Spiels, zählen bis drei oder Ähnliches. Diese Bewegung dient der Spannung und ist außerdem eine rhythmische Synchronisierungshilfe. Gleichzeitig mit dem letzten Wort des Spielnamens (Papier, Schnuck, Chong oder Kluck) offenbaren die Spieler sich gegenseitig ihre Handhaltung. In einer abgewandelten Form hakeln die Spieler beim Synchronisieren ihre kleinen Finger ineinander."
   ]
  },
  {
   "cell_type": "markdown",
   "metadata": {},
   "source": [
    "## Logik und Psychologie des Spieles"
   ]
  },
  {
   "cell_type": "markdown",
   "metadata": {},
   "source": [
    "Wenn der Mensch rein zufällig eine der drei Spielfiguren auswählen könnte, wäre das Spiel ein reines Glücksspiel. Rein zufälliges Wählen ist aber nicht möglich, da der Mensch sich immer von seinen Gedanken beeinflussen lässt, und somit kommt als psychologisch-taktische Komponente hinzu, dass man versuchen kann, die Verhaltensweise des Gegners einzuschätzen. Beispielsweise nimmt ein Spieler nicht gern zweimal dasselbe Symbol hintereinander oder hat eine gewisse Präferenz für eines der Symbole. Um also seine eigene Gewinnchance zu erhöhen, muss man verhindern, dass der Gegner die eigene Wahl erahnen kann, er seine Figuren also zufällig auswählen muss. Wenn er jetzt also meint, die Figuren des Gegners erahnen zu können (er könnte zum Beispiel denken, dass der Gegner, nachdem er bereits dreimal Stein gewählt hat, das auch noch ein viertes Mal macht) und er sich darauf einstellt, indem er diesmal Papier wählt, rückt er vom Zufall ab. Dadurch wird er angreifbar, da der Gegner damit rechnen könnte und statt des vierten Mals Stein die Schere wählt. Professionelle Spieler legen deshalb vor den Turnieren ihre Reihenfolge der Figuren fest und merken sich diese Listen, sogenannte Gambits, die sie dann im Turnier durchspielen.\n",
    "\n",
    "Rein statistisch gesehen wird die Schere bei der „Schere, Stein, Papier“-Weltmeisterschaft mit 29,6 % am seltensten gewählt."
   ]
  },
  {
   "cell_type": "markdown",
   "metadata": {},
   "source": [
    "# Schere, Stein, Papier in Python ..."
   ]
  },
  {
   "cell_type": "markdown",
   "metadata": {},
   "source": [
    "In der folgenden Zelle ist das Spiel Schere, Stein, Papier möglichst kompakt (d.h. ohne Kommentierung) enthalten. Später werden wir das Scrypt ausführlich besprechen, damit verständlich ist, was wieso programmiert wurde."
   ]
  },
  {
   "cell_type": "code",
   "execution_count": 2,
   "metadata": {},
   "outputs": [
    {
     "name": "stdout",
     "output_type": "stream",
     "text": [
      "\n",
      "***********************************************************\n",
      "           Willkommen zu: Schere, Stein, Papier            \n",
      "***********************************************************\n",
      "\n",
      "Eingabe: Schere, Stein, Papier oder Ende --> stein\n",
      "Du hast verloren! Deine Wahl: Stein  / meine Wahl: Papier\n",
      "\n",
      "Eingabe: Schere, Stein, Papier oder Ende --> stein\n",
      "Du hast verloren! Deine Wahl: Stein  / meine Wahl: Papier\n",
      "\n",
      "Eingabe: Schere, Stein, Papier oder Ende --> stein\n",
      "Du hast gewonnen! Deine Wahl: Stein  / meine Wahl: Schere\n",
      "\n",
      "Eingabe: Schere, Stein, Papier oder Ende --> stein\n",
      "Unentschieden! Deine Wahl: Stein  / meine Wahl: Stein\n",
      "\n",
      "Eingabe: Schere, Stein, Papier oder Ende --> ende\n",
      "\n",
      "***********************************************************\n",
      "     Schade, ich hätte gerne noch etwas weitergespielt     \n",
      "\n",
      "           2 mal habe ich gewonnen            \n",
      "           1 mal hast Du gewonnen             \n",
      "           1 mal gab's ein Unentschieden      \n",
      "\n",
      "     Danke und hoffentlich bis bald                        \n",
      "***********************************************************\n",
      "\n"
     ]
    }
   ],
   "source": [
    "import random\n",
    "\n",
    "spielfiguren = [\"Schere\", \"Stein\", \"Papier\"]\n",
    "compWins = 0\n",
    "playWins = 0\n",
    "gameDraw = 0\n",
    "\n",
    "print()\n",
    "print(\"***********************************************************\")\n",
    "print(\"           Willkommen zu: Schere, Stein, Papier            \")\n",
    "print(\"***********************************************************\")\n",
    "print()\n",
    "while True:\n",
    "    spielerfigur = input(\"Eingabe: Schere, Stein, Papier oder Ende --> \")\n",
    "    spielerfigur = spielerfigur.lower()\n",
    "    spielerfigur = spielerfigur.title()\n",
    "    if spielerfigur == \"Ende\":\n",
    "        print()\n",
    "        print(\"***********************************************************\")\n",
    "        print(\"     Schade, ich hätte gerne noch etwas weitergespielt     \")\n",
    "        print()\n",
    "        print(\"         %3d mal habe ich gewonnen            \"  %(compWins)) \n",
    "        print(\"         %3d mal hast Du gewonnen             \"  %(playWins))\n",
    "        print(\"         %3d mal gab's ein Unentschieden      \"  %(gameDraw))\n",
    "        print()\n",
    "        print(\"     Danke und hoffentlich bis bald                        \")\n",
    "        print(\"***********************************************************\")\n",
    "        print()\n",
    "        break\n",
    "    if spielerfigur not in spielfiguren:\n",
    "        print(\"Ungültige Eingabe:\", spielerfigur)\n",
    "        print()\n",
    "        continue\n",
    "    computerfigur = spielfiguren[random.randint(0,2)]\n",
    "    if spielerfigur == computerfigur:\n",
    "        print(\"Unentschieden! Deine Wahl:\",spielerfigur, \" / meine Wahl:\", computerfigur)\n",
    "        print()\n",
    "        gameDraw = gameDraw + 1\n",
    "        continue\n",
    "    if spielerfigur == \"Schere\":\n",
    "        if computerfigur == \"Stein\":\n",
    "            print (\"Du hast verloren! Deine Wahl:\",spielerfigur, \" / meine Wahl:\", computerfigur)\n",
    "            compWins = compWins + 1\n",
    "        else:\n",
    "            print (\"Du hast gewonnen! Deine Wahl:\",spielerfigur, \" / meine Wahl:\", computerfigur)\n",
    "            playWins = playWins + 1\n",
    "    elif spielerfigur == \"Stein\":\n",
    "        if computerfigur == \"Papier\":\n",
    "            print (\"Du hast verloren! Deine Wahl:\",spielerfigur, \" / meine Wahl:\", computerfigur)\n",
    "            compWins = compWins + 1\n",
    "        else:\n",
    "            print (\"Du hast gewonnen! Deine Wahl:\",spielerfigur, \" / meine Wahl:\", computerfigur)\n",
    "            playWins = playWins + 1\n",
    "    else:\n",
    "        if computerfigur == \"Schere\":\n",
    "            print(\"Du hast verloren! Deine Wahl:\",spielerfigur, \" / meine Wahl:\", computerfigur)\n",
    "            compWins = compWins + 1\n",
    "        else:\n",
    "            print (\"Du hast gewonnen! Deine Wahl:\",spielerfigur, \" / meine Wahl:\", computerfigur)\n",
    "            playWins = playWins + 1\n",
    "    print()"
   ]
  },
  {
   "cell_type": "markdown",
   "metadata": {},
   "source": [
    "Nun also mit Kommentaren zur besseren Verständlichkeit des Python-Codes."
   ]
  },
  {
   "cell_type": "code",
   "execution_count": 3,
   "metadata": {},
   "outputs": [
    {
     "name": "stdout",
     "output_type": "stream",
     "text": [
      "\n",
      "***********************************************************\n",
      "           Willkommen zu: Schere, Stein, Papier            \n",
      "***********************************************************\n",
      "\n",
      "Eingabe: Schere, Stein, Papier oder Ende --> Papier\n",
      "Du hast gewonnen! Deine Wahl: Papier  / meine Wahl: Stein\n",
      "\n",
      "Eingabe: Schere, Stein, Papier oder Ende --> papier\n",
      "Du hast verloren! Deine Wahl: Papier  / meine Wahl: Schere\n",
      "\n",
      "Eingabe: Schere, Stein, Papier oder Ende --> schere\n",
      "Du hast verloren! Deine Wahl: Schere  / meine Wahl: Stein\n",
      "\n",
      "Eingabe: Schere, Stein, Papier oder Ende --> stein\n",
      "Du hast gewonnen! Deine Wahl: Stein  / meine Wahl: Schere\n",
      "\n",
      "Eingabe: Schere, Stein, Papier oder Ende --> ende\n",
      "\n",
      "***********************************************************\n",
      "     Schade, ich hätte gerne noch etwas weitergespielt     \n",
      "\n",
      "           2 mal habe ich gewonnen            \n",
      "           2 mal hast Du gewonnen             \n",
      "           0 mal gab's ein Unentschieden      \n",
      "\n",
      "     Danke und hoffentlich bis bald                        \n",
      "***********************************************************\n",
      "\n"
     ]
    }
   ],
   "source": [
    "#\n",
    "# Import der Library für die Generierung von Zufallszahlen\n",
    "#\n",
    "import random\n",
    "\n",
    "#\n",
    "# Definition einer Liste mit den Spielfiguren. Aus dieser Liste wird der Computer zufällig \n",
    "# eine Spielfigur für sich auswählen. Diese Liste kann auch gebraucht werden, um die Eingabe\n",
    "# des Spielers auf Korrektheit zu prüfen.\n",
    "#\n",
    "spielfiguren = [\"Schere\", \"Stein\", \"Papier\"]\n",
    "\n",
    "#\n",
    "# Variabeln für den Spielstand (werden bei jedem Start des Programmes wieder neu gesetzt)\n",
    "#\n",
    "compWins = 0\n",
    "playWins = 0\n",
    "gameDraw = 0\n",
    "\n",
    "#\n",
    "# Einleitung / Begrüssung\n",
    "#\n",
    "print()\n",
    "print(\"***********************************************************\")\n",
    "print(\"           Willkommen zu: Schere, Stein, Papier            \")\n",
    "print(\"***********************************************************\")\n",
    "print()\n",
    "\n",
    "#\n",
    "# Endlos-Schlaufe, die nur abgebrochen wird, wenn Spieler aufhören will (Eingabe = Ende)\n",
    "#\n",
    "while True:\n",
    "\n",
    "    #\n",
    "    # Spieler macht Eingabe (wählt Figur aus, beendet Programm oder macht falsche Eingabe)\n",
    "    #\n",
    "    spielerfigur = input(\"Eingabe: Schere, Stein, Papier oder Ende --> \")\n",
    "\n",
    "    #\n",
    "    # Die gemachte Eingabe in Kleinbuchstaben umwandeln und dann den ersten\n",
    "    # Buchstaben wieder in Grossbuchstabe wandeln, damit alles \"korrekt\" ist\n",
    "    #\n",
    "    # Soll der Benutzer gezwungen werden, Klein-/Gross-Schreibung zu beachten\n",
    "    # können die beiden folgenden Zeilen einfach auskommentiert werden.\n",
    "    #\n",
    "    spielerfigur = spielerfigur.lower()\n",
    "    spielerfigur = spielerfigur.title()\n",
    "\n",
    "    #\n",
    "    # Programm abbrechen (Schlaufe verlassen), wenn Benutzer Ende eingegeben hat\n",
    "    #\n",
    "    if spielerfigur == \"Ende\":\n",
    "        print()\n",
    "        print(\"***********************************************************\")\n",
    "        print(\"     Schade, ich hätte gerne noch etwas weitergespielt     \")\n",
    "        print()\n",
    "        print(\"         %3d mal habe ich gewonnen            \"  %(compWins)) \n",
    "        print(\"         %3d mal hast Du gewonnen             \"  %(playWins))\n",
    "        print(\"         %3d mal gab's ein Unentschieden      \"  %(gameDraw))\n",
    "        print()\n",
    "        print(\"     Danke und hoffentlich bis bald                        \")\n",
    "        print(\"***********************************************************\")\n",
    "        print()\n",
    "        break\n",
    "    \n",
    "    #\n",
    "    # Zurück zu Schlaufen-Anfang, bei ungültiger Eingabe\n",
    "    #\n",
    "    if spielerfigur not in spielfiguren:\n",
    "        print(\"Ungültige Eingabe:\", spielerfigur)\n",
    "        print()\n",
    "        continue\n",
    "    \n",
    "    #\n",
    "    # Spieler will spielen und hat korrekte Figur gewählt,\n",
    "    # Computer wählt Figur zufällig aus\n",
    "    #\n",
    "    computerfigur = spielfiguren[random.randint(0,2)]\n",
    "\n",
    "    #\n",
    "    # Prüfen , ob beide die gleiche Figur gewählt haben\n",
    "    #\n",
    "    if spielerfigur == computerfigur:\n",
    "        print(\"Unentschieden! Deine Wahl:\",spielerfigur, \" / meine Wahl:\", computerfigur)\n",
    "        print()\n",
    "        gameDraw = gameDraw + 1\n",
    "        continue\n",
    "\n",
    "    #\n",
    "    # Beide haben unterschiedliche Figuren gewählt\n",
    "    #\n",
    "    if spielerfigur == \"Schere\":\n",
    "\n",
    "        #\n",
    "        # Spieler hat Schere gewählt, so muss Computer also Stein oder Papier gewählt haben\n",
    "        #\n",
    "        if computerfigur == \"Stein\":\n",
    "\n",
    "            #\n",
    "            # Computer hat Stein gewählt\n",
    "            #\n",
    "            print (\"Du hast verloren! Deine Wahl:\",spielerfigur, \" / meine Wahl:\", computerfigur)\n",
    "            compWins = compWins + 1\n",
    "\n",
    "        else:\n",
    "\n",
    "            #\n",
    "            # Computer hat Papier gewählt\n",
    "            #\n",
    "            print (\"Du hast gewonnen! Deine Wahl:\",spielerfigur, \" / meine Wahl:\", computerfigur)\n",
    "            playWins = playWins + 1\n",
    "            \n",
    "    elif spielerfigur == \"Stein\":\n",
    "\n",
    "        #\n",
    "        # Spieler hat Stein gewählt, so muss Computer also Papier oder Schere gewählt haben\n",
    "        #\n",
    "        if computerfigur == \"Papier\":\n",
    "\n",
    "            #\n",
    "            # Computer har Papier gewählt\n",
    "            #\n",
    "            print (\"Du hast verloren! Deine Wahl:\",spielerfigur, \" / meine Wahl:\", computerfigur)\n",
    "            compWins = compWins + 1\n",
    "\n",
    "        else:\n",
    "\n",
    "            #\n",
    "            # Computer hat Schere gewählt\n",
    "            #\n",
    "            print (\"Du hast gewonnen! Deine Wahl:\",spielerfigur, \" / meine Wahl:\", computerfigur)\n",
    "            playWins = playWins + 1\n",
    "    \n",
    "    else:\n",
    "\n",
    "        #\n",
    "        # Spieler hat Papier gewählt, so muss Computer also Schere oder Stein gewählt haben\n",
    "        #\n",
    "        if computerfigur == \"Schere\":\n",
    "\n",
    "            #\n",
    "            # Computer hat Schere gewählt\n",
    "            #\n",
    "            print(\"Du hast verloren! Deine Wahl:\",spielerfigur, \" / meine Wahl:\", computerfigur)\n",
    "            compWins = compWins + 1\n",
    "\n",
    "        else:\n",
    "\n",
    "            #\n",
    "            # Computer hat Stein gewählt\n",
    "            #\n",
    "            print (\"Du hast gewonnen! Deine Wahl:\",spielerfigur, \" / meine Wahl:\", computerfigur)\n",
    "            playWins = playWins + 1\n",
    "                \n",
    "    print()\n"
   ]
  },
  {
   "cell_type": "markdown",
   "metadata": {},
   "source": [
    "# Schere, Stein, Papier, Echse, Spock ..."
   ]
  },
  {
   "cell_type": "markdown",
   "metadata": {},
   "source": [
    "Erweitere diesen Python-Code so, dass Du \"Schere, Stein, Papier, Echse, Spock\" spielen kannst."
   ]
  },
  {
   "cell_type": "markdown",
   "metadata": {},
   "source": [
    "Die Regeln für Schere, Stein, Papier, Echse, Spock lauten:\n",
    "* Schere zerschneidet Papier\n",
    "* Papier umhüllt Stein\n",
    "* Stein zerquetscht Echse\n",
    "* Echse vergiftet Spock\n",
    "* Spock zerbricht Schere\n",
    "* Schere köpft Echse\n",
    "* Echse frisst Papier\n",
    "* Papier widerlegt Spock\n",
    "* Spock vaporisiert Stein\n",
    "* Stein macht Schere stumpf\n"
   ]
  },
  {
   "cell_type": "markdown",
   "metadata": {},
   "source": [
    "Die Regeln als Bild: \n",
    "\n",
    "<img src=\"SchereSteinPapierEchseSpock.gif\">\n",
    "    "
   ]
  },
  {
   "cell_type": "markdown",
   "metadata": {},
   "source": [
    "## Happy Coding:"
   ]
  },
  {
   "cell_type": "code",
   "execution_count": null,
   "metadata": {
    "collapsed": true
   },
   "outputs": [],
   "source": []
  },
  {
   "cell_type": "markdown",
   "metadata": {},
   "source": [
    "## Coding is fun!"
   ]
  },
  {
   "cell_type": "markdown",
   "metadata": {},
   "source": [
    "Danke, ich hoffe das hat etwas Spass gemacht und Du hast dabei auch etwas zum Thema Programmieren mit Python gelernt."
   ]
  }
 ],
 "metadata": {
  "kernelspec": {
   "display_name": "Python 3",
   "language": "python",
   "name": "python3"
  },
  "language_info": {
   "codemirror_mode": {
    "name": "ipython",
    "version": 3
   },
   "file_extension": ".py",
   "mimetype": "text/x-python",
   "name": "python",
   "nbconvert_exporter": "python",
   "pygments_lexer": "ipython3",
   "version": "3.6.3"
  }
 },
 "nbformat": 4,
 "nbformat_minor": 2
}
