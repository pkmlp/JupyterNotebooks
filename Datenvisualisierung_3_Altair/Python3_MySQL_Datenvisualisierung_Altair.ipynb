{
 "cells": [
  {
   "cell_type": "markdown",
   "id": "f13a0eef-bd01-4711-890e-051c5866f1fb",
   "metadata": {},
   "source": [
    "# Datenvisualisierung mit Altair"
   ]
  },
  {
   "cell_type": "markdown",
   "id": "895930fe-079a-4c33-b94a-079c46c7afc1",
   "metadata": {},
   "source": [
    "Im ersten Beispiel \"Datenvisualisierung mit Seaborn\" haben wir gesehen, wie wir Daten aus einer MySQL-Datenbank in ein Pandas Dataframe holen und dann die Visualisierung dieser Daten mit dem Dataframe machen. In diesem Beispiel fokusieren wir auf die Visualisierung der Daten und nehmen dazu vorgefertigte Dataframes von pyDataset. Vorteil: Dieses Notebook funktioniert ohne Datenbank.\n",
    "\n",
    "> Informiere Dich zuerst mit folgendem Video, was Altair eigentlich ist: https://www.youtube.com/embed/AAuPPorsmJc?si=c85CFvJtKI895aar\n",
    "\n",
    "Wie im Video (ab Min. 4:15) zusammengefasst: Das alles geschieht im Hintergrund Wir kümmern uns nur um darum, in Python die benötigten Infos (Daten und Formatierungswünsche) zu übergeben. Der Rest geschieht im Hintergrund."
   ]
  },
  {
   "cell_type": "markdown",
   "id": "af988de7-9faa-4d52-a7eb-06c41200d5f7",
   "metadata": {},
   "source": [
    "## Installieren der benötigtenPython Module"
   ]
  },
  {
   "cell_type": "markdown",
   "id": "bc8a9f98-9476-4826-95d7-a6c451364c3e",
   "metadata": {},
   "source": [
    "Installieren wir nun die benötigten Python Module für Pandas, Altair und die \"Datasets for educational purposes\" von pyDataset in unserem Python-Environment.\n",
    "> Informiere Dich auch über die \"Datasets for educational purposes\" von pyDataset auf: https://pydataset.readthedocs.io"
   ]
  },
  {
   "cell_type": "code",
   "execution_count": null,
   "id": "f0c62fec-e032-466d-b9a8-41ffec3ff32f",
   "metadata": {},
   "outputs": [],
   "source": [
    "%%bash\n",
    "/home/pkmlp/anaconda3/bin/pip install pandas\n",
    "/home/pkmlp/anaconda3/bin/pip install altair\n",
    "/home/pkmlp/anaconda3/bin/pip install pydataset"
   ]
  },
  {
   "cell_type": "markdown",
   "id": "e9ce1ff9-776d-493a-b272-0c87c5a5e77d",
   "metadata": {},
   "source": [
    "## Funktionstest der installierten Python Module"
   ]
  },
  {
   "cell_type": "markdown",
   "id": "0ed5a25b-7a06-4c8f-aafe-6a3e52a8126f",
   "metadata": {},
   "source": [
    "Für unseren Funktionstest (nach all den Installationen) werden wir das Dataframe \"Duncan\" aus den soeben installierten Modul pydataset verwenden. Sehen wir uns dies einmal an, damit wir wissen wie die Daten aussehen, die wir anschliessend visualisieren möchten."
   ]
  },
  {
   "cell_type": "code",
   "execution_count": null,
   "id": "5a515951-cbf4-4eee-b3b7-2f81793a8cfc",
   "metadata": {},
   "outputs": [],
   "source": [
    "import pandas as pd\n",
    "from pydataset import data\n",
    "df = data('Duncan')\n",
    "df"
   ]
  },
  {
   "cell_type": "markdown",
   "id": "3b5e3272-8e3e-428f-a715-2c4341842ca9",
   "metadata": {},
   "source": [
    "Die Installation der Dataset um damit zu spielen hat schon mal funktioniert. Um zu testen ob auch die Visualisierung mit Altair funktioniert, schnell ein minimales (noch unschönes) Beispiel und ohne Erklärung was da genau passiert."
   ]
  },
  {
   "cell_type": "code",
   "execution_count": null,
   "id": "4006e8c8-87e2-4298-86ce-8262a51c15da",
   "metadata": {},
   "outputs": [],
   "source": [
    "import altair as alt\n",
    "alt.Chart(df).mark_bar().encode(\n",
    "    x = 'type',\n",
    "    y = 'prestige'\n",
    ")"
   ]
  },
  {
   "cell_type": "markdown",
   "id": "ce0bce0f-6c83-4793-bf72-799480216f1c",
   "metadata": {},
   "source": [
    "Es wird ein Bar-Chart mit den angegbenen x- und y-Achsen erstellt. Das heisst, es funktioniert wohl alles wie gewünscht. \n",
    "\n",
    "Damit haben wir den Funktionstest abgeschlossen und können uns nun im Detail mit der Visualisierung von Daten mit Altair befassen."
   ]
  },
  {
   "cell_type": "markdown",
   "id": "a012f110-0824-4b95-ac63-e9f31fd9811b",
   "metadata": {},
   "source": [
    "## Altair's Visualisierungs-Grammatik"
   ]
  },
  {
   "cell_type": "markdown",
   "id": "4210495d-61e8-4e78-b871-75d3a14fa9cf",
   "metadata": {},
   "source": [
    "> Informiere Dich mit folgendem Video zur Altair's Visualisierungs-Grammatik: https://youtu.be/U7w1XumKK60?si=9SXUtkBqZfo3Dzgq \n"
   ]
  },
  {
   "cell_type": "markdown",
   "id": "061646b7-7a47-435a-9c83-eeb7a1f37979",
   "metadata": {},
   "source": [
    "Nehmen wir wieder unser Dataset 'Duncan' und schauen uns die Daten etwas genauer an:"
   ]
  },
  {
   "cell_type": "code",
   "execution_count": null,
   "id": "b6a1ce6e-9a12-4d89-9e9d-68f6e32c005d",
   "metadata": {},
   "outputs": [],
   "source": [
    "df"
   ]
  },
  {
   "cell_type": "markdown",
   "id": "8869d46c-0045-412a-b854-f271a89a688a",
   "metadata": {},
   "source": [
    "## Daten \"verstehen\""
   ]
  },
  {
   "cell_type": "markdown",
   "id": "9a92cb68-1447-40c4-91c6-8852451590e4",
   "metadata": {},
   "source": [
    "Um Daten sinnvoll visualisieren zu können, muss ich die Daten, die Bedeeutung der Daten verstehen:\n",
    "\n",
    "Dieses Dataset enthält eine Tabelle mit verschiedenen Berufen (Zeilen der Tabelle). Zu jedem Beruf sind die Attribute (Spalten der Tabelle) Beufsbezeichung (), Berufskategorie (type), Einkommen (income), Ausbildung (education) und Ansehen (prestige) jeweils mit einem Wert erfasst. Dabei gilt:\n",
    "- Berfuskategorie (type):\n",
    "  - bc   = BlueCollar -> siehe Definition/Bedeutung unten\n",
    "  - wc   = WhiteCollar -> siehe Definition/Bedeutung unten\n",
    "  - prof = Professional -> siehe Definition/Bedeutung unten\n",
    "- Einkommen (income):\n",
    "  - Die Höhe des Einkommens auf einer Skala von 1 - 100 (je höher die Zahl, desto Höher das Einkommen)\n",
    "- Ausbildung (education)\n",
    "  - Die Höhe der Ausbildung auf einer Skala von 1 - 100 (je höher die Zahl, desto Höher der Ausbildungsabschluss)\n",
    "- Ansehen (prestige)\n",
    "  - Die Höhe des Ansehens auf einer Skala von 1 - 100 (je höher die Zahl, desto Höher das Ansehen des Berufes in der Gesellschaft)\n",
    "\n",
    "\n",
    "Die englischen Ausdrücke \"BlueCollar\", \"WhiteCollar\" und \"Professional\" beziehen sich auf verschiedene Arten von Berufen und Arbeitsumgebungen:\n",
    "\n",
    "BlueCollar:\n",
    "- Definition: Bezieht sich auf Berufe, die manuelle oder handwerkliche Arbeiten ausführen.\n",
    "- Merkmale: Diese Jobs erfordern oft körperliche Anstrengung und werden in Branchen wie Bauwesen, Fertigung, Bergbau, Landwirtschaft und ähnlichen Bereichen gefunden.\n",
    "- Beispiele: Mechaniker, Elektriker, Fabrikarbeiter, Bauarbeiter.\n",
    "- Herkunft: Der Begriff kommt von den blauen Overalls, die traditionell von Angestellten in diesen Berufen getragen werden.\n",
    "\n",
    "WhiteCollar:\n",
    "- Definition: Bezieht sich auf Berufe, die eher geistige als körperliche Arbeit erfordern und typischerweise in Büros oder Verwaltungseinrichtungen ausgeübt werden.\n",
    "- Merkmale: Diese Jobs beinhalten oft Aufgaben in Bereichen wie Verwaltung, Management, Beratung, Finanzen, Recht und Bildung.\n",
    "- Beispiele: Anwälte, Buchhalter, Büroangestellte, Manager, Lehrer.\n",
    "- Herkunft: Der Begriff kommt von den weisssen Hemden, die traditionell von Angestellten in diesen Berufen getragen werden.\n",
    "\n",
    "Professional:\n",
    "- Definition: Bezieht sich auf Personen, die in einem Beruf tätig sind, der spezielle Schulungen oder Qualifikationen erfordert und oft mit einem höheren Mass an Expertise und Verantwortung verbunden ist.\n",
    "- Merkmale: Professionals arbeiten oft in Berufen, die akademische Abschlüsse und berufliche Zertifizierungen erfordern. Sie können sowohl in WhiteCollar- als auch in anderen spezialisierten Bereichen tätig sein.\n",
    "- Beispiele: Ärzte, Rechtsanwälte, Ingenieure, Architekten, Wissenschaftler.\n",
    "- Konnotation: Der Begriff „Professional“ hebt die Qualifikation und das Fachwissen der Person hervor, unabhängig davon, ob sie in einem traditionellen Büro arbeitet oder nicht.\n",
    "\n",
    "Zusammengefasst:\n",
    "\n",
    "- BlueCollar: Handwerkliche oder körperliche Arbeiten.\n",
    "- WhiteCollar: Geistige oder verwaltungstechnische Tätigkeiten.\n",
    "- Professional: Personen mit speziellen Schulungen oder Qualifikationen, die in Berufen mit hoher Expertise und Verantwortung arbeiten."
   ]
  },
  {
   "cell_type": "markdown",
   "id": "6d5d7a2b-8216-44b0-91a9-414b1f3ba5c8",
   "metadata": {},
   "source": [
    "## Daten \"visualisieren\""
   ]
  },
  {
   "cell_type": "markdown",
   "id": "415c7f78-a638-4019-89f8-2d09a5a52e52",
   "metadata": {},
   "source": [
    "Als erstes möchte ich visualisieren, wie sich die Ausbildung auf das Ansehen eines Berufs in der Gesellschaft auswirkt:"
   ]
  },
  {
   "cell_type": "code",
   "execution_count": null,
   "id": "675f116c-4a5e-4193-b01a-f6201b3e1a3b",
   "metadata": {},
   "outputs": [],
   "source": [
    "import altair as alt\n",
    "alt.Chart(df).mark_point().encode(\n",
    "    x = 'education',\n",
    "    y = 'prestige'\n",
    ")"
   ]
  },
  {
   "cell_type": "markdown",
   "id": "b12dca15-4c4a-420f-b0d1-137872a12087",
   "metadata": {},
   "source": [
    "Die Visualisierung zeigt, dass höhere Ausbildungen / Berufsabschlüsse ein höheres Ansehen in der Gesellschaft haben,\n",
    "\n",
    "Interessant wäre auch zu sehen, wie sich die Berufskategorie in diesem Bild darstellt: "
   ]
  },
  {
   "cell_type": "code",
   "execution_count": null,
   "id": "d9efd152-8eee-4677-929c-52af1fdade9c",
   "metadata": {},
   "outputs": [],
   "source": [
    "import altair as alt\n",
    "alt.Chart(df).mark_point().encode(\n",
    "    x = 'education',\n",
    "    y = 'prestige',\n",
    "    color = 'type'\n",
    ")"
   ]
  },
  {
   "cell_type": "markdown",
   "id": "452b63fd-353e-4cce-a18c-3ad97cc04901",
   "metadata": {},
   "source": [
    "Die Visualisierung zeigt, dass die meisten 'Professionals\" (= Personen mit speziellen Schulungen oder Qualifikationen, die in Berufen mit hoher Expertise und Verantwortung arbeiten) grosses Ansehen in der Gesellchaft geniessen. Es gibt aber auch 'Professionals', die trotz der hochwertigen Ausbildung wenig Ansehen in der Gesellschaft haben.\n",
    "\n",
    "Wie verhält sich das Salär der einzelnen Berufe dazu?"
   ]
  },
  {
   "cell_type": "code",
   "execution_count": null,
   "id": "ee9a7bb6-bdd3-4de5-a790-b905afd2ef2e",
   "metadata": {},
   "outputs": [],
   "source": [
    "import altair as alt\n",
    "alt.Chart(df).mark_point().encode(\n",
    "    x = 'education',\n",
    "    y = 'prestige',\n",
    "    color = 'type',\n",
    "    size = 'income'\n",
    ")"
   ]
  },
  {
   "cell_type": "markdown",
   "id": "977ca350-dfbd-42b2-84d2-0825466d9cf3",
   "metadata": {},
   "source": [
    "Wenig überraschend erhalten Personen in Berufen mit höherer Ausbildung nicht nur ein höheres Ansehen in der Gesellschaft, sondern auch höhere Löhne.\n",
    "\n",
    "Stören mich die vielen Kreise, kann ich diese auch als gefüllte Kreise darstellen:"
   ]
  },
  {
   "cell_type": "code",
   "execution_count": null,
   "id": "c3227f4a-0ef7-4a3d-8d57-49d66aae80ba",
   "metadata": {},
   "outputs": [],
   "source": [
    "import altair as alt\n",
    "alt.Chart(df).mark_circle().encode(\n",
    "    x = 'education',\n",
    "    y = 'prestige',\n",
    "    color = 'type',\n",
    "    size = 'income'\n",
    ")"
   ]
  },
  {
   "cell_type": "markdown",
   "id": "61222b92-107b-467a-ac04-9b134d15ad5c",
   "metadata": {},
   "source": [
    "Das Salär weckt mein Interesse. Ich möchte darum nicht nur ein ungefähres Verhältnis der Saläre zu einander sehen, sondern konkrete Zahlenwerte:"
   ]
  },
  {
   "cell_type": "code",
   "execution_count": null,
   "id": "a96a4132-c56e-4c9a-95f6-6dc4d1c2e688",
   "metadata": {},
   "outputs": [],
   "source": [
    "import altair as alt\n",
    "alt.Chart(df).mark_circle().encode(\n",
    "    x = 'education',\n",
    "    y = 'prestige',\n",
    "    color = 'type',\n",
    "    size = 'income',\n",
    "    tooltip = 'income'\n",
    ")"
   ]
  },
  {
   "cell_type": "markdown",
   "id": "740ad8e2-4f7f-48e0-8b29-4f0a71236ada",
   "metadata": {},
   "source": [
    "Alle Informationen in einem Chart kann \"ganz schön viel\" werden. Teilen wir diese Informationen auf mehrere Charts (z.B. ein Chart pro Berufskategorie) auf. Dazu legene wir die drei Charts in je einer Variablen ab:"
   ]
  },
  {
   "cell_type": "code",
   "execution_count": null,
   "id": "b0457ab9-4058-4dd9-b136-ad53810113d5",
   "metadata": {
    "scrolled": true
   },
   "outputs": [],
   "source": [
    "import altair as alt\n",
    "bcChart = alt.Chart(df).mark_circle().encode(\n",
    "    x = 'education',\n",
    "    y = 'prestige',\n",
    "    color = 'type',\n",
    "    size = 'income',\n",
    "    tooltip = 'income'\n",
    ").transform_filter(\n",
    "    alt.datum.type == 'bc'\n",
    ")\n"
   ]
  },
  {
   "cell_type": "code",
   "execution_count": null,
   "id": "8e1e1abc-8f78-4e0b-b498-eabaf5192a8e",
   "metadata": {},
   "outputs": [],
   "source": [
    "import altair as alt\n",
    "wcChart = alt.Chart(df).mark_circle().encode(\n",
    "    x = 'education',\n",
    "    y = 'prestige',\n",
    "    color = 'type',\n",
    "    size = 'income',\n",
    "    tooltip = 'income'\n",
    ").transform_filter(\n",
    "    alt.datum.type == 'wc'\n",
    ")\n"
   ]
  },
  {
   "cell_type": "code",
   "execution_count": null,
   "id": "0a1df768-6a61-45fc-aa94-12daa5e202ae",
   "metadata": {
    "scrolled": true
   },
   "outputs": [],
   "source": [
    "import altair as alt\n",
    "profChart = alt.Chart(df).mark_circle().encode(\n",
    "    x = 'education',\n",
    "    y = 'prestige',\n",
    "    color = 'type',\n",
    "    size = 'income',\n",
    "    tooltip = 'income'\n",
    ").transform_filter(\n",
    "    alt.datum.type == 'prof'\n",
    ")\n"
   ]
  },
  {
   "cell_type": "markdown",
   "id": "54799a87-dd65-439a-9acd-4c7e15ddccfe",
   "metadata": {},
   "source": [
    "Und geben dann alle drei Charts neben einander aus:"
   ]
  },
  {
   "cell_type": "code",
   "execution_count": null,
   "id": "64bb56b7-feb6-4aaf-9567-24680e6b9eff",
   "metadata": {},
   "outputs": [],
   "source": [
    "bcChart | wcChart | profChart"
   ]
  },
  {
   "cell_type": "markdown",
   "id": "dab18e64-5cca-45b2-8ebb-a24cb65384df",
   "metadata": {},
   "source": [
    "Was uns bis hierhin sehr zu Gute kam, ist, dass Altair selbständig optimale \"Dinge\" für die Darstellung der Informationen setzt (z.B. die Skalen der x- und y-Achse abhängig von den konkreten Werten in Daten des jeweiligen Charts. Damit diese vergleichbar werden, müssen alle drei Charts die selben x- und y-Werte haben. Erstellen wir die drei Charts nochmals mit definierten Ranges für die x- und y-Achse und geben dann die drei Charts wieder aus:"
   ]
  },
  {
   "cell_type": "code",
   "execution_count": null,
   "id": "02f82b6b-3305-4cc5-9c45-cf968f6307bc",
   "metadata": {},
   "outputs": [],
   "source": [
    "import altair as alt\n",
    "bcChart = alt.Chart(df).mark_circle().encode(\n",
    "    x = alt.X('education', scale=alt.Scale(domain=[0, 100])),\n",
    "    y = alt.Y('prestige', scale=alt.Scale(domain=[0, 100])),\n",
    "    color = 'type',\n",
    "    size = 'income',\n",
    "    tooltip = 'income'\n",
    ").transform_filter(\n",
    "    alt.datum.type == 'bc'\n",
    ")\n",
    "\n",
    "import altair as alt\n",
    "wcChart = alt.Chart(df).mark_circle().encode(\n",
    "    x = alt.X('education', scale=alt.Scale(domain=[0, 100])),\n",
    "    y = alt.Y('prestige', scale=alt.Scale(domain=[0, 100])),\n",
    "    color = 'type',\n",
    "    size = 'income',\n",
    "    tooltip = 'income'\n",
    ").transform_filter(\n",
    "    alt.datum.type == 'wc'\n",
    ")\n",
    "\n",
    "import altair as alt\n",
    "profChart = alt.Chart(df).mark_circle().encode(\n",
    "    x = alt.X('education', scale=alt.Scale(domain=[0, 100])),\n",
    "    y = alt.Y('prestige', scale=alt.Scale(domain=[0, 100])),\n",
    "    color = 'type',\n",
    "    size = 'income',\n",
    "    tooltip = 'income'\n",
    ").transform_filter(\n",
    "    alt.datum.type == 'prof'\n",
    ")\n",
    "\n",
    "bcChart | wcChart | profChart"
   ]
  },
  {
   "cell_type": "markdown",
   "id": "1dea5094-eda6-47fb-a53a-446a82d2f463",
   "metadata": {},
   "source": [
    "Sieht schon ganz cool aus. Ein Titel pro Chart würde dem ganzen doch die Krone aufsetzen: "
   ]
  },
  {
   "cell_type": "code",
   "execution_count": null,
   "id": "ec271a90-afa8-470d-9673-5c5d7dd7f40b",
   "metadata": {},
   "outputs": [],
   "source": [
    "import altair as alt\n",
    "bcChart = alt.Chart(df).mark_circle().encode(\n",
    "    x = alt.X('education', scale=alt.Scale(domain=[0, 100])),\n",
    "    y = alt.Y('prestige', scale=alt.Scale(domain=[0, 100])),\n",
    "    color = 'type',\n",
    "    size = 'income',\n",
    "    tooltip = 'income'\n",
    ").properties(\n",
    "    title = alt.TitleParams(\n",
    "        text = ['BlueCollar:',\n",
    "                'Berufe mit handwerklichen oder körperlichen Tätigkeiten.',\n",
    "                '',\n",
    "                '']\n",
    "    )\n",
    ").transform_filter(\n",
    "    alt.datum.type == 'bc'\n",
    ")\n",
    "\n",
    "import altair as alt\n",
    "wcChart = alt.Chart(df).mark_circle().encode(\n",
    "    x = alt.X('education', scale=alt.Scale(domain=[0, 100])),\n",
    "    y = alt.Y('prestige', scale=alt.Scale(domain=[0, 100])),\n",
    "    color = 'type',\n",
    "    size = 'income',\n",
    "    tooltip = 'income'\n",
    ").properties(\n",
    ").properties(\n",
    "    title = alt.TitleParams(\n",
    "        text = ['WhiteCollar:', \n",
    "                'Berufe, mit geistigen, administrativen Tätigkeiten',\n",
    "                'und die typischerweise in Büros ausgeübt werden.',\n",
    "                '']\n",
    "    )\n",
    ").transform_filter(\n",
    "    alt.datum.type == 'wc'\n",
    ")\n",
    "\n",
    "import altair as alt\n",
    "profChart = alt.Chart(df).mark_circle().encode(\n",
    "    x = alt.X('education', scale=alt.Scale(domain=[0, 100])),\n",
    "    y = alt.Y('prestige', scale=alt.Scale(domain=[0, 100])),\n",
    "    color = 'type',\n",
    "    size = 'income',\n",
    "    tooltip = 'income'\n",
    ").properties(\n",
    "    title = alt.TitleParams(\n",
    "        text = ['Professional:', \n",
    "                'Berufe mit spezieller Ausbildung und Qualifikation',\n",
    "                'und mit hoher Expertise und teils hoher Verantwortung.',\n",
    "                '']\n",
    "    )\n",
    ").transform_filter(\n",
    "    alt.datum.type == 'prof'\n",
    ")\n",
    "\n",
    "bcChart | wcChart | profChart"
   ]
  },
  {
   "cell_type": "markdown",
   "id": "4bade41f-7584-4304-9dfd-001851b26c10",
   "metadata": {},
   "source": [
    "Als letztes ändern wir noch die Beschriftung der X- ud Y.Achsen:"
   ]
  },
  {
   "cell_type": "code",
   "execution_count": null,
   "id": "7f4e6a2b-1cae-4020-ace3-dcfe24ea7ae8",
   "metadata": {},
   "outputs": [],
   "source": [
    "import altair as alt\n",
    "bcChart = alt.Chart(df).mark_circle().encode(\n",
    "    x = alt.X('education', scale=alt.Scale(domain=[0, 100]), axis=alt.Axis(title='Ausbildung')),\n",
    "    y = alt.Y('prestige', scale=alt.Scale(domain=[0, 100]), axis=alt.Axis(title='Ansehen in der Gesellschaft')),\n",
    "    color = 'type',\n",
    "    size = 'income',\n",
    "    tooltip = 'income'\n",
    ").properties(\n",
    "    title = alt.TitleParams(\n",
    "        text = ['BlueCollar:',\n",
    "                'Berufe mit handwerklichen oder körperlichen Tätigkeiten.',\n",
    "                '',\n",
    "                '']\n",
    "    )\n",
    ").transform_filter(\n",
    "    alt.datum.type == 'bc'\n",
    ")\n",
    "\n",
    "import altair as alt\n",
    "wcChart = alt.Chart(df).mark_circle().encode(\n",
    "    x = alt.X('education', scale=alt.Scale(domain=[0, 100]), axis=alt.Axis(title='Ausbildung')),\n",
    "    y = alt.Y('prestige', scale=alt.Scale(domain=[0, 100]), axis=alt.Axis(title='Ansehen in der Gesellschaft')),\n",
    "    color = 'type',\n",
    "    size = 'income',\n",
    "    tooltip = 'income'\n",
    ").properties(\n",
    ").properties(\n",
    "    title = alt.TitleParams(\n",
    "        text = ['WhiteCollar:', \n",
    "                'Berufe, mit geistigen, administrativen Tätigkeiten',\n",
    "                'und die typischerweise in Büros ausgeübt werden.',\n",
    "                '']\n",
    "    )\n",
    ").transform_filter(\n",
    "    alt.datum.type == 'wc'\n",
    ")\n",
    "\n",
    "import altair as alt\n",
    "profChart = alt.Chart(df).mark_circle().encode(\n",
    "    x = alt.X('education', scale=alt.Scale(domain=[0, 100]), axis=alt.Axis(title='Ausbildung')),\n",
    "    y = alt.Y('prestige', scale=alt.Scale(domain=[0, 100]), axis=alt.Axis(title='Ansehen in der Gesellschaft')),\n",
    "    color = 'type',\n",
    "    size = 'income',\n",
    "    tooltip = 'income'\n",
    ").properties(\n",
    "    title = alt.TitleParams(\n",
    "        text = ['Professional:', \n",
    "                'Berufe mit spezieller Ausbildung und Qualifikation',\n",
    "                'und mit hoher Expertise und teils hoher Verantwortung.',\n",
    "                '']\n",
    "    )\n",
    ").transform_filter(\n",
    "    alt.datum.type == 'prof'\n",
    ")\n",
    "\n",
    "bcChart | wcChart | profChart"
   ]
  },
  {
   "cell_type": "markdown",
   "id": "9e883b8d-ed0d-487b-a227-a7bc0c01afae",
   "metadata": {},
   "source": [
    "Empfehlung: Schaut den Code mit der erstellten Grafik an. Damit sind die Parameter im Code ziemlich selbsterklärend. Sonst helfen untenstehende Links, Google, Youtube oder ChatGPT gerne weiter "
   ]
  },
  {
   "cell_type": "markdown",
   "id": "9c2f80a2-7dcf-49ea-a75e-561c2c9f2be7",
   "metadata": {},
   "source": [
    "## Dataset erstellen aus CSV-File  "
   ]
  },
  {
   "cell_type": "markdown",
   "id": "4b298ce4-c45f-4ea6-84f2-c7cd3e41ebb6",
   "metadata": {},
   "source": [
    "Obige Beispiele sind schon recht informativ. Schön wäre es, wenn in den Grafiken im Tooltip nicht nur das Salär agegeben wird, sondern auch der entspechende Beruf. Mit dem enthaltenen Dataset 'Duncan' ist dies nur mit viel Aufwand zu machen, da die Beruf dem Index des Dataframes entsprechen.\n",
    "\n",
    "Verwenden wir darum ein eigenes Dataframe, das wir aus einer CSV-Datei erstellen. "
   ]
  },
  {
   "cell_type": "code",
   "execution_count": null,
   "id": "93de8bab-b3fb-428c-b972-9eb8163a663a",
   "metadata": {},
   "outputs": [],
   "source": [
    "import pandas as pd\n",
    "df = pd.read_csv('Berufslandschaft.csv')\n",
    "df"
   ]
  },
  {
   "cell_type": "markdown",
   "id": "af8b170c-ad14-4734-b65c-4d503b6f0227",
   "metadata": {},
   "source": [
    "Inhaltlich ist dies das gleiche Dataframe, jedoch sind hier die Berufsbezeichungen nicht als Index verwendet. Das CSV-File ist im gleichen Verzeichnis wie dieses Notebook abgelegt. Schau dir dieses File ebenfalls an.\n",
    "\n",
    "Nun können wir sehr einfach den Tooltip mit der Berufsbezeichung ergänzen und auch gleich die Legende noch bearbeiten."
   ]
  },
  {
   "cell_type": "code",
   "execution_count": null,
   "id": "ee52681a-fdb6-41e9-b429-6470ab13c009",
   "metadata": {
    "scrolled": true
   },
   "outputs": [],
   "source": [
    "import altair as alt\n",
    "bcChart = alt.Chart(df).mark_circle().encode(\n",
    "    x = alt.X('education', scale=alt.Scale(domain=[0, 100]), axis=alt.Axis(title='Ausbildung')),\n",
    "    y = alt.Y('prestige', scale=alt.Scale(domain=[0, 100]), axis=alt.Axis(title='Ansehen in der Gesellschaft')),\n",
    "    color = alt.Color('type', legend=alt.Legend(title='Berufskategorie', orient='bottom', titleFontSize=14, labelFontSize=14, symbolSize=175)),\n",
    "    size = alt.Size('income', legend=alt.Size(title='Einkommen', orient='bottom', titleFontSize=14, labelFontSize=14)),\n",
    "    tooltip = ['jobtitle','income']\n",
    ").properties(\n",
    "    title = alt.TitleParams(\n",
    "        text = ['BlueCollar:',\n",
    "                'Berufe mit handwerklichen oder körperlichen Tätigkeiten.',\n",
    "                '',\n",
    "                '']\n",
    "    )\n",
    ").transform_filter(\n",
    "    alt.datum.type == 'bc'\n",
    ")\n",
    "\n",
    "import altair as alt\n",
    "wcChart = alt.Chart(df).mark_circle().encode(\n",
    "    x = alt.X('education', scale=alt.Scale(domain=[0, 100]), axis=alt.Axis(title='Ausbildung')),\n",
    "    y = alt.Y('prestige', scale=alt.Scale(domain=[0, 100]), axis=alt.Axis(title='Ansehen in der Gesellschaft')),\n",
    "    color = alt.Color('type', legend=alt.Legend(title='Berufskategorie', orient='bottom', titleFontSize=14, labelFontSize=14, symbolSize=175)),\n",
    "    size = alt.Size('income', legend=alt.Size(title='Einkommen', orient='bottom', titleFontSize=14, labelFontSize=14)),\n",
    "    tooltip = ['jobtitle','income']\n",
    ").properties(\n",
    ").properties(\n",
    "    title = alt.TitleParams(\n",
    "        text = ['WhiteCollar:', \n",
    "                'Berufe, mit geistigen, administrativen Tätigkeiten',\n",
    "                'und die typischerweise in Büros ausgeübt werden.',\n",
    "                '']\n",
    "    )\n",
    ").transform_filter(\n",
    "    alt.datum.type == 'wc'\n",
    ")\n",
    "\n",
    "import altair as alt\n",
    "profChart = alt.Chart(df).mark_circle().encode(\n",
    "    x = alt.X('education', scale=alt.Scale(domain=[0, 100]), axis=alt.Axis(title='Ausbildung')),\n",
    "    y = alt.Y('prestige', scale=alt.Scale(domain=[0, 100]), axis=alt.Axis(title='Ansehen in der Gesellschaft')),\n",
    "    color = alt.Color('type', legend=alt.Legend(title='Berufskategorie', orient='bottom', titleFontSize=14, labelFontSize=14, symbolSize=175)),\n",
    "    size = alt.Size('income', legend=alt.Size(title='Einkommen', orient='bottom', titleFontSize=14, labelFontSize=14)),\n",
    "    tooltip = ['jobtitle','income']\n",
    ").properties(\n",
    "    title = alt.TitleParams(\n",
    "        text = ['Professional:', \n",
    "                'Berufe mit spezieller Ausbildung und Qualifikation',\n",
    "                'und mit hoher Expertise und teils hoher Verantwortung.',\n",
    "                '']\n",
    "    )\n",
    ").transform_filter(\n",
    "    alt.datum.type == 'prof'\n",
    ")\n",
    "\n",
    "bcChart | wcChart | profChart"
   ]
  },
  {
   "cell_type": "markdown",
   "id": "e0c99bac-95bd-4f6e-9e2c-8dc369d5fcf5",
   "metadata": {},
   "source": [
    "Oder alles zusammen in einem einzigen Chart, dieses dafür etwas grösser."
   ]
  },
  {
   "cell_type": "code",
   "execution_count": null,
   "id": "106c4ada-a95a-48cb-bda7-170942e20a88",
   "metadata": {},
   "outputs": [],
   "source": [
    "import pandas as pd\n",
    "import altair as alt\n",
    "alt.Chart(df).mark_circle().encode(\n",
    "    x = alt.X('education', scale=alt.Scale(domain=[0, 105]), axis=alt.Axis(title='Ausbildung')),\n",
    "    y = alt.Y('prestige', scale=alt.Scale(domain=[0, 105]), axis=alt.Axis(title='Ansehen in der Gesellschaft')),\n",
    "    color = alt.Color('type', legend=alt.Legend(title='Berufskategorie', orient='right', titleFontSize=14, labelFontSize=14, symbolSize=175)),\n",
    "    size = alt.Size('income', legend=alt.Size(title='Einkommen', orient='right', titleFontSize=14, labelFontSize=14)),\n",
    "    tooltip = ['jobtitle','income']\n",
    ").properties(\n",
    "    width = 750,\n",
    "    height = 750,\n",
    "    title = alt.TitleParams(\n",
    "        text = ['',\n",
    "                'Berufe und ihr Ansehen in der Gesellschaft, sowie deren Salär und Ausbildung.',\n",
    "                '']\n",
    "    )\n",
    ").configure_title(\n",
    "    fontSize = 25,   \n",
    "    font = 'Arial',  \n",
    "    anchor='start', \n",
    "    color='black'\n",
    ")"
   ]
  },
  {
   "cell_type": "markdown",
   "id": "f0cd2917-aa67-42bc-98e1-8e903a4e3bca",
   "metadata": {},
   "source": [
    "Jetzt fehlt uns nur noch ein Untertitel für die Grafik und die Zuweisung von eigenen Farben auf die Berufskategorie."
   ]
  },
  {
   "cell_type": "code",
   "execution_count": null,
   "id": "ae6799e3-df50-4c3c-81da-37c79818fa11",
   "metadata": {},
   "outputs": [],
   "source": [
    "import pandas as pd\n",
    "import altair as alt\n",
    "grafik = alt.Chart(df).mark_circle().encode(\n",
    "    x = alt.X('education', scale=alt.Scale(domain=[0, 105]), axis=alt.Axis(title='Ausbildung', labelFontSize=13, titleFontSize=17)),\n",
    "    y = alt.Y('prestige', scale=alt.Scale(domain=[0, 105]), axis=alt.Axis(title='Ansehen in der Gesellschaft', labelFontSize=13, titleFontSize=17)),\n",
    "    color = alt.Color('type', scale=alt.Scale(domain=['bc', 'wc', 'prof'], range=['blue', 'orange', 'green']), legend=alt.Legend(title='Berufskategorie', orient='right', titleFontSize=14, labelFontSize=14, symbolSize=175)),\n",
    "    size = alt.Size('income', scale=alt.Scale(range=[100, 1000]), legend=alt.Size(title='Einkommen', orient='right', titleFontSize=14, labelFontSize=14)),\n",
    "    tooltip = ['jobtitle','income']\n",
    ").properties(\n",
    "    width = 750,\n",
    "    height = 750,\n",
    "    title = alt.TitleParams(\n",
    "        text = ['',\n",
    "                'Berufe und ihr Ansehen in der Gesellschaft, sowie deren Salär und Ausbildung.',\n",
    "                ''],\n",
    "        fontSize = 21,   \n",
    "        font = 'Arial',  \n",
    "        anchor='start', \n",
    "        color='black'\n",
    "    )\n",
    ")\n",
    "\n",
    "\n",
    "# Erstellen der Daten für die Unterschrift\n",
    "untertitel_zeilen = pd.DataFrame({\n",
    "    'text': ['Grafik-Skala ist von 1 - 105, damit Kreise in der Grafik bleiben',\n",
    "             'Die Ratings sind jeweils in einer Skala von 1 - 100,'],\n",
    "    'y': [30, 45] \n",
    "})\n",
    "\n",
    "\n",
    "# Unterschrift über zwei Zeilen \n",
    "untertitel = alt.Chart(untertitel_zeilen).mark_text(\n",
    "    align='center',\n",
    "    fontSize=16,\n",
    "    color='black'\n",
    ").encode(\n",
    "    y=alt.Y('y:Q', axis=None), \n",
    "    text='text:N'\n",
    ").properties(\n",
    "    width=750,\n",
    "    height=60  \n",
    ")\n",
    "\n",
    "\n",
    "# Hauptgrafik und Unterschrift kombinieren\n",
    "finale_grafik = alt.vconcat(grafik, untertitel).configure_concat(\n",
    "    spacing = 20 \n",
    ").configure_view(\n",
    "    stroke = None,\n",
    "    strokeWidth = 0  \n",
    ")\n",
    "\n",
    "\n",
    "finale_grafik\n"
   ]
  },
  {
   "cell_type": "markdown",
   "id": "6486dd1d-8c02-43b8-bd11-916b82064c79",
   "metadata": {},
   "source": [
    "## Wichtige Links"
   ]
  },
  {
   "cell_type": "markdown",
   "id": "7ad754e8-8d00-4205-8afc-430d5f77c8ff",
   "metadata": {
    "jp-MarkdownHeadingCollapsed": true
   },
   "source": [
    "> Altair's Visualization Grammar: https://www.youtube.com/watch?v=U7w1XumKK60\n",
    "\n",
    "> Introduction to Altair in Python: https://www.geeksforgeeks.org/introduction-to-altair-in-python\n",
    "\n",
    "> Altair in Python Tutorial Data Visualizations: https://www.datacamp.com/tutorial/altair-in-python\n"
   ]
  },
  {
   "cell_type": "markdown",
   "id": "3c0ed517-e73e-4870-aa0a-89cc62985ebb",
   "metadata": {},
   "source": [
    "## That's All Folks"
   ]
  }
 ],
 "metadata": {
  "kernelspec": {
   "display_name": "Python 3 (ipykernel)",
   "language": "python",
   "name": "python3"
  },
  "language_info": {
   "codemirror_mode": {
    "name": "ipython",
    "version": 3
   },
   "file_extension": ".py",
   "mimetype": "text/x-python",
   "name": "python",
   "nbconvert_exporter": "python",
   "pygments_lexer": "ipython3",
   "version": "3.11.4"
  }
 },
 "nbformat": 4,
 "nbformat_minor": 5
}
