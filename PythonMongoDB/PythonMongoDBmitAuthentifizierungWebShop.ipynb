{
 "cells": [
  {
   "cell_type": "markdown",
   "metadata": {},
   "source": [
    "# Python und MongoDB"
   ]
  },
  {
   "cell_type": "markdown",
   "metadata": {},
   "source": [
    "Dieses Beispiel setzt einen laufenden MongoDB-Server mit aktivierter Authentifizierung auf Localhost voraus. Ebenso ist ein User (mit Namen und Passwort \"pkmlp\") für die Datenbank \"webshop\" mit der Collection \"artikel\" definiert. Dieses Programm simuliert die Arbeit (CRUD von Dokumenten in der Sammlung) mit einer vorhandenen Datenbank. Zur Kontrolle und zur Verfolgung der einzelnen Schritte dieses Beispiel-Programmes ist weiter ein MongoDB-GUI (z.B. MongoClient, MongoBooster, Studio 3T, Robo 3T, MongoCompass, etc.) sehr empfohlen. \n",
    "\n",
    "Kontrolliere in einem der MongoDB-GUIs oder im Mongo-Terminal ob die Datenbank \"webshop\" mit der Dokumenten-Sammlung (Collection) \"artikel\" und der entsprechende User \"pkmlp\" mit den notwendigen Rechten auf der Datenbank vorhanden ist. \n",
    "\n",
    "Falls nicht,als mongoAdmin einloggen und die Datenbank \"webshop\" erstellen und den User \"pkmlp\" für die Datenbank aufnehmen (als dbOwner).  "
   ]
  },
  {
   "cell_type": "markdown",
   "metadata": {},
   "source": [
    "## Erstellen der Verbindung zum Datenbank Server "
   ]
  },
  {
   "cell_type": "markdown",
   "metadata": {},
   "source": [
    "Um aus Python auf eine NoSQL-Datenbank (hier MongoDB) zugreifen zu können, muss die entsprechende Bibliothek eingebunden werden. "
   ]
  },
  {
   "cell_type": "code",
   "execution_count": null,
   "metadata": {},
   "outputs": [],
   "source": [
    "import pymongo"
   ]
  },
  {
   "cell_type": "markdown",
   "metadata": {},
   "source": [
    "Definition der Datenbank-Parameter als Konstanten"
   ]
  },
  {
   "cell_type": "code",
   "execution_count": null,
   "metadata": {},
   "outputs": [],
   "source": [
    "DATABASE_HOST      =  \"localhost\"\n",
    "DATABASE_PORT      =  \"27017\"\n",
    "DATABASE_USER      =  \"pkmlp\"\n",
    "DATABASE_PASSWORT  =  \"pkmlp\"\n",
    "DATABASE_NAME      =  \"webshop\"\n",
    "COLLECTION_NAME    =  \"artikel\""
   ]
  },
  {
   "cell_type": "markdown",
   "metadata": {},
   "source": [
    "Als nächstes muss eine Verbindung zur Datenbank (mit gültigen Credentials) hergestellt werden.  "
   ]
  },
  {
   "cell_type": "code",
   "execution_count": null,
   "metadata": {},
   "outputs": [],
   "source": [
    "try:\n",
    "    dbVerbindung = pymongo.MongoClient('mongodb://'+DATABASE_USER+':'+DATABASE_PASSWORT+'@'+\n",
    "                                       DATABASE_HOST+':'+DATABASE_PORT+'/'+DATABASE_NAME)\n",
    "    print(\"\\nVerbindung zu MongoDB erstellt\\n\")\n",
    "except pymongo.errors.ConnectionFailure as VerbindungsFehler:\n",
    "    print(\"\\nKeine Verbindung zu MongoDB: \", VerbindungsFehler, \" - Programmabbruch\\n\")"
   ]
  },
  {
   "cell_type": "markdown",
   "metadata": {},
   "source": [
    "## Auswählen der Datenbank und der Sammlung"
   ]
  },
  {
   "cell_type": "markdown",
   "metadata": {},
   "source": [
    "Verbindung konnte erstellt werden, nun die Datenbank ..."
   ]
  },
  {
   "cell_type": "code",
   "execution_count": null,
   "metadata": {},
   "outputs": [],
   "source": [
    "db = dbVerbindung[DATABASE_NAME]"
   ]
  },
  {
   "cell_type": "markdown",
   "metadata": {},
   "source": [
    "... und die Collection in der Datenbank wählen"
   ]
  },
  {
   "cell_type": "code",
   "execution_count": null,
   "metadata": {},
   "outputs": [],
   "source": [
    "sammlung = db[COLLECTION_NAME]"
   ]
  },
  {
   "cell_type": "markdown",
   "metadata": {},
   "source": [
    "### Kontrolliere in MongoClient, MongoBooster oder im mongo Terminal ob die Collection wirklich leer ist."
   ]
  },
  {
   "cell_type": "markdown",
   "metadata": {},
   "source": [
    "Die Collection muss nicht zwingend leer sein. Ist sie es nicht, so muss der Anfangs-Datenbestand berücksichtigt werden. Das heisst, die nachfolgend eingefügten (Create), gelesenen (Read), mutierten (Update) und gelöschten (Delete) Dokumente sind immer auch mit den allenfalls bereits vorhandenen Dokumenten \"zu sehen\". Dieses Beispiel ist besser zu Interpretieren, wenn die Sammlung vor Beginn leer ist."
   ]
  },
  {
   "cell_type": "markdown",
   "metadata": {},
   "source": [
    "Definieren der einzufügenden Artikel. Beachte: die Artikel müssen nicht eine einheitliche Struktur (gleiche Attribute) haben. "
   ]
  },
  {
   "cell_type": "code",
   "execution_count": null,
   "metadata": {},
   "outputs": [],
   "source": [
    "dokument_1 = { \n",
    "    \"artikel_nr\" : 1, \n",
    "    \"artikel_bezeichnung\" : \"Artikel-1\", \n",
    "    \"artikel_beschreibung\" : \"Artikel 1 in den Kategorien 1 und 2 mit 4 Attributen (grösse, farbe, jahrgang, getriebe) und 3 Stichworten (cool, mega, bombastisch)\", \n",
    "    \"artikel_preis\" : 100.0, \n",
    "    \"artikel_attribute\" : {\n",
    "        \"grösse\" : 185, \n",
    "        \"farbe\" : \"Rot\", \n",
    "        \"jahrgang\" : 1960, \n",
    "        \"getriebe\" : \"Automatik\"\n",
    "    }, \n",
    "    \"artikel_stichworte\" : [\n",
    "        \"cool\", \n",
    "        \"mega\", \n",
    "        \"bombastisch\"\n",
    "    ]\n",
    "}\n",
    "\n",
    "dokument_2 = { \n",
    "    \"artikel_nr\" : 2, \n",
    "    \"artikel_bezeichnung\" : \"Artikel-2\", \n",
    "    \"artikel_beschreibung\" : \"Artikel 2 in den Kategorien 1 und 3 mit 3 Attributen (grösse, farbe, gewicht) und 2 Stichworten (cool, lässig)\", \n",
    "    \"artikel_preis\" : 200.0, \n",
    "    \"artikel_attribute\" : {\n",
    "        \"grösse\" : 145, \n",
    "        \"farbe\" : \"Blau\", \n",
    "        \"gewicht\" : 15.5\n",
    "    }, \n",
    "    \"artikel_stichworte\" : [\n",
    "        \"cool\", \n",
    "        \"lässig\"\n",
    "    ]\n",
    "}"
   ]
  },
  {
   "cell_type": "markdown",
   "metadata": {},
   "source": [
    "## Einfügen von Dokumenten in die Sammlung (Collection) der Datenbank"
   ]
  },
  {
   "cell_type": "markdown",
   "metadata": {},
   "source": [
    "Einfügen der einzeln definierten Dokumente in die Datenbank/Collection"
   ]
  },
  {
   "cell_type": "code",
   "execution_count": null,
   "metadata": {},
   "outputs": [],
   "source": [
    "insertedKey = sammlung.insert_one(dokument_1)\n",
    "print(\"\\nPrimekey des eingefügten Artikels: \", insertedKey.inserted_id)\n",
    "\n",
    "insertedKey = sammlung.insert_one(dokument_2)\n",
    "print(\"Primekey des eingefügten Artikels: \", insertedKey.inserted_id)\n"
   ]
  },
  {
   "cell_type": "markdown",
   "metadata": {},
   "source": [
    "### Kontrolliere in einem MongoDB Gui-Client oder im mongo Terminal die Collection."
   ]
  },
  {
   "cell_type": "markdown",
   "metadata": {},
   "source": [
    "War die Sammlung zu Beginn leer, so dürfen jetzt nur die 2 obigen Dokumente darin sein. War die Sammlung zu Beginn nicht leer, so sind jetzt zusätzlich zu den bereits vorhandenen Dokumenten die obigen 2 in der Sammlung, da wir ja den PrimeKey (\\_id) in unseren Dokumenten nicht definiert haben, wird jedes Dokument eingefügt und MongoDB erstellt automatisch den Primekey."
   ]
  },
  {
   "cell_type": "markdown",
   "metadata": {},
   "source": [
    "## Suchen und Zählen von Dokumenten in der Sammlung"
   ]
  },
  {
   "cell_type": "code",
   "execution_count": null,
   "metadata": {},
   "outputs": [],
   "source": [
    "anzDokumente = sammlung.find().count()\n",
    "print(\"Der WebShop enthält\",anzDokumente, \"Artikel\\n\")"
   ]
  },
  {
   "cell_type": "markdown",
   "metadata": {},
   "source": [
    "## Lesen und Ausgeben von Dokumenten in der Sammlung "
   ]
  },
  {
   "cell_type": "markdown",
   "metadata": {},
   "source": [
    "Lesen aller Dokumente aus der Datenbank\n",
    "Hinweis: Die Reihenfolge der einzelnen Attribute in einer Zeile sind nicht definiert.\n",
    "Darum müssen Attribute gezielt mit dem Key aus dem Cursor gelesen werden."
   ]
  },
  {
   "cell_type": "code",
   "execution_count": null,
   "metadata": {},
   "outputs": [],
   "source": [
    "print(\"Lesen aller Dokumente nach Einfuegen\")\n",
    "dokumentCursor = sammlung.find()\n",
    "for dokument in dokumentCursor:\n",
    "    print(dokument)"
   ]
  },
  {
   "cell_type": "code",
   "execution_count": null,
   "metadata": {},
   "outputs": [],
   "source": [
    "print(\"\\nLesen aller Dokumente aber nur Attributswerte ausgeben\")\n",
    "dokumentCursor = sammlung.find()\n",
    "for dokument in dokumentCursor:\n",
    "    print(dokument.get(\"artikel_nr\"), \n",
    "          dokument.get(\"artikel_bezeichnung\"), \n",
    "          dokument.get(\"artikel_beschreibung\"),\n",
    "          dokument.get(\"artikel_preis\"))"
   ]
  },
  {
   "cell_type": "code",
   "execution_count": null,
   "metadata": {},
   "outputs": [],
   "source": [
    "print(\"\\nLesen aller Dokumente absteigend sortiert nach artikel_nr\")\n",
    "dokumentCursor = sammlung.find().sort(\"artikel_nr\",-1)\n",
    "for dokument in dokumentCursor:\n",
    "    print(dokument.get(\"artikel_nr\"), \n",
    "          dokument.get(\"artikel_bezeichnung\"), \n",
    "          dokument.get(\"artikel_beschreibung\"),\n",
    "          dokument.get(\"artikel_preis\"))"
   ]
  },
  {
   "cell_type": "markdown",
   "metadata": {},
   "source": [
    "## Lesen/Suchen und Ausgeben von Artikeln "
   ]
  },
  {
   "cell_type": "markdown",
   "metadata": {},
   "source": [
    "### Lesen von Dokumenten mit Suchkriterium 'artikel_nr = 2'"
   ]
  },
  {
   "cell_type": "code",
   "execution_count": null,
   "metadata": {},
   "outputs": [],
   "source": [
    "dokumentCursor = sammlung.find({\"artikel_nr\":2})\n",
    "for dokument in dokumentCursor:\n",
    "    print(dokument)"
   ]
  },
  {
   "cell_type": "code",
   "execution_count": null,
   "metadata": {},
   "outputs": [],
   "source": [
    "suchKriterium = {\"artikel_nr\":2}\n",
    "dokumentCursor = sammlung.find(suchKriterium)\n",
    "for dokument in dokumentCursor:\n",
    "    print(dokument)"
   ]
  },
  {
   "cell_type": "markdown",
   "metadata": {},
   "source": [
    "### Lesen von Dokumenten mit Suchkriterium 'artikel_nr ungleich 2'"
   ]
  },
  {
   "cell_type": "code",
   "execution_count": null,
   "metadata": {},
   "outputs": [],
   "source": [
    "dokumentCursor = sammlung.find({\"artikel_nr\":{\"$ne\":2}})\n",
    "for dokument in dokumentCursor:\n",
    "    print(dokument)"
   ]
  },
  {
   "cell_type": "code",
   "execution_count": null,
   "metadata": {},
   "outputs": [],
   "source": [
    "suchKriterium = {\"artikel_nr\":{\"$ne\":2}}\n",
    "dokumentCursor = sammlung.find(suchKriterium)\n",
    "for dokument in dokumentCursor:\n",
    "    print(dokument)"
   ]
  },
  {
   "cell_type": "markdown",
   "metadata": {},
   "source": [
    "### Lesen von Dokumenten mit Suchkriterien 'artikel_preis kleiner 150'"
   ]
  },
  {
   "cell_type": "code",
   "execution_count": null,
   "metadata": {},
   "outputs": [],
   "source": [
    "dokumentCursor = sammlung.find({\"artikel_preis\":{\"$lt\":150}})\n",
    "for dokument in dokumentCursor:\n",
    "    print(dokument)"
   ]
  },
  {
   "cell_type": "code",
   "execution_count": null,
   "metadata": {},
   "outputs": [],
   "source": [
    "suchKriterium = {\"artikel_preis\":{\"$lt\":150}}\n",
    "dokumentCursor = sammlung.find(suchKriterium)\n",
    "for dokument in dokumentCursor:\n",
    "    print(dokument)"
   ]
  },
  {
   "cell_type": "markdown",
   "metadata": {},
   "source": [
    "### Lesen von Dokumenten mit \"Suchstring\" --> Artikel-Beschreibung enthält das Work 'lässig'\n",
    "\n",
    "Hinweis: In diesem Beispiel soll nur im Attribut *artikel_beschreibung*  gesucht werden. Hier wird noch nicht geprüft, ob das Wort 'lässig' in den Stichworten vorkommt. Das kommt im nächsten Kapitel."
   ]
  },
  {
   "cell_type": "code",
   "execution_count": null,
   "metadata": {},
   "outputs": [],
   "source": [
    "dokumentCursor = sammlung.find({\"artikel_beschreibung\":{\"$regex\": u\"lässig\"}})\n",
    "for dokument in dokumentCursor:\n",
    "    print(dokument)"
   ]
  },
  {
   "cell_type": "code",
   "execution_count": null,
   "metadata": {},
   "outputs": [],
   "source": [
    "suchKriterium = {\"artikel_beschreibung\":{\"$regex\": u\"lässig\"}}\n",
    "dokumentCursor = sammlung.find(suchKriterium)\n",
    "for dokument in dokumentCursor:\n",
    "    print(dokument)"
   ]
  },
  {
   "cell_type": "markdown",
   "metadata": {},
   "source": [
    "Variere die Stichworte um zu sehen, dass es wirklich funktioniert. Erwartete Resultate:\n",
    "- lässig sollte 1 Artikel finden\n",
    "- cool sollte 2 Artikel finden,"
   ]
  },
  {
   "cell_type": "markdown",
   "metadata": {},
   "source": [
    "### Lesen von Dokumenten mit \"Suchstring\" --> Artikel-Stichworte enthält 'cool'"
   ]
  },
  {
   "cell_type": "code",
   "execution_count": null,
   "metadata": {},
   "outputs": [],
   "source": [
    "dokumentCursor = sammlung.find({\"artikel_stichworte\":{\"$in\":[\"cool\"]}})\n",
    "for dokument in dokumentCursor:\n",
    "    print(dokument)"
   ]
  },
  {
   "cell_type": "markdown",
   "metadata": {},
   "source": [
    "Variere die Stichworte um zu sehen, dass es wirklich funktioniert. Erwartete Resultate:\n",
    "- cool sollte 2 Artikel finden,\n",
    "- lässig sollte 1 Artikel finden"
   ]
  },
  {
   "cell_type": "markdown",
   "metadata": {},
   "source": [
    "### Verarbeiten von Dokumenten mit \"Suchstring\" --> Artikel-Stichworte enthält 'cool'\n",
    "\n",
    "In diesem Beispiel soll der gefunden Artikel mit allen Details (\"Attribut für Attribut\", \"Stichwort für Stichwort\") verabreitet (ausgegeben) werden."
   ]
  },
  {
   "cell_type": "code",
   "execution_count": null,
   "metadata": {},
   "outputs": [],
   "source": [
    "dokumentCursor = sammlung.find({\"artikel_stichworte\":{\"$in\":[\"cool\"]}})\n",
    "for dokument in dokumentCursor:\n",
    "    print()\n",
    "    print(\"Artikel-Nr:           \", dokument.get(\"artikel_nr\")) \n",
    "    print(\"Artikel-Bezeichnung:  \", dokument.get(\"artikel_bezeichnung\"))\n",
    "    print(\"Artikel-Beschreibung: \", dokument.get(\"artikel_beschreibung\"))\n",
    "    print(\"Artikel-Preis:        \", dokument.get(\"artikel_preis\"))\n",
    "    print()\n",
    "    print(\"Attribute des Artikels:\")\n",
    "    attribute = dokument.get(\"artikel_attribute\")\n",
    "    for attribut in attribute.items():\n",
    "        print(\"   - \",attribut[0], \":\", attribut[1])\n",
    "    print()\n",
    "    print(\"Stichworte zum Artikel:\")\n",
    "    for stichwort in dokument.get(\"artikel_stichworte\"):\n",
    "        print(\"   - \", stichwort)\n",
    "    print()\n",
    "    print()"
   ]
  },
  {
   "cell_type": "markdown",
   "metadata": {},
   "source": [
    "Wenn es nur um einen schönen (besser lesbaren) Ausdruck geht:"
   ]
  },
  {
   "cell_type": "code",
   "execution_count": null,
   "metadata": {},
   "outputs": [],
   "source": [
    "import pprint\n",
    "\n",
    "dokumentCursor = sammlung.find({\"artikel_stichworte\":{\"$in\":[\"cool\"]}})\n",
    "for dokument in dokumentCursor:\n",
    "    print()\n",
    "    print(pprint.pformat(dokument))\n",
    "    print()\n",
    "    print()"
   ]
  },
  {
   "cell_type": "markdown",
   "metadata": {},
   "source": [
    "PPRINT sortiert die Ausgabe nach den Schlüsseln (Keys). Etwas umständlicher, dafür ohne Sortierung, geht es mit dem Modul JSON. Umständlicher ist es nur wegen MongoDB (siehe Erklärung nach dem Beispiel)."
   ]
  },
  {
   "cell_type": "code",
   "execution_count": null,
   "metadata": {},
   "outputs": [],
   "source": [
    "import json\n",
    "from bson import json_util\n",
    "\n",
    "dokumentCursor = sammlung.find({\"artikel_stichworte\":{\"$in\":[\"lässig\"]}})\n",
    "for dokument in dokumentCursor:\n",
    "    print()\n",
    "    print(json.dumps(json.loads(json_util.dumps(dokument)), ensure_ascii=False, indent=4))\n",
    "    print()\n",
    "    print()"
   ]
  },
  {
   "cell_type": "markdown",
   "metadata": {},
   "source": [
    "MongoDB speichert die Daten im BSON Format. Damit kommt das Modul JSON nicht zurecht. Darum muss das Dokument mit json_util.dumps aus der Bibliothek BSON in \"normales JSON\" gewandelt werden. Nach der Umwandlung ist dies jedoch ein String. Darum muss dieser dann mit json.loads als JSON erkannt/gelesen/umgewandelt werden, damit dieser dann mit json.dumps fomratiert ausgegeben werden kann. Als Parameter für die Formatierung habe ich hier den Einzug (indent) angegeben und mit ensure_ascii werden auch die Deutschen Umlaute korrekt ausgegeben. "
   ]
  },
  {
   "cell_type": "markdown",
   "metadata": {},
   "source": [
    "## Aufgabe"
   ]
  },
  {
   "cell_type": "markdown",
   "metadata": {},
   "source": [
    "Erweitere dieses Notebook mit Beispielen in denen Du z.B. bestimmte Stichworte und eine Preisobergrenze definierst (halt so, wie Du in Deinem Internet-Shops etwas suchen würdest). "
   ]
  },
  {
   "cell_type": "markdown",
   "metadata": {},
   "source": [
    "## Löschen der Dokumenten in der Sammlung "
   ]
  },
  {
   "cell_type": "markdown",
   "metadata": {},
   "source": [
    "Löschen der Artikel im WebShop (aufräumen)"
   ]
  },
  {
   "cell_type": "code",
   "execution_count": null,
   "metadata": {},
   "outputs": [],
   "source": [
    "print(\"\\nLöschen aller Dokumente\")\n",
    "anzDelete = sammlung.delete_many({})\n",
    "print(\"Anzahl gelöschter Dokumente: \", anzDelete.deleted_count)"
   ]
  },
  {
   "cell_type": "markdown",
   "metadata": {},
   "source": [
    "Kontrolliere in MongoClient, MongoBooster oder im mongo Terminal ob die Collection wirklich leer ist."
   ]
  },
  {
   "cell_type": "markdown",
   "metadata": {},
   "source": [
    "Verbindung zur Datenbank beenden"
   ]
  },
  {
   "cell_type": "code",
   "execution_count": null,
   "metadata": {},
   "outputs": [],
   "source": [
    "dbVerbindung.close()"
   ]
  },
  {
   "cell_type": "code",
   "execution_count": null,
   "metadata": {},
   "outputs": [],
   "source": []
  },
  {
   "cell_type": "markdown",
   "metadata": {},
   "source": [
    "That's all Folks"
   ]
  }
 ],
 "metadata": {
  "kernelspec": {
   "display_name": "Python 3",
   "language": "python",
   "name": "python3"
  },
  "language_info": {
   "codemirror_mode": {
    "name": "ipython",
    "version": 3
   },
   "file_extension": ".py",
   "mimetype": "text/x-python",
   "name": "python",
   "nbconvert_exporter": "python",
   "pygments_lexer": "ipython3",
   "version": "3.6.4"
  }
 },
 "nbformat": 4,
 "nbformat_minor": 1
}
