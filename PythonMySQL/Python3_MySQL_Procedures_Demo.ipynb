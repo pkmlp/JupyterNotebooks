{
 "cells": [
  {
   "cell_type": "markdown",
   "metadata": {},
   "source": [
    "# Python und MySQL-Procedures DEMO"
   ]
  },
  {
   "cell_type": "markdown",
   "metadata": {},
   "source": [
    "In den folgenden Beispielen wird der Aufruf von Persistent Stored Modules (PSM) in MySQL aus einem Python-Programm demonstriert."
   ]
  },
  {
   "cell_type": "markdown",
   "metadata": {},
   "source": [
    "## Beispiel 1: Aufruf eines Procedures ohne IN-Parameter mit Result-Set 1 Zeile"
   ]
  },
  {
   "cell_type": "markdown",
   "metadata": {},
   "source": [
    "Um aus Python auf eine SQL-Datenbank zugreifen zu können, muss die entsprechende Bibliothek eingebunden werden. In unseren Beispielen arbeiten wir mit Python3 und MySQL."
   ]
  },
  {
   "cell_type": "code",
   "execution_count": 3,
   "metadata": {},
   "outputs": [],
   "source": [
    "import mysql.connector\n"
   ]
  },
  {
   "cell_type": "markdown",
   "metadata": {},
   "source": [
    "<b>Hinweis: </b>In den Beispielen wird davon ausgegangen, dass die uns wohlbekannte Datenbank \"northwind_small\" vorhanden ist. Im Lernportal sind SQL-Scripts für das Erstellen der DB vorhanden (sofern diese DB nicht bereits schon seit langem installiert ist).  \n",
    "\n",
    "Als nächstes muss eine Verbindung zur Datenbank (mit gültigen Credentials - siehe Hinweis oben) hergestellt werden. Kann die Verbindung nicht aufgebaut werden, bricht das Programm mit einer entsprechenden Fehlermeldung ab. "
   ]
  },
  {
   "cell_type": "code",
   "execution_count": 6,
   "metadata": {},
   "outputs": [
    {
     "name": "stdout",
     "output_type": "stream",
     "text": [
      "Verbindung zu MySQL DB aufgebaut\n"
     ]
    }
   ],
   "source": [
    "try:\n",
    "    dbVerbindung = mysql.connector.connect(host = \"localhost\", \n",
    "                                   user = \"root\", \n",
    "                                   passwd = \"pkmlp\", \n",
    "                                   db = \"northwind_small\")\n",
    "\n",
    "except  mysql.connector.Error as e:\n",
    "    print(\"MySQL Fehler:\", e[0], \"-\", e[1])\n",
    "    print(\"Programm wird abgebrochen\")\n",
    "    sys.exit(1)\n",
    "\n",
    "else:\n",
    "    print(\"Verbindung zu MySQL DB aufgebaut\")\n"
   ]
  },
  {
   "cell_type": "markdown",
   "metadata": {},
   "source": [
    "<b>Hinweis:</b> Diese Programme werden am besten direkt mit dem Python-Interpreter ausgeführt, da die SQL-Fehlerbehandlung hier nicht zum Zug kommt, weil Jupyter den Fehler zuerst zurückbekommt und entpsrechend reagiert. "
   ]
  },
  {
   "cell_type": "markdown",
   "metadata": {},
   "source": [
    "Konnte die Verbindung erfolgreich aufgebaut werden, so wird der Cursor definiert, über den die Abfragen an die Datenbank ausgeführt werden. Kann der Cursor nicht definiert werden, bricht das Programm mit einer entsprechenden Fehlermeldung ab."
   ]
  },
  {
   "cell_type": "code",
   "execution_count": 7,
   "metadata": {},
   "outputs": [
    {
     "name": "stdout",
     "output_type": "stream",
     "text": [
      "Cursor zu MySQL DB definiert\n"
     ]
    }
   ],
   "source": [
    "try:\n",
    "    dbCursor = dbVerbindung.cursor()\n",
    "\n",
    "except  mysql.connector.Error as e:\n",
    "    print(\"MySQL Fehler:\", e[0], \"-\", e[1])\n",
    "    print(\"Programm wird abgebrochen\")\n",
    "    dbVerbindung.close()\n",
    "    sys.exit(1)\n",
    "\n",
    "else:\n",
    "    print(\"Cursor zu MySQL DB definiert\")\n"
   ]
  },
  {
   "cell_type": "markdown",
   "metadata": {},
   "source": [
    "Konnte der Cursor erfolgreich definiert werden, wird das SQL-Statement ausgeführt. Kann das SQL-Statement nicht erfolgreich ausgeführt werden, bricht das Programm mit einer entsprechenden Fehlermeldung ab."
   ]
  },
  {
   "cell_type": "code",
   "execution_count": 8,
   "metadata": {},
   "outputs": [
    {
     "name": "stdout",
     "output_type": "stream",
     "text": [
      "SQL-Statement ausgeführt\n"
     ]
    }
   ],
   "source": [
    "try:\n",
    "    dbCursor.callproc('MySQL_INFO')\n",
    "\n",
    "except mysql.connector.Error as e:\n",
    "    print(\"MySQL Fehler:\", e[0], \"-\", e[1])\n",
    "    print(\"Programm wird abgebrochen\")\n",
    "    dbCursor.close()\n",
    "    dbVerbindung.close()\n",
    "    sys.exit(1)\n",
    "\n",
    "else:\n",
    "    print(\"SQL-Statement ausgeführt\")\n"
   ]
  },
  {
   "cell_type": "markdown",
   "metadata": {},
   "source": [
    "Konnte das SQL-Statement erfolgreich ausgeführt werden, kann nun das Result-Set (die Zeile, Row, Tuple, Datensatz) ausgegeben werden."
   ]
  },
  {
   "cell_type": "code",
   "execution_count": 9,
   "metadata": {},
   "outputs": [
    {
     "name": "stdout",
     "output_type": "stream",
     "text": [
      "('root@localhost', 'MySQL: 5.7.22-0ubuntu0.16.04.1', datetime.datetime(2018, 6, 1, 14, 21, 42))\n"
     ]
    }
   ],
   "source": [
    "for resultat_set in dbCursor.stored_results():\n",
    "    for zeile in resultat_set:\n",
    "        print(zeile)\n"
   ]
  },
  {
   "cell_type": "markdown",
   "metadata": {},
   "source": [
    "<b>Hinweis:</b> Das Result-Set kann jeweils nur einmal abgearbeitet werden. Das heisst, dass nach der Abarbeitung des Result-Sets dieses nochmals aufgebaut werden muss (sprich: das SQL-Statement muss nochmals ausgeführt werden), wenn es nochmals abgearbeitet werden soll. Dies ist normalerweise nicht notwendig, da in einer applikatorischen Verarbeitung ein Result-Set nur einmal verarbeitet werden soll/muss. Wenn in diesen Beispielen für Demonstrationszwecke das Result-Set jedoch mehrfach abgearbeitet werden soll, muss vor der Ausführung von Variante 2 das SQL-Statement (sieben Zellen oberhalb dieser Zelle) nochmals ausgeführt werden."
   ]
  },
  {
   "cell_type": "markdown",
   "metadata": {},
   "source": [
    "Konnte alles erfolgreich durchgeführt werden, so muss wieder sauber aufgeräumt werden. Zuerst schliessen wir den Cursor wieder. "
   ]
  },
  {
   "cell_type": "code",
   "execution_count": 10,
   "metadata": {},
   "outputs": [
    {
     "data": {
      "text/plain": [
       "True"
      ]
     },
     "execution_count": 10,
     "metadata": {},
     "output_type": "execute_result"
    }
   ],
   "source": [
    "dbCursor.close()\n"
   ]
  },
  {
   "cell_type": "markdown",
   "metadata": {},
   "source": [
    "Zum Abschluss schliessen wor die Verbindung zur Datenbank."
   ]
  },
  {
   "cell_type": "code",
   "execution_count": 11,
   "metadata": {},
   "outputs": [],
   "source": [
    "dbVerbindung.close()\n"
   ]
  },
  {
   "cell_type": "markdown",
   "metadata": {},
   "source": [
    "Damit haben wir Beispiel 1 abgeschlossen. "
   ]
  },
  {
   "cell_type": "markdown",
   "metadata": {},
   "source": [
    "## Beispiel 2: Aufruf eines Procedures ohne IN-Parameter mit Result-Set n Zeilen"
   ]
  },
  {
   "cell_type": "markdown",
   "metadata": {},
   "source": [
    "Der Einfachheit halber die folgende Beispiele immer in einer einzigen Zelle"
   ]
  },
  {
   "cell_type": "code",
   "execution_count": 13,
   "metadata": {},
   "outputs": [
    {
     "name": "stdout",
     "output_type": "stream",
     "text": [
      "Verbindung zu MySQL DB aufgebaut\n",
      "Cursor zu MySQL DB definiert\n",
      "SQL-Statement ausgeführt\n",
      "(1, 'Speedy Express', '(503) 555-9831')\n",
      "(2, 'United Package', '(503) 555-3199')\n",
      "(3, 'Federal Shipping', '(503) 555-9931')\n",
      "Programm beendet\n"
     ]
    }
   ],
   "source": [
    "import mysql.connector\n",
    "\n",
    "try:\n",
    "    dbVerbindung = mysql.connector.connect(host = \"localhost\", \n",
    "                                   user = \"root\", \n",
    "                                   passwd = \"pkmlp\", \n",
    "                                   db = \"northwind_small\")\n",
    "\n",
    "except  mysql.connector.Error as e:\n",
    "    print(\"MySQL Fehler:\", e[0], \"-\", e[1])\n",
    "    print(\"Programm wird abgebrochen\")\n",
    "    sys.exit(1)\n",
    "\n",
    "else:\n",
    "    print(\"Verbindung zu MySQL DB aufgebaut\")\n",
    "\n",
    "\n",
    "try:\n",
    "    dbCursor = dbVerbindung.cursor()\n",
    "\n",
    "except  mysql.connector.Error as e:\n",
    "    print(\"MySQL Fehler:\", e[0], \"-\", e[1])\n",
    "    print(\"Programm wird abgebrochen\")\n",
    "    dbVerbindung.close()\n",
    "    sys.exit(1)\n",
    "\n",
    "else:\n",
    "    print(\"Cursor zu MySQL DB definiert\")\n",
    "\n",
    "\n",
    "    \n",
    "try:\n",
    "    dbCursor.callproc('shippers_all')\n",
    "\n",
    "except mysql.connector.Error as e:\n",
    "    print(\"MySQL Fehler:\", e[0], \"-\", e[1])\n",
    "    print(\"Programm wird abgebrochen\")\n",
    "    dbCursor.close()\n",
    "    dbVerbindung.close()\n",
    "    sys.exit(1)\n",
    "\n",
    "else:\n",
    "    print(\"SQL-Statement ausgeführt\")\n",
    "\n",
    "    \n",
    "    \n",
    "for resultat_set in dbCursor.stored_results():\n",
    "    for zeile in resultat_set:\n",
    "        print(zeile)\n",
    "\n",
    "        \n",
    "dbCursor.close()\n",
    "dbVerbindung.close()\n",
    "    \n",
    "print(\"Programm beendet\")\n",
    "\n"
   ]
  },
  {
   "cell_type": "code",
   "execution_count": 14,
   "metadata": {},
   "outputs": [
    {
     "name": "stdout",
     "output_type": "stream",
     "text": [
      "Verbindung zu MySQL DB aufgebaut\n",
      "Cursor zu MySQL DB definiert\n",
      "SQL-Statement ausgeführt\n",
      "1 Speedy Express (503) 555-9831 \n",
      "2 United Package (503) 555-3199 \n",
      "3 Federal Shipping (503) 555-9931 \n",
      "Programm beendet\n"
     ]
    }
   ],
   "source": [
    "import mysql.connector\n",
    "\n",
    "try:\n",
    "    dbVerbindung = mysql.connector.connect(host = \"localhost\", \n",
    "                                   user = \"root\", \n",
    "                                   passwd = \"pkmlp\", \n",
    "                                   db = \"northwind_small\")\n",
    "\n",
    "except  mysql.connector.Error as e:\n",
    "    print(\"MySQL Fehler:\", e[0], \"-\", e[1])\n",
    "    print(\"Programm wird abgebrochen\")\n",
    "    sys.exit(1)\n",
    "\n",
    "else:\n",
    "    print(\"Verbindung zu MySQL DB aufgebaut\")\n",
    "\n",
    "\n",
    "try:\n",
    "    dbCursor = dbVerbindung.cursor()\n",
    "\n",
    "except  mysql.connector.Error as e:\n",
    "    print(\"MySQL Fehler:\", e[0], \"-\", e[1])\n",
    "    print(\"Programm wird abgebrochen\")\n",
    "    dbVerbindung.close()\n",
    "    sys.exit(1)\n",
    "\n",
    "else:\n",
    "    print(\"Cursor zu MySQL DB definiert\")\n",
    "\n",
    "\n",
    "    \n",
    "try:\n",
    "    dbCursor.callproc('shippers_all')\n",
    "\n",
    "except mysql.connector.Error as e:\n",
    "    print(\"MySQL Fehler:\", e[0], \"-\", e[1])\n",
    "    print(\"Programm wird abgebrochen\")\n",
    "    dbCursor.close()\n",
    "    dbVerbindung.close()\n",
    "    sys.exit(1)\n",
    "\n",
    "else:\n",
    "    print(\"SQL-Statement ausgeführt\")\n",
    "\n",
    "    \n",
    "    \n",
    "for resultat_set in dbCursor.stored_results():\n",
    "    for zeile in resultat_set:\n",
    "        for spalte in zeile:\n",
    "            print(spalte, end = ' ')\n",
    "        print()\n",
    "\n",
    "        \n",
    "dbCursor.close()\n",
    "dbVerbindung.close()\n",
    "    \n",
    "print(\"Programm beendet\")\n",
    "\n"
   ]
  },
  {
   "cell_type": "code",
   "execution_count": 15,
   "metadata": {},
   "outputs": [
    {
     "name": "stdout",
     "output_type": "stream",
     "text": [
      "Verbindung zu MySQL DB aufgebaut\n",
      "Cursor zu MySQL DB definiert\n",
      "SQL-Statement ausgeführt\n",
      "ShipperID:  1    Shipper:  Speedy Express    Phone:  (503) 555-9831\n",
      "ShipperID:  2    Shipper:  United Package    Phone:  (503) 555-3199\n",
      "ShipperID:  3    Shipper:  Federal Shipping    Phone:  (503) 555-9931\n",
      "Programm beendet\n"
     ]
    }
   ],
   "source": [
    "import mysql.connector\n",
    "\n",
    "try:\n",
    "    dbVerbindung = mysql.connector.connect(host = \"localhost\", \n",
    "                                   user = \"root\", \n",
    "                                   passwd = \"pkmlp\", \n",
    "                                   db = \"northwind_small\")\n",
    "\n",
    "except  mysql.connector.Error as e:\n",
    "    print(\"MySQL Fehler:\", e[0], \"-\", e[1])\n",
    "    print(\"Programm wird abgebrochen\")\n",
    "    sys.exit(1)\n",
    "\n",
    "else:\n",
    "    print(\"Verbindung zu MySQL DB aufgebaut\")\n",
    "\n",
    "\n",
    "try:\n",
    "    dbCursor = dbVerbindung.cursor()\n",
    "\n",
    "except  mysql.connector.Error as e:\n",
    "    print(\"MySQL Fehler:\", e[0], \"-\", e[1])\n",
    "    print(\"Programm wird abgebrochen\")\n",
    "    dbVerbindung.close()\n",
    "    sys.exit(1)\n",
    "\n",
    "else:\n",
    "    print(\"Cursor zu MySQL DB definiert\")\n",
    "\n",
    "\n",
    "    \n",
    "try:\n",
    "    dbCursor.callproc('shippers_all')\n",
    "\n",
    "except mysql.connector.Error as e:\n",
    "    print(\"MySQL Fehler:\", e[0], \"-\", e[1])\n",
    "    print(\"Programm wird abgebrochen\")\n",
    "    dbCursor.close()\n",
    "    dbVerbindung.close()\n",
    "    sys.exit(1)\n",
    "\n",
    "else:\n",
    "    print(\"SQL-Statement ausgeführt\")\n",
    "\n",
    "    \n",
    "    \n",
    "for resultat_set in dbCursor.stored_results():\n",
    "    for zeile in resultat_set:\n",
    "        print(\"ShipperID: \", zeile[0], \"   Shipper: \", zeile[1], \"   Phone: \", zeile[2])\n",
    "\n",
    "        \n",
    "dbCursor.close()\n",
    "dbVerbindung.close()\n",
    "    \n",
    "print(\"Programm beendet\")\n",
    "\n"
   ]
  },
  {
   "cell_type": "markdown",
   "metadata": {},
   "source": [
    "## Beispiel 3: Aufruf eines Procedures mit IN-Parameter und Result-Set n Zeilen"
   ]
  },
  {
   "cell_type": "code",
   "execution_count": 16,
   "metadata": {},
   "outputs": [
    {
     "name": "stdout",
     "output_type": "stream",
     "text": [
      "Verbindung zu MySQL DB aufgebaut\n",
      "Cursor zu MySQL DB definiert\n",
      "SQL-Statement ausgeführt\n",
      "ShipperID:  1    Shipper:  Speedy Express    Phone:  (503) 555-9831\n",
      "Programm beendet\n"
     ]
    }
   ],
   "source": [
    "import mysql.connector\n",
    "\n",
    "try:\n",
    "    dbVerbindung = mysql.connector.connect(host = \"localhost\", \n",
    "                                   user = \"root\", \n",
    "                                   passwd = \"pkmlp\", \n",
    "                                   db = \"northwind_small\")\n",
    "\n",
    "except  mysql.connector.Error as e:\n",
    "    print(\"MySQL Fehler:\", e[0], \"-\", e[1])\n",
    "    print(\"Programm wird abgebrochen\")\n",
    "    sys.exit(1)\n",
    "\n",
    "else:\n",
    "    print(\"Verbindung zu MySQL DB aufgebaut\")\n",
    "\n",
    "\n",
    "try:\n",
    "    dbCursor = dbVerbindung.cursor()\n",
    "\n",
    "except  mysql.connector.Error as e:\n",
    "    print(\"MySQL Fehler:\", e[0], \"-\", e[1])\n",
    "    print(\"Programm wird abgebrochen\")\n",
    "    dbVerbindung.close()\n",
    "    sys.exit(1)\n",
    "\n",
    "else:\n",
    "    print(\"Cursor zu MySQL DB definiert\")\n",
    "\n",
    "\n",
    "    \n",
    "try:\n",
    "    parameter = [1]\n",
    "    dbCursor.callproc('shipper_by_id', parameter)\n",
    "\n",
    "except mysql.connector.Error as e:\n",
    "    print(\"MySQL Fehler:\", e[0], \"-\", e[1])\n",
    "    print(\"Programm wird abgebrochen\")\n",
    "    dbCursor.close()\n",
    "    dbVerbindung.close()\n",
    "    sys.exit(1)\n",
    "\n",
    "else:\n",
    "    print(\"SQL-Statement ausgeführt\")\n",
    "\n",
    "    \n",
    "    \n",
    "for resultat_set in dbCursor.stored_results():\n",
    "    for zeile in resultat_set:\n",
    "        print(\"ShipperID: \", zeile[0], \"   Shipper: \", zeile[1], \"   Phone: \", zeile[2])\n",
    "\n",
    "        \n",
    "dbCursor.close()\n",
    "dbVerbindung.close()\n",
    "    \n",
    "print(\"Programm beendet\")\n",
    "\n"
   ]
  },
  {
   "cell_type": "markdown",
   "metadata": {},
   "source": [
    "## Beispiel 4: Aufruf eines Procedures mit n IN-Parametern und keinem OUT-Parameter"
   ]
  },
  {
   "cell_type": "markdown",
   "metadata": {},
   "source": [
    "Im diesem Beispiel rufen wir die Funktion shipper_insert mit den einzufügenden Daten als Parameter auf. Führe diese Zelle mehrfach aus und untersuche, was passiert, wenn ein Spediteur  bereits in der Datenbank ist. "
   ]
  },
  {
   "cell_type": "markdown",
   "metadata": {},
   "source": [
    "<b>Wichtig:</b> Stelle sicher, dass die jeweils für das Beispiel gebaute Procedure in der Datenbank vorhanden ist!"
   ]
  },
  {
   "cell_type": "code",
   "execution_count": 21,
   "metadata": {},
   "outputs": [
    {
     "name": "stdout",
     "output_type": "stream",
     "text": [
      "Verbindung zu MySQL DB aufgebaut\n",
      "Cursor zu MySQL DB definiert\n",
      "Rufe Procedure insert_shipper in der Datenbank auf\n"
     ]
    },
    {
     "ename": "IntegrityError",
     "evalue": "1062 (23000): Duplicate entry '6' for key 'PRIMARY'",
     "output_type": "error",
     "traceback": [
      "\u001b[0;31m\u001b[0m",
      "\u001b[0;31mIntegrityError\u001b[0mTraceback (most recent call last)",
      "\u001b[0;32m<ipython-input-21-1d07ed552bac>\u001b[0m in \u001b[0;36m<module>\u001b[0;34m()\u001b[0m\n\u001b[1;32m     32\u001b[0m \u001b[0mprint\u001b[0m\u001b[0;34m(\u001b[0m\u001b[0;34m\"Rufe Procedure insert_shipper in der Datenbank auf\"\u001b[0m\u001b[0;34m)\u001b[0m\u001b[0;34m\u001b[0m\u001b[0m\n\u001b[1;32m     33\u001b[0m \u001b[0mparameter\u001b[0m \u001b[0;34m=\u001b[0m \u001b[0;34m[\u001b[0m\u001b[0;36m6\u001b[0m\u001b[0;34m,\u001b[0m \u001b[0;34m\"STFW Shipping\"\u001b[0m\u001b[0;34m,\u001b[0m \u001b[0;34m\"(123) 456-7890\"\u001b[0m\u001b[0;34m]\u001b[0m\u001b[0;34m\u001b[0m\u001b[0m\n\u001b[0;32m---> 34\u001b[0;31m \u001b[0mdbCursor\u001b[0m\u001b[0;34m.\u001b[0m\u001b[0mcallproc\u001b[0m\u001b[0;34m(\u001b[0m\u001b[0;34m'insert_shipper'\u001b[0m\u001b[0;34m,\u001b[0m \u001b[0mparameter\u001b[0m\u001b[0;34m)\u001b[0m\u001b[0;34m\u001b[0m\u001b[0m\n\u001b[0m\u001b[1;32m     35\u001b[0m \u001b[0mprint\u001b[0m\u001b[0;34m(\u001b[0m\u001b[0;34m\"Procedure ausgeführt, scheint alles OK, prüfe DB manuell\"\u001b[0m\u001b[0;34m)\u001b[0m\u001b[0;34m\u001b[0m\u001b[0m\n\u001b[1;32m     36\u001b[0m \u001b[0;34m\u001b[0m\u001b[0m\n",
      "\u001b[0;32m~/anaconda3/lib/python3.6/site-packages/mysql/connector/cursor.py\u001b[0m in \u001b[0;36mcallproc\u001b[0;34m(self, procname, args)\u001b[0m\n\u001b[1;32m    697\u001b[0m             \u001b[0mcall\u001b[0m \u001b[0;34m=\u001b[0m \u001b[0;34m\"CALL {0}({1})\"\u001b[0m\u001b[0;34m.\u001b[0m\u001b[0mformat\u001b[0m\u001b[0;34m(\u001b[0m\u001b[0mprocname\u001b[0m\u001b[0;34m,\u001b[0m \u001b[0;34m','\u001b[0m\u001b[0;34m.\u001b[0m\u001b[0mjoin\u001b[0m\u001b[0;34m(\u001b[0m\u001b[0margnames\u001b[0m\u001b[0;34m)\u001b[0m\u001b[0;34m)\u001b[0m\u001b[0;34m\u001b[0m\u001b[0m\n\u001b[1;32m    698\u001b[0m \u001b[0;34m\u001b[0m\u001b[0m\n\u001b[0;32m--> 699\u001b[0;31m             \u001b[0;32mfor\u001b[0m \u001b[0mresult\u001b[0m \u001b[0;32min\u001b[0m \u001b[0mself\u001b[0m\u001b[0;34m.\u001b[0m\u001b[0m_connection\u001b[0m\u001b[0;34m.\u001b[0m\u001b[0mcmd_query_iter\u001b[0m\u001b[0;34m(\u001b[0m\u001b[0mcall\u001b[0m\u001b[0;34m)\u001b[0m\u001b[0;34m:\u001b[0m\u001b[0;34m\u001b[0m\u001b[0m\n\u001b[0m\u001b[1;32m    700\u001b[0m                 \u001b[0;31m# pylint: disable=W0212\u001b[0m\u001b[0;34m\u001b[0m\u001b[0;34m\u001b[0m\u001b[0m\n\u001b[1;32m    701\u001b[0m                 \u001b[0mtmp\u001b[0m \u001b[0;34m=\u001b[0m \u001b[0mMySQLCursorBuffered\u001b[0m\u001b[0;34m(\u001b[0m\u001b[0mself\u001b[0m\u001b[0;34m.\u001b[0m\u001b[0m_connection\u001b[0m\u001b[0;34m.\u001b[0m\u001b[0m_get_self\u001b[0m\u001b[0;34m(\u001b[0m\u001b[0;34m)\u001b[0m\u001b[0;34m)\u001b[0m\u001b[0;34m\u001b[0m\u001b[0m\n",
      "\u001b[0;32m~/anaconda3/lib/python3.6/site-packages/mysql/connector/connection.py\u001b[0m in \u001b[0;36mcmd_query_iter\u001b[0;34m(self, statements)\u001b[0m\n\u001b[1;32m    752\u001b[0m \u001b[0;34m\u001b[0m\u001b[0m\n\u001b[1;32m    753\u001b[0m         \u001b[0;31m# Handle the first query result\u001b[0m\u001b[0;34m\u001b[0m\u001b[0;34m\u001b[0m\u001b[0m\n\u001b[0;32m--> 754\u001b[0;31m         \u001b[0;32myield\u001b[0m \u001b[0mself\u001b[0m\u001b[0;34m.\u001b[0m\u001b[0m_handle_result\u001b[0m\u001b[0;34m(\u001b[0m\u001b[0mself\u001b[0m\u001b[0;34m.\u001b[0m\u001b[0m_send_cmd\u001b[0m\u001b[0;34m(\u001b[0m\u001b[0mServerCmd\u001b[0m\u001b[0;34m.\u001b[0m\u001b[0mQUERY\u001b[0m\u001b[0;34m,\u001b[0m \u001b[0mstatements\u001b[0m\u001b[0;34m)\u001b[0m\u001b[0;34m)\u001b[0m\u001b[0;34m\u001b[0m\u001b[0m\n\u001b[0m\u001b[1;32m    755\u001b[0m \u001b[0;34m\u001b[0m\u001b[0m\n\u001b[1;32m    756\u001b[0m         \u001b[0;31m# Handle next results, if any\u001b[0m\u001b[0;34m\u001b[0m\u001b[0;34m\u001b[0m\u001b[0m\n",
      "\u001b[0;32m~/anaconda3/lib/python3.6/site-packages/mysql/connector/connection.py\u001b[0m in \u001b[0;36m_handle_result\u001b[0;34m(self, packet)\u001b[0m\n\u001b[1;32m    638\u001b[0m             \u001b[0;32mreturn\u001b[0m \u001b[0mself\u001b[0m\u001b[0;34m.\u001b[0m\u001b[0m_handle_eof\u001b[0m\u001b[0;34m(\u001b[0m\u001b[0mpacket\u001b[0m\u001b[0;34m)\u001b[0m\u001b[0;34m\u001b[0m\u001b[0m\n\u001b[1;32m    639\u001b[0m         \u001b[0;32melif\u001b[0m \u001b[0mpacket\u001b[0m\u001b[0;34m[\u001b[0m\u001b[0;36m4\u001b[0m\u001b[0;34m]\u001b[0m \u001b[0;34m==\u001b[0m \u001b[0;36m255\u001b[0m\u001b[0;34m:\u001b[0m\u001b[0;34m\u001b[0m\u001b[0m\n\u001b[0;32m--> 640\u001b[0;31m             \u001b[0;32mraise\u001b[0m \u001b[0merrors\u001b[0m\u001b[0;34m.\u001b[0m\u001b[0mget_exception\u001b[0m\u001b[0;34m(\u001b[0m\u001b[0mpacket\u001b[0m\u001b[0;34m)\u001b[0m\u001b[0;34m\u001b[0m\u001b[0m\n\u001b[0m\u001b[1;32m    641\u001b[0m \u001b[0;34m\u001b[0m\u001b[0m\n\u001b[1;32m    642\u001b[0m         \u001b[0;31m# We have a text result set\u001b[0m\u001b[0;34m\u001b[0m\u001b[0;34m\u001b[0m\u001b[0m\n",
      "\u001b[0;31mIntegrityError\u001b[0m: 1062 (23000): Duplicate entry '6' for key 'PRIMARY'"
     ]
    }
   ],
   "source": [
    "import mysql.connector\n",
    "\n",
    "try:\n",
    "    dbVerbindung = mysql.connector.connect(host = \"localhost\", \n",
    "                                   user = \"root\", \n",
    "                                   passwd = \"pkmlp\", \n",
    "                                   db = \"northwind_small\")\n",
    "\n",
    "except  mysql.connector.Error as e:\n",
    "    print(\"MySQL Fehler:\", e[0], \"-\", e[1])\n",
    "    print(\"Programm wird abgebrochen\")\n",
    "    sys.exit(1)\n",
    "\n",
    "else:\n",
    "    print(\"Verbindung zu MySQL DB aufgebaut\")\n",
    "\n",
    "\n",
    "try:\n",
    "    dbCursor = dbVerbindung.cursor()\n",
    "\n",
    "except  mysql.connector.Error as e:\n",
    "    print(\"MySQL Fehler:\", e[0], \"-\", e[1])\n",
    "    print(\"Programm wird abgebrochen\")\n",
    "    dbVerbindung.close()\n",
    "    sys.exit(1)\n",
    "\n",
    "else:\n",
    "    print(\"Cursor zu MySQL DB definiert\")\n",
    "\n",
    "\n",
    "    \n",
    "print(\"Rufe Procedure insert_shipper in der Datenbank auf\")\n",
    "parameter = [6, \"STFW Shipping\", \"(123) 456-7890\"]\n",
    "dbCursor.callproc('insert_shipper', parameter)\n",
    "print(\"Procedure ausgeführt, scheint alles OK, prüfe DB manuell\")\n",
    "\n",
    "\n",
    "\n",
    "dbCursor.close()\n",
    "dbVerbindung.commit()      \n",
    "dbVerbindung.close()\n",
    "    \n",
    "print(\"Programm beendet\")\n",
    "\n"
   ]
  },
  {
   "cell_type": "markdown",
   "metadata": {},
   "source": [
    "Ist eine ShipperID bereits in der Datenbank vorhanden, so stürzt das Programm ab, weil weder in der Procedure noch im Programm eine Fehlerbehandlung vorgesehen ist."
   ]
  },
  {
   "cell_type": "markdown",
   "metadata": {},
   "source": [
    "## Beispiel 5: Aufruf eines Procedures mit n IN-Parametern und einem OUT-Parameter als Statusmeldung mit Fehlerhandling im Procedure"
   ]
  },
  {
   "cell_type": "code",
   "execution_count": 23,
   "metadata": {},
   "outputs": [
    {
     "name": "stdout",
     "output_type": "stream",
     "text": [
      "Verbindung zu MySQL DB aufgebaut\n",
      "Cursor zu MySQL DB definiert\n",
      "Rufe Procedure insert_shipper_V4 in der Datenbank auf\n",
      "(6, 'STFW Shipping', '(123) 456-7890', 'Duplicate Key: 6')\n",
      "Duplicate Key: 6\n",
      "Procedure ausgeführt, prüfe DB und Status manuell\n",
      "Programm beendet\n"
     ]
    }
   ],
   "source": [
    "import mysql.connector\n",
    "\n",
    "try:\n",
    "    dbVerbindung = mysql.connector.connect(host = \"localhost\", \n",
    "                                   user = \"root\", \n",
    "                                   passwd = \"pkmlp\", \n",
    "                                   db = \"northwind_small\")\n",
    "\n",
    "except  mysql.connector.Error as e:\n",
    "    print(\"MySQL Fehler:\", e[0], \"-\", e[1])\n",
    "    print(\"Programm wird abgebrochen\")\n",
    "    sys.exit(1)\n",
    "\n",
    "else:\n",
    "    print(\"Verbindung zu MySQL DB aufgebaut\")\n",
    "\n",
    "\n",
    "try:\n",
    "    dbCursor = dbVerbindung.cursor()\n",
    "\n",
    "except  mysql.connector.Error as e:\n",
    "    print(\"MySQL Fehler:\", e[0], \"-\", e[1])\n",
    "    print(\"Programm wird abgebrochen\")\n",
    "    dbVerbindung.close()\n",
    "    sys.exit(1)\n",
    "\n",
    "else:\n",
    "    print(\"Cursor zu MySQL DB definiert\")\n",
    "\n",
    "\n",
    "    \n",
    "try:\n",
    "    print(\"Rufe Procedure insert_shipper_V4 in der Datenbank auf\")\n",
    "    parameter = [6, \"STFW Shipping\", \"(123) 456-7890\", \"\"]\n",
    "    status = dbCursor.callproc('insert_shipper', parameter)  \n",
    "    print(status)\n",
    "    print(status[3])\n",
    "    print(\"Procedure ausgeführt, prüfe DB und Status manuell\")\n",
    "\n",
    "except mysql.connector.Error as e:\n",
    "    print(\"MySQL Fehler:\", e[0], \"-\", e[1])\n",
    "    print(\"Programm wird abgebrochen\")\n",
    "    dbVerbindung.close()\n",
    "    sys.exit(1)\n",
    "\n",
    "\n",
    "dbCursor.close()\n",
    "dbVerbindung.commit()      \n",
    "dbVerbindung.close()\n",
    "    \n",
    "print(\"Programm beendet\")\n",
    "\n"
   ]
  },
  {
   "cell_type": "markdown",
   "metadata": {},
   "source": [
    "<b>HINWEIS:</b> Diese Programme werden am besten direkt mit dem Python-Interpreter ausgeführt, da die SQL-Fehlerbehandlung hier nicht zum Zug kommt, weil Jupyter den Fehler zuerst zurückbekommt und entpsrechend reagiert. "
   ]
  },
  {
   "cell_type": "markdown",
   "metadata": {},
   "source": [
    "## That's all Folks"
   ]
  }
 ],
 "metadata": {
  "kernelspec": {
   "display_name": "Python 3",
   "language": "python",
   "name": "python3"
  },
  "language_info": {
   "codemirror_mode": {
    "name": "ipython",
    "version": 3
   },
   "file_extension": ".py",
   "mimetype": "text/x-python",
   "name": "python",
   "nbconvert_exporter": "python",
   "pygments_lexer": "ipython3",
   "version": "3.6.4"
  }
 },
 "nbformat": 4,
 "nbformat_minor": 1
}
