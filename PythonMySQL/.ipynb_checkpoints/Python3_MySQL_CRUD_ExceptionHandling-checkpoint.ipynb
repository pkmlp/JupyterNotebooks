{
 "cells": [
  {
   "cell_type": "markdown",
   "metadata": {},
   "source": [
    "# Python3 und MySQL - CRUD"
   ]
  },
  {
   "cell_type": "markdown",
   "metadata": {},
   "source": [
    "## Intro"
   ]
  },
  {
   "cell_type": "markdown",
   "metadata": {},
   "source": [
    "Die Geschichte von SQL geht zurück in die 1970er-Jahre. SQL ist eine Abkürzung, die für \"Structured Query Language\" steht. SQL ist eine Datenbanksprache zur Definition von Datenstrukturen in relationalen Datenbanken sowie zum Bearbeiten, - d.h. Einfügen, Verändern, Löschen und Abfragen - von Datenbeständen. Es handelt sich um eine relationales Modell, was auf einem Artikel von Edgar F. Codds's aus dem Jahre 1970 basiert. SQL wurde zum Standard des \"American National Standards Institute\" (ANSI) im Jahr 1986 und des \"International Organization for Standardization\" (ISO) in 1987. \n",
    "\n",
    "Eine Datenbank ist eine organisierte Sammlung von Daten. Die Daten sind typischerweise so organisiert, dass sie Aspekte der Realität so modellieren, dass sie Prozesse unterstützen, die diese Information benötigen. Der Begriff \"Datenbank\" kann sich sowhl auf die Daten selbst als auch auf das Datenbankmanagementsystem (DBMS) beziehen. Das DBMS dient der Interaktion zwischen den Benutzern (Usern) und der eigentlichen Datenbank. Benutzer müssen nicht notwendigerweise menschliche Nutzer sein. Auch Programme können als Benutzer eines DBMS fungieren. \n",
    "\n",
    "In diesem Beispiel werden wir lernen wie ein Python-Programm mit einer SQL-Datenbank interagieren kann. \n",
    "\n",
    "Wir konzentrieren uns in diesem Beispiel auf die Grundlagen. Das heisst, dass wir auf die auch für Datenbank-Programmierung unverzichtbaren Elemente zur Fehlerbehandlung (try - except) und zur Aufbereitung der Daten (Variabeln in SQL-Statements) verzichten und uns ausschliesslich auf die SQL-Statements fokussieren.\n",
    "\n",
    "Dazu gehen wir nach dem Motto CRUD (Create, Read, Update, Delete) vor. Die Resultate der einzelnen Befehle kontrollieren wir in der MySQL-Workbench."
   ]
  },
  {
   "cell_type": "markdown",
   "metadata": {},
   "source": [
    "## Library"
   ]
  },
  {
   "cell_type": "markdown",
   "metadata": {},
   "source": [
    "Um aus Python auf eine SQL-Datenbank zugreifen zu können, muss die entsprechende Bibliothek eingebunden werden. "
   ]
  },
  {
   "cell_type": "code",
   "execution_count": null,
   "metadata": {},
   "outputs": [],
   "source": [
    "import mysql.connector"
   ]
  },
  {
   "cell_type": "markdown",
   "metadata": {},
   "source": [
    "## Vorgehen"
   ]
  },
  {
   "cell_type": "markdown",
   "metadata": {},
   "source": [
    "Das Vorgehen für die Bearbeitung einer Datenbank aus einem Programm umfasst folgende Schritte:\n",
    "- Verbindung zur Datenbank aufbauen\n",
    "- Datenbank-Befehl aufbereiten und mittels Datenbank-Cursor absetzen\n",
    "- Verbindung zur Datenbank schliessen\n",
    "\n",
    "Die folgenden Beispiele setzen folgendes voraus:\n",
    "- Einen laufenden MySQL-Server auf localhost\n",
    "- Die Datenbank Heizungsmonteur (gem. den vorhergehenden Datenbank-Modulen)\n",
    "- Einen eingerichteten User mit Namen und Passwort pkmlp "
   ]
  },
  {
   "cell_type": "markdown",
   "metadata": {},
   "source": [
    "## Beispiel 1: C von CRUD "
   ]
  },
  {
   "cell_type": "markdown",
   "metadata": {},
   "source": [
    "Im ersten Beispiel nehmen wir das **C** von CRUD. Mit Create ist das Erstellen von Daten in Tabellen gemeint. Dies wird mit dem SQL-Befehl _INSERT_ gemacht. "
   ]
  },
  {
   "cell_type": "markdown",
   "metadata": {},
   "source": [
    "### Verbindung zur Datenbank aufbauen"
   ]
  },
  {
   "cell_type": "markdown",
   "metadata": {},
   "source": [
    "Als erstes muss eine Verbindung zur Datenbank hergestellt werden.  "
   ]
  },
  {
   "cell_type": "code",
   "execution_count": null,
   "metadata": {},
   "outputs": [],
   "source": [
    "try:\n",
    "    dbConnection = mysql.connector.connect(host = \"localhost\", user = \"pkmlp\", passwd = \"Peter#1960\", db = \"Heizungsmonteur\")\n",
    "    print('')\n",
    "    print('DB-Verbindung erfolgreich aufgebaut')\n",
    "    print('')\n",
    "except mysql.connector.Error as error:\n",
    "    print('')\n",
    "    print('DB-Verbindung kann nicht aufgebaut werden: {}'.format(error))\n",
    "    print('')\n",
    "    print('Error-Code: ', error.errno)\n",
    "    print('Error-Message: ', error.msg)\n",
    "    print('SQLState: ', error.sqlstate)\n",
    "    print('')"
   ]
  },
  {
   "cell_type": "markdown",
   "metadata": {},
   "source": [
    "### Datenbank-Befehl aufbereiten und mittels Datenbank-Cursor absetzen"
   ]
  },
  {
   "cell_type": "markdown",
   "metadata": {},
   "source": [
    "Das auszuführende SQL-Statement in einer Variablen aufbereiten."
   ]
  },
  {
   "cell_type": "code",
   "execution_count": null,
   "metadata": {},
   "outputs": [],
   "source": [
    "sqlStatement = \"INSERT INTO Monteur VALUES ('M9', 'Python-Insert', 'F1', 'A1');\""
   ]
  },
  {
   "cell_type": "markdown",
   "metadata": {},
   "source": [
    "Da bei der Abfrage einer relationalen Datenbanken immer eine Menge (leere Menge, eine Menge mit genau einem Attribut, oder eine Menge, die die gesamte Tabellen beinhaltet) zurückgibt, muss ein Cursor definiert werden, damit die Resultatmenge dann Zeile für Zeile abgearbeitet werden kann."
   ]
  },
  {
   "cell_type": "code",
   "execution_count": null,
   "metadata": {},
   "outputs": [],
   "source": [
    "try:\n",
    "    dbCursor = dbConnection.cursor()\n",
    "except mysql.connector.Error as error:\n",
    "    print('')\n",
    "    print('DB-Fehler: {}'.format(error))\n",
    "    print('')"
   ]
  },
  {
   "cell_type": "markdown",
   "metadata": {},
   "source": [
    "Das auszuführende SQL-Statement wird dem Cursor in der Variablen übergeben und vom Cursor ausgeführt. "
   ]
  },
  {
   "cell_type": "code",
   "execution_count": null,
   "metadata": {},
   "outputs": [],
   "source": [
    "try:\n",
    "    dbCursor.execute(sqlStatement)\n",
    "except mysql.connector.Error as error:\n",
    "    print('')\n",
    "    print('DB-Fehler: {}'.format(error))\n",
    "    print('')"
   ]
  },
  {
   "cell_type": "markdown",
   "metadata": {},
   "source": [
    "### Verbindung zur Datenbank schliessen"
   ]
  },
  {
   "cell_type": "markdown",
   "metadata": {},
   "source": [
    "Um die Änderung in der Datenbank definitiv zu machen, muss diese mit _COMMIT_ abgeschlossen und die Verbindung zur Datenbank geschlossen werden. Es wäre auch möglich, die Änderung mit Commit definitiv zu machen. Wichtig ist, eine Verbindung zur Datenbank nur so lange wie nötig aufrecht zu erhalten."
   ]
  },
  {
   "cell_type": "code",
   "execution_count": null,
   "metadata": {},
   "outputs": [],
   "source": [
    "try:\n",
    "    dbCursor.execute('COMMIT')\n",
    "    dbConnection.close()\n",
    "except mysql.connector.Error as error:\n",
    "    print('')\n",
    "    print('DB-Fehler: {}'.format(error))\n",
    "    print('')"
   ]
  },
  {
   "cell_type": "markdown",
   "metadata": {},
   "source": [
    "## Beispiel 2: R von CRUD"
   ]
  },
  {
   "cell_type": "markdown",
   "metadata": {},
   "source": [
    "Im zweiten Beispiel nehmen wir das **R** von CRUD. Mit Read ist das Lesen von Daten aus Tabellen gemeint. Dies wird mit dem SQL-Befehl _SELECT_ gemacht. "
   ]
  },
  {
   "cell_type": "markdown",
   "metadata": {},
   "source": [
    "### Verbindung zur Datenbank aufbauen"
   ]
  },
  {
   "cell_type": "markdown",
   "metadata": {},
   "source": [
    "Als erstes muss eine Verbindung zur Datenbank hergestellt werden.  "
   ]
  },
  {
   "cell_type": "code",
   "execution_count": null,
   "metadata": {},
   "outputs": [],
   "source": [
    "try:\n",
    "    dbConnection = mysql.connector.connect(host = \"localhost\", user = \"pkmlp\", passwd = \"Peter#1960\", db = \"Heizungsmonteur\")\n",
    "    print('')\n",
    "    print('DB-Verbindung erfolgreich aufgebaut')\n",
    "    print('')\n",
    "except mysql.connector.Error as error:\n",
    "    print('')\n",
    "    print('DB-Verbindung kann nicht aufgebaut werden: {}'.format(error))\n",
    "    print('')\n",
    "    print('Error-Code: ', error.errno)\n",
    "    print('Error-Message: ', error.msg)\n",
    "    print('SQLState: ', error.sqlstate)\n",
    "    print('')"
   ]
  },
  {
   "cell_type": "markdown",
   "metadata": {},
   "source": [
    "### Datenbank-Befehl aufbereiten und mittels Datenbank-Cursor absetzen"
   ]
  },
  {
   "cell_type": "markdown",
   "metadata": {},
   "source": [
    "Das auszuführende SQL-Statement in einer Variablen aufbereiten."
   ]
  },
  {
   "cell_type": "code",
   "execution_count": null,
   "metadata": {},
   "outputs": [],
   "source": [
    "sqlStatement = \"select M_NR, M_Name, F_Nr, A_Nr from Monteur;\""
   ]
  },
  {
   "cell_type": "markdown",
   "metadata": {},
   "source": [
    "Da bei der Abfrage einer relationalen Datenbanken immer eine Menge (leere Menge, eine Menge mit genau einem Attribut, oder eine Menge, die die gesamte Tabellen beinhaltet) zurückgibt, muss ein Cursor definiert werden, damit die Resultatmenge dann Zeile für Zeile abgearbeitet werden kann."
   ]
  },
  {
   "cell_type": "code",
   "execution_count": null,
   "metadata": {},
   "outputs": [],
   "source": [
    "try:\n",
    "    dbCursor = dbConnection.cursor()\n",
    "except mysql.connector.Error as error:\n",
    "    print('')\n",
    "    print('DB-Fehler: {}'.format(error))\n",
    "    print('')"
   ]
  },
  {
   "cell_type": "markdown",
   "metadata": {},
   "source": [
    "Das auszuführende SQL-Statement wird dem Cursor in der Variablen übergeben und vom Cursor ausgeführt. "
   ]
  },
  {
   "cell_type": "code",
   "execution_count": null,
   "metadata": {},
   "outputs": [],
   "source": [
    "try:\n",
    "    dbCursor.execute(sqlStatement)\n",
    "except mysql.connector.Error as error:\n",
    "    print('')\n",
    "    print('DB-Fehler: {}'.format(error))\n",
    "    print('')"
   ]
  },
  {
   "cell_type": "markdown",
   "metadata": {},
   "source": [
    "Nun ist die Resultatmenge im Objekt dbCursor"
   ]
  },
  {
   "cell_type": "markdown",
   "metadata": {},
   "source": [
    "Das auszuführende SQL-Statement wird dem Cursor in der Variablen übergeben und vom Cursor ausgeführt. "
   ]
  },
  {
   "cell_type": "code",
   "execution_count": null,
   "metadata": {},
   "outputs": [],
   "source": [
    "print(dbCursor)"
   ]
  },
  {
   "cell_type": "markdown",
   "metadata": {},
   "source": [
    "Ausgeben der Monteur-Daten in der Tabelle (resp. im Cursor)"
   ]
  },
  {
   "cell_type": "code",
   "execution_count": null,
   "metadata": {},
   "outputs": [],
   "source": [
    "for monteurZeile in dbCursor:\n",
    "    print(\"Name:\", monteurZeile[0], \"Abteilung:\", monteurZeile[1])"
   ]
  },
  {
   "cell_type": "markdown",
   "metadata": {},
   "source": [
    "### Verbindung zur Datenbank schliessen"
   ]
  },
  {
   "cell_type": "markdown",
   "metadata": {},
   "source": [
    "Wichtig ist, eine Verbindung zur Datenbank nur so lange wie nötig aufrecht zu erhalten."
   ]
  },
  {
   "cell_type": "code",
   "execution_count": null,
   "metadata": {},
   "outputs": [],
   "source": [
    "try:\n",
    "    dbConnection.close()\n",
    "except mysql.connector.Error as error:\n",
    "    print('')\n",
    "    print('DB-Fehler: {}'.format(error))\n",
    "    print('')"
   ]
  },
  {
   "cell_type": "markdown",
   "metadata": {},
   "source": [
    "## Beispiel 3: U von CRUD"
   ]
  },
  {
   "cell_type": "markdown",
   "metadata": {},
   "source": [
    "Im dritten Beispiel nehmen wir das **U** von CRUD. Mit Update ist das Ändern von Daten in Tabellen gemeint. Dies wird mit dem SQL-Befehl _UPDATE_ gemacht. "
   ]
  },
  {
   "cell_type": "markdown",
   "metadata": {},
   "source": [
    "### Verbindung zur Datenbank aufbauen"
   ]
  },
  {
   "cell_type": "markdown",
   "metadata": {},
   "source": [
    "Als erstes muss eine Verbindung zur Datenbank hergestellt werden.  "
   ]
  },
  {
   "cell_type": "code",
   "execution_count": null,
   "metadata": {},
   "outputs": [],
   "source": [
    "try:\n",
    "    dbConnection = mysql.connector.connect(host = \"localhost\", user = \"pkmlp\", passwd = \"Peter#1960\", db = \"Heizungsmonteur\")\n",
    "    print('')\n",
    "    print('DB-Verbindung erfolgreich aufgebaut')\n",
    "    print('')\n",
    "except mysql.connector.Error as error:\n",
    "    print('')\n",
    "    print('DB-Verbindung kann nicht aufgebaut werden: {}'.format(error))\n",
    "    print('')\n",
    "    print('Error-Code: ', error.errno)\n",
    "    print('Error-Message: ', error.msg)\n",
    "    print('SQLState: ', error.sqlstate)\n",
    "    print('')"
   ]
  },
  {
   "cell_type": "markdown",
   "metadata": {},
   "source": [
    "### Datenbank-Befehl aufbereiten und mittels Datenbank-Cursor absetzen"
   ]
  },
  {
   "cell_type": "markdown",
   "metadata": {},
   "source": [
    "Das auszuführende SQL-Statement wird in einer Variablen aufbereitet. "
   ]
  },
  {
   "cell_type": "code",
   "execution_count": null,
   "metadata": {},
   "outputs": [],
   "source": [
    "sqlStatement = \"UPDATE Monteur SET M_Name = 'Python-Update' WHERE M_NR = 'M9';\""
   ]
  },
  {
   "cell_type": "markdown",
   "metadata": {},
   "source": [
    "Da bei der Abfrage einer relationalen Datenbanken immer eine Menge (leere Menge, eine Menge mit genau einem Attribut, oder eine Menge, die die gesamte Tabellen beinhaltet) zurückgibt, muss ein Cursor definiert werden, damit die Resultatmenge dann Zeile für Zeile abgearbeitet werden kann."
   ]
  },
  {
   "cell_type": "code",
   "execution_count": null,
   "metadata": {},
   "outputs": [],
   "source": [
    "try:\n",
    "    dbCursor = dbConnection.cursor()\n",
    "except mysql.connector.Error as error:\n",
    "    print('')\n",
    "    print('DB-Fehler: {}'.format(error))\n",
    "    print('')"
   ]
  },
  {
   "cell_type": "markdown",
   "metadata": {},
   "source": [
    "Das auszuführende SQL-Statement wird dem Cursor in der Variablen übergeben und vom Cursor ausgeführt. "
   ]
  },
  {
   "cell_type": "code",
   "execution_count": null,
   "metadata": {},
   "outputs": [],
   "source": [
    "try:\n",
    "    dbCursor.execute(sqlStatement)\n",
    "except mysql.connector.Error as error:\n",
    "    print('')\n",
    "    print('DB-Fehler: {}'.format(error))\n",
    "    print('')"
   ]
  },
  {
   "cell_type": "markdown",
   "metadata": {},
   "source": [
    "### Verbindung zur Datenbank schliessen"
   ]
  },
  {
   "cell_type": "markdown",
   "metadata": {},
   "source": [
    "Um die Änderung in der Datenbank definitiv zu machen, muss diese mit _COMMIT_ abgeschlossen und die Verbindung zur Datenbank geschlossen werden. Es wäre auch möglich, die Änderung mit Commit definitiv zu machen. Wichtig ist, eine Verbindung zur Datenbank nur so lange wie nötig aufrecht zu erhalten."
   ]
  },
  {
   "cell_type": "code",
   "execution_count": null,
   "metadata": {},
   "outputs": [],
   "source": [
    "try:\n",
    "    dbCursor.execute('COMMIT')\n",
    "    dbConnection.close()\n",
    "except mysql.connector.Error as error:\n",
    "    print('')\n",
    "    print('DB-Fehler: {}'.format(error))\n",
    "    print('')"
   ]
  },
  {
   "cell_type": "markdown",
   "metadata": {},
   "source": [
    "## Beispiel 4: D von CRUD "
   ]
  },
  {
   "cell_type": "markdown",
   "metadata": {},
   "source": [
    "Im vierten Beispiel nehmen wir das **D** von CRUD. Mit Delete ist das Löschen von Daten in Tabellen gemeint. Dies wird mit dem SQL-Befehl _DELETE_ gemacht. "
   ]
  },
  {
   "cell_type": "markdown",
   "metadata": {},
   "source": [
    "### Verbindung zur Datenbank aufbauen"
   ]
  },
  {
   "cell_type": "markdown",
   "metadata": {},
   "source": [
    "Als erstes muss eine Verbindung zur Datenbank hergestellt werden.  "
   ]
  },
  {
   "cell_type": "code",
   "execution_count": null,
   "metadata": {},
   "outputs": [],
   "source": [
    "try:\n",
    "    dbConnection = mysql.connector.connect(host = \"localhost\", user = \"pkmlp\", passwd = \"Peter#1960\", db = \"Heizungsmonteur\")\n",
    "    print('')\n",
    "    print('DB-Verbindung erfolgreich aufgebaut')\n",
    "    print('')\n",
    "except mysql.connector.Error as error:\n",
    "    print('')\n",
    "    print('DB-Verbindung kann nicht aufgebaut werden: {}'.format(error))\n",
    "    print('')\n",
    "    print('Error-Code: ', error.errno)\n",
    "    print('Error-Message: ', error.msg)\n",
    "    print('SQLState: ', error.sqlstate)\n",
    "    print('')"
   ]
  },
  {
   "cell_type": "markdown",
   "metadata": {},
   "source": [
    "### Datenbank-Befehl aufbereiten und mittels Datenbank-Cursor absetzen"
   ]
  },
  {
   "cell_type": "markdown",
   "metadata": {},
   "source": [
    "Das auszuführende SQL-Statement wird in einer Variablen aufbereitet. "
   ]
  },
  {
   "cell_type": "code",
   "execution_count": null,
   "metadata": {},
   "outputs": [],
   "source": [
    "sqlStatement = \"DELETE FROM Monteur WHERE M_NR = 'M9';\""
   ]
  },
  {
   "cell_type": "markdown",
   "metadata": {},
   "source": [
    "Da bei der Abfrage einer relationalen Datenbanken immer eine Menge (leere Menge, eine Menge mit genau einem Attribut, oder eine Menge, die die gesamte Tabellen beinhaltet) zurückgibt, muss ein Cursor definiert werden, damit die Resultatmenge dann Zeile für Zeile abgearbeitet werden kann."
   ]
  },
  {
   "cell_type": "code",
   "execution_count": null,
   "metadata": {},
   "outputs": [],
   "source": [
    "try:\n",
    "    dbCursor = dbConnection.cursor()\n",
    "except mysql.connector.Error as error:\n",
    "    print('')\n",
    "    print('DB-Fehler: {}'.format(error))\n",
    "    print('')"
   ]
  },
  {
   "cell_type": "markdown",
   "metadata": {},
   "source": [
    "Das auszuführende SQL-Statement wird dem Cursor in der Variablen übergeben und vom Cursor ausgeführt. "
   ]
  },
  {
   "cell_type": "code",
   "execution_count": null,
   "metadata": {},
   "outputs": [],
   "source": [
    "try:\n",
    "    dbCursor.execute(sqlStatement)\n",
    "except mysql.connector.Error as error:\n",
    "    print('')\n",
    "    print('DB-Fehler: {}'.format(error))\n",
    "    print('')"
   ]
  },
  {
   "cell_type": "markdown",
   "metadata": {},
   "source": [
    "### Verbindung zur Datenbank schliessen"
   ]
  },
  {
   "cell_type": "markdown",
   "metadata": {},
   "source": [
    "Um die Änderung in der Datenbank definitiv zu machen, muss diese mit _COMMIT_ abgeschlossen und die Verbindung zur Datenbank geschlossen werden. Es wäre auch möglich, die Änderung mit Commit definitiv zu machen. Wichtig ist, eine Verbindung zur Datenbank nur so lange wie nötig aufrecht zu erhalten."
   ]
  },
  {
   "cell_type": "code",
   "execution_count": null,
   "metadata": {},
   "outputs": [],
   "source": [
    "try:\n",
    "    dbCursor.execute('COMMIT')\n",
    "    dbConnection.close()\n",
    "except mysql.connector.Error as error:\n",
    "    print('')\n",
    "    print('DB-Fehler: {}'.format(error))\n",
    "    print('')"
   ]
  },
  {
   "cell_type": "markdown",
   "metadata": {},
   "source": [
    "# That's all Folk"
   ]
  },
  {
   "cell_type": "markdown",
   "metadata": {},
   "source": [
    "Was nun noch zu tun bleibt:\n",
    "- Die abgesetzten SQL-Statements können Fehler produzieren. In der obigen Fassung werden diese nicht abgefangen. Ein Programm würde einfach abbrechen. Mit try-except Blöcken können Fehler abgefangen werden, damit die Kontrolle im Programm bleibt und entsprechend reagiert werden kann (z.B. Fehlermeldung an Benutzer ausgeben und korrigierte Parameter für die SQL-Befehle zu erfragen. "
   ]
  }
 ],
 "metadata": {
  "kernelspec": {
   "display_name": "Python 3",
   "language": "python",
   "name": "python3"
  },
  "language_info": {
   "codemirror_mode": {
    "name": "ipython",
    "version": 3
   },
   "file_extension": ".py",
   "mimetype": "text/x-python",
   "name": "python",
   "nbconvert_exporter": "python",
   "pygments_lexer": "ipython3",
   "version": "3.7.3"
  }
 },
 "nbformat": 4,
 "nbformat_minor": 1
}
